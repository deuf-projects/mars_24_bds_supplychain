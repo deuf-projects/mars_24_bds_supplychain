{
 "cells": [
  {
   "cell_type": "markdown",
   "id": "01a4b76d-59d4-4f19-9608-86bc9e720c98",
   "metadata": {},
   "source": [
    "**1. IMPORTER LES LIBRAIRIES**"
   ]
  },
  {
   "cell_type": "code",
   "execution_count": 1,
   "id": "0b3ebafe-aaa4-4553-8e91-9e911284678c",
   "metadata": {},
   "outputs": [],
   "source": [
    "import pandas as pd\n",
    "import numpy as np\n",
    "import matplotlib.pyplot as plt\n",
    "%matplotlib inline \n",
    "import seaborn as sns\n",
    "\n",
    "# Train_Test_Split\n",
    "from sklearn.model_selection import train_test_split\n",
    "\n",
    "# Analyse en Composantes Principales\n",
    "from sklearn.decomposition import PCA\n",
    "\n",
    "# Ré-échantillonnage\n",
    "from imblearn.over_sampling import RandomOverSampler\n",
    "from imblearn.under_sampling import RandomUnderSampler\n",
    "\n",
    "# Modélisation\n",
    "from sklearn.model_selection import GridSearchCV\n",
    "from sklearn.metrics import classification_report\n",
    "from imblearn.metrics import classification_report_imbalanced, geometric_mean_score\n",
    "from sklearn.metrics import f1_score\n",
    "# !pip install threadpoolctl==3.1.0\n",
    "\n",
    "import warnings\n",
    "warnings.filterwarnings('ignore')"
   ]
  },
  {
   "cell_type": "markdown",
   "id": "63ec68d9-0581-46bb-be43-1d5e2cdd7f18",
   "metadata": {},
   "source": [
    "**2. IMPORTER LE FICHIER**"
   ]
  },
  {
   "cell_type": "markdown",
   "id": "87ad82ea-e006-4328-9987-c14ce373f134",
   "metadata": {},
   "source": [
    "*a) Lemmatisation / TF-IDF / Réduction de dimension*"
   ]
  },
  {
   "cell_type": "code",
   "execution_count": 2,
   "id": "5ce9a3fc-ec0b-4b45-8538-413ab91066ab",
   "metadata": {},
   "outputs": [
    {
     "name": "stdout",
     "output_type": "stream",
     "text": [
      "<class 'pandas.core.frame.DataFrame'>\n",
      "RangeIndex: 69243 entries, 0 to 69242\n",
      "Columns: 1102 entries, 0 to y\n",
      "dtypes: float16(1101), uint8(1)\n",
      "memory usage: 145.5 MB\n"
     ]
    },
    {
     "data": {
      "text/html": [
       "<div>\n",
       "<style scoped>\n",
       "    .dataframe tbody tr th:only-of-type {\n",
       "        vertical-align: middle;\n",
       "    }\n",
       "\n",
       "    .dataframe tbody tr th {\n",
       "        vertical-align: top;\n",
       "    }\n",
       "\n",
       "    .dataframe thead th {\n",
       "        text-align: right;\n",
       "    }\n",
       "</style>\n",
       "<table border=\"1\" class=\"dataframe\">\n",
       "  <thead>\n",
       "    <tr style=\"text-align: right;\">\n",
       "      <th></th>\n",
       "      <th>0</th>\n",
       "      <th>1</th>\n",
       "      <th>2</th>\n",
       "      <th>3</th>\n",
       "      <th>4</th>\n",
       "      <th>5</th>\n",
       "      <th>6</th>\n",
       "      <th>7</th>\n",
       "      <th>8</th>\n",
       "      <th>9</th>\n",
       "      <th>...</th>\n",
       "      <th>1092</th>\n",
       "      <th>1093</th>\n",
       "      <th>1094</th>\n",
       "      <th>1095</th>\n",
       "      <th>1096</th>\n",
       "      <th>1097</th>\n",
       "      <th>1098</th>\n",
       "      <th>ponctuation</th>\n",
       "      <th>sentiment</th>\n",
       "      <th>y</th>\n",
       "    </tr>\n",
       "  </thead>\n",
       "  <tbody>\n",
       "    <tr>\n",
       "      <th>0</th>\n",
       "      <td>0.0</td>\n",
       "      <td>0.0</td>\n",
       "      <td>0.0</td>\n",
       "      <td>0.0</td>\n",
       "      <td>0.0</td>\n",
       "      <td>0.0</td>\n",
       "      <td>0.0</td>\n",
       "      <td>0.0</td>\n",
       "      <td>0.0</td>\n",
       "      <td>0.0</td>\n",
       "      <td>...</td>\n",
       "      <td>0.0</td>\n",
       "      <td>0.0</td>\n",
       "      <td>0.0</td>\n",
       "      <td>0.0</td>\n",
       "      <td>0.0</td>\n",
       "      <td>0.0</td>\n",
       "      <td>0.0</td>\n",
       "      <td>-0.147949</td>\n",
       "      <td>-4.183594</td>\n",
       "      <td>0</td>\n",
       "    </tr>\n",
       "    <tr>\n",
       "      <th>1</th>\n",
       "      <td>0.0</td>\n",
       "      <td>0.0</td>\n",
       "      <td>0.0</td>\n",
       "      <td>0.0</td>\n",
       "      <td>0.0</td>\n",
       "      <td>0.0</td>\n",
       "      <td>0.0</td>\n",
       "      <td>0.0</td>\n",
       "      <td>0.0</td>\n",
       "      <td>0.0</td>\n",
       "      <td>...</td>\n",
       "      <td>0.0</td>\n",
       "      <td>0.0</td>\n",
       "      <td>0.0</td>\n",
       "      <td>0.0</td>\n",
       "      <td>0.0</td>\n",
       "      <td>0.0</td>\n",
       "      <td>0.0</td>\n",
       "      <td>-0.147949</td>\n",
       "      <td>-3.720703</td>\n",
       "      <td>1</td>\n",
       "    </tr>\n",
       "    <tr>\n",
       "      <th>2</th>\n",
       "      <td>0.0</td>\n",
       "      <td>0.0</td>\n",
       "      <td>0.0</td>\n",
       "      <td>0.0</td>\n",
       "      <td>0.0</td>\n",
       "      <td>0.0</td>\n",
       "      <td>0.0</td>\n",
       "      <td>0.0</td>\n",
       "      <td>0.0</td>\n",
       "      <td>0.0</td>\n",
       "      <td>...</td>\n",
       "      <td>0.0</td>\n",
       "      <td>0.0</td>\n",
       "      <td>0.0</td>\n",
       "      <td>0.0</td>\n",
       "      <td>0.0</td>\n",
       "      <td>0.0</td>\n",
       "      <td>0.0</td>\n",
       "      <td>-0.147949</td>\n",
       "      <td>5.550781</td>\n",
       "      <td>1</td>\n",
       "    </tr>\n",
       "    <tr>\n",
       "      <th>3</th>\n",
       "      <td>0.0</td>\n",
       "      <td>0.0</td>\n",
       "      <td>0.0</td>\n",
       "      <td>0.0</td>\n",
       "      <td>0.0</td>\n",
       "      <td>0.0</td>\n",
       "      <td>0.0</td>\n",
       "      <td>0.0</td>\n",
       "      <td>0.0</td>\n",
       "      <td>0.0</td>\n",
       "      <td>...</td>\n",
       "      <td>0.0</td>\n",
       "      <td>0.0</td>\n",
       "      <td>0.0</td>\n",
       "      <td>0.0</td>\n",
       "      <td>0.0</td>\n",
       "      <td>0.0</td>\n",
       "      <td>0.0</td>\n",
       "      <td>-0.147949</td>\n",
       "      <td>4.390625</td>\n",
       "      <td>1</td>\n",
       "    </tr>\n",
       "    <tr>\n",
       "      <th>4</th>\n",
       "      <td>0.0</td>\n",
       "      <td>0.0</td>\n",
       "      <td>0.0</td>\n",
       "      <td>0.0</td>\n",
       "      <td>0.0</td>\n",
       "      <td>0.0</td>\n",
       "      <td>0.0</td>\n",
       "      <td>0.0</td>\n",
       "      <td>0.0</td>\n",
       "      <td>0.0</td>\n",
       "      <td>...</td>\n",
       "      <td>0.0</td>\n",
       "      <td>0.0</td>\n",
       "      <td>0.0</td>\n",
       "      <td>0.0</td>\n",
       "      <td>0.0</td>\n",
       "      <td>0.0</td>\n",
       "      <td>0.0</td>\n",
       "      <td>-0.147949</td>\n",
       "      <td>0.625488</td>\n",
       "      <td>1</td>\n",
       "    </tr>\n",
       "  </tbody>\n",
       "</table>\n",
       "<p>5 rows × 1102 columns</p>\n",
       "</div>"
      ],
      "text/plain": [
       "     0    1    2    3    4    5    6    7    8    9  ...  1092  1093  1094  \\\n",
       "0  0.0  0.0  0.0  0.0  0.0  0.0  0.0  0.0  0.0  0.0  ...   0.0   0.0   0.0   \n",
       "1  0.0  0.0  0.0  0.0  0.0  0.0  0.0  0.0  0.0  0.0  ...   0.0   0.0   0.0   \n",
       "2  0.0  0.0  0.0  0.0  0.0  0.0  0.0  0.0  0.0  0.0  ...   0.0   0.0   0.0   \n",
       "3  0.0  0.0  0.0  0.0  0.0  0.0  0.0  0.0  0.0  0.0  ...   0.0   0.0   0.0   \n",
       "4  0.0  0.0  0.0  0.0  0.0  0.0  0.0  0.0  0.0  0.0  ...   0.0   0.0   0.0   \n",
       "\n",
       "   1095  1096  1097  1098  ponctuation  sentiment  y  \n",
       "0   0.0   0.0   0.0   0.0    -0.147949  -4.183594  0  \n",
       "1   0.0   0.0   0.0   0.0    -0.147949  -3.720703  1  \n",
       "2   0.0   0.0   0.0   0.0    -0.147949   5.550781  1  \n",
       "3   0.0   0.0   0.0   0.0    -0.147949   4.390625  1  \n",
       "4   0.0   0.0   0.0   0.0    -0.147949   0.625488  1  \n",
       "\n",
       "[5 rows x 1102 columns]"
      ]
     },
     "metadata": {},
     "output_type": "display_data"
    }
   ],
   "source": [
    "df_lem = pd.read_csv(\"4. Lemmatisation_TF-IDF(Avec_Reduction).csv\").astype('float16')\n",
    "df_lem['y'] = df_lem['y'].astype('uint8')\n",
    "df_lem = df_lem.rename(columns={'1099' : 'ponctuation', '1100' : 'sentiment'})\n",
    "\n",
    "### Classification binaire\n",
    "# Classe 0 : [1, 2, 3]\n",
    "# Classe 1 : [4, 5]\n",
    "df_lem['y'] = df_lem['y'].replace((1, 2, 3, 4, 5), (0, 0, 0, 1, 1))\n",
    "\n",
    "# Classe 0 : [1, 2]\n",
    "# Classe 1 : [3, 4, 5]\n",
    "# df_lem['notes'] = df_lem['notes'].replace((1, 2, 3, 4, 5), (0, 0, 0, 1, 1))\n",
    "\n",
    "df_lem.info()\n",
    "display(df_lem.head())"
   ]
  },
  {
   "cell_type": "markdown",
   "id": "97c01f88-96fb-491f-8c16-a9926420579c",
   "metadata": {},
   "source": [
    "*b) Stemming / TF-IDF / Réduction de dimension*"
   ]
  },
  {
   "cell_type": "code",
   "execution_count": 3,
   "id": "08d94f6c-4be1-4cef-bd1d-b4b67f7a5c7d",
   "metadata": {},
   "outputs": [
    {
     "name": "stdout",
     "output_type": "stream",
     "text": [
      "<class 'pandas.core.frame.DataFrame'>\n",
      "RangeIndex: 69243 entries, 0 to 69242\n",
      "Columns: 1102 entries, 0 to y\n",
      "dtypes: float16(1101), uint8(1)\n",
      "memory usage: 145.5 MB\n"
     ]
    },
    {
     "data": {
      "text/html": [
       "<div>\n",
       "<style scoped>\n",
       "    .dataframe tbody tr th:only-of-type {\n",
       "        vertical-align: middle;\n",
       "    }\n",
       "\n",
       "    .dataframe tbody tr th {\n",
       "        vertical-align: top;\n",
       "    }\n",
       "\n",
       "    .dataframe thead th {\n",
       "        text-align: right;\n",
       "    }\n",
       "</style>\n",
       "<table border=\"1\" class=\"dataframe\">\n",
       "  <thead>\n",
       "    <tr style=\"text-align: right;\">\n",
       "      <th></th>\n",
       "      <th>0</th>\n",
       "      <th>1</th>\n",
       "      <th>2</th>\n",
       "      <th>3</th>\n",
       "      <th>4</th>\n",
       "      <th>5</th>\n",
       "      <th>6</th>\n",
       "      <th>7</th>\n",
       "      <th>8</th>\n",
       "      <th>9</th>\n",
       "      <th>...</th>\n",
       "      <th>1092</th>\n",
       "      <th>1093</th>\n",
       "      <th>1094</th>\n",
       "      <th>1095</th>\n",
       "      <th>1096</th>\n",
       "      <th>1097</th>\n",
       "      <th>1098</th>\n",
       "      <th>ponctuation</th>\n",
       "      <th>sentiment</th>\n",
       "      <th>y</th>\n",
       "    </tr>\n",
       "  </thead>\n",
       "  <tbody>\n",
       "    <tr>\n",
       "      <th>0</th>\n",
       "      <td>0.0</td>\n",
       "      <td>0.0</td>\n",
       "      <td>0.0</td>\n",
       "      <td>0.0</td>\n",
       "      <td>0.0</td>\n",
       "      <td>0.0</td>\n",
       "      <td>0.0</td>\n",
       "      <td>0.0</td>\n",
       "      <td>0.0</td>\n",
       "      <td>0.0</td>\n",
       "      <td>...</td>\n",
       "      <td>0.0</td>\n",
       "      <td>0.0</td>\n",
       "      <td>0.0</td>\n",
       "      <td>0.0</td>\n",
       "      <td>0.0</td>\n",
       "      <td>0.0</td>\n",
       "      <td>0.0</td>\n",
       "      <td>-0.147949</td>\n",
       "      <td>-4.183594</td>\n",
       "      <td>0</td>\n",
       "    </tr>\n",
       "    <tr>\n",
       "      <th>1</th>\n",
       "      <td>0.0</td>\n",
       "      <td>0.0</td>\n",
       "      <td>0.0</td>\n",
       "      <td>0.0</td>\n",
       "      <td>0.0</td>\n",
       "      <td>0.0</td>\n",
       "      <td>0.0</td>\n",
       "      <td>0.0</td>\n",
       "      <td>0.0</td>\n",
       "      <td>0.0</td>\n",
       "      <td>...</td>\n",
       "      <td>0.0</td>\n",
       "      <td>0.0</td>\n",
       "      <td>0.0</td>\n",
       "      <td>0.0</td>\n",
       "      <td>0.0</td>\n",
       "      <td>0.0</td>\n",
       "      <td>0.0</td>\n",
       "      <td>-0.147949</td>\n",
       "      <td>-3.720703</td>\n",
       "      <td>1</td>\n",
       "    </tr>\n",
       "    <tr>\n",
       "      <th>2</th>\n",
       "      <td>0.0</td>\n",
       "      <td>0.0</td>\n",
       "      <td>0.0</td>\n",
       "      <td>0.0</td>\n",
       "      <td>0.0</td>\n",
       "      <td>0.0</td>\n",
       "      <td>0.0</td>\n",
       "      <td>0.0</td>\n",
       "      <td>0.0</td>\n",
       "      <td>0.0</td>\n",
       "      <td>...</td>\n",
       "      <td>0.0</td>\n",
       "      <td>0.0</td>\n",
       "      <td>0.0</td>\n",
       "      <td>0.0</td>\n",
       "      <td>0.0</td>\n",
       "      <td>0.0</td>\n",
       "      <td>0.0</td>\n",
       "      <td>-0.147949</td>\n",
       "      <td>5.550781</td>\n",
       "      <td>1</td>\n",
       "    </tr>\n",
       "    <tr>\n",
       "      <th>3</th>\n",
       "      <td>0.0</td>\n",
       "      <td>0.0</td>\n",
       "      <td>0.0</td>\n",
       "      <td>0.0</td>\n",
       "      <td>0.0</td>\n",
       "      <td>0.0</td>\n",
       "      <td>0.0</td>\n",
       "      <td>0.0</td>\n",
       "      <td>0.0</td>\n",
       "      <td>0.0</td>\n",
       "      <td>...</td>\n",
       "      <td>0.0</td>\n",
       "      <td>0.0</td>\n",
       "      <td>0.0</td>\n",
       "      <td>0.0</td>\n",
       "      <td>0.0</td>\n",
       "      <td>0.0</td>\n",
       "      <td>0.0</td>\n",
       "      <td>-0.147949</td>\n",
       "      <td>4.390625</td>\n",
       "      <td>1</td>\n",
       "    </tr>\n",
       "    <tr>\n",
       "      <th>4</th>\n",
       "      <td>0.0</td>\n",
       "      <td>0.0</td>\n",
       "      <td>0.0</td>\n",
       "      <td>0.0</td>\n",
       "      <td>0.0</td>\n",
       "      <td>0.0</td>\n",
       "      <td>0.0</td>\n",
       "      <td>0.0</td>\n",
       "      <td>0.0</td>\n",
       "      <td>0.0</td>\n",
       "      <td>...</td>\n",
       "      <td>0.0</td>\n",
       "      <td>0.0</td>\n",
       "      <td>0.0</td>\n",
       "      <td>0.0</td>\n",
       "      <td>0.0</td>\n",
       "      <td>0.0</td>\n",
       "      <td>0.0</td>\n",
       "      <td>-0.147949</td>\n",
       "      <td>0.625488</td>\n",
       "      <td>1</td>\n",
       "    </tr>\n",
       "  </tbody>\n",
       "</table>\n",
       "<p>5 rows × 1102 columns</p>\n",
       "</div>"
      ],
      "text/plain": [
       "     0    1    2    3    4    5    6    7    8    9  ...  1092  1093  1094  \\\n",
       "0  0.0  0.0  0.0  0.0  0.0  0.0  0.0  0.0  0.0  0.0  ...   0.0   0.0   0.0   \n",
       "1  0.0  0.0  0.0  0.0  0.0  0.0  0.0  0.0  0.0  0.0  ...   0.0   0.0   0.0   \n",
       "2  0.0  0.0  0.0  0.0  0.0  0.0  0.0  0.0  0.0  0.0  ...   0.0   0.0   0.0   \n",
       "3  0.0  0.0  0.0  0.0  0.0  0.0  0.0  0.0  0.0  0.0  ...   0.0   0.0   0.0   \n",
       "4  0.0  0.0  0.0  0.0  0.0  0.0  0.0  0.0  0.0  0.0  ...   0.0   0.0   0.0   \n",
       "\n",
       "   1095  1096  1097  1098  ponctuation  sentiment  y  \n",
       "0   0.0   0.0   0.0   0.0    -0.147949  -4.183594  0  \n",
       "1   0.0   0.0   0.0   0.0    -0.147949  -3.720703  1  \n",
       "2   0.0   0.0   0.0   0.0    -0.147949   5.550781  1  \n",
       "3   0.0   0.0   0.0   0.0    -0.147949   4.390625  1  \n",
       "4   0.0   0.0   0.0   0.0    -0.147949   0.625488  1  \n",
       "\n",
       "[5 rows x 1102 columns]"
      ]
     },
     "metadata": {},
     "output_type": "display_data"
    }
   ],
   "source": [
    "df_stem = pd.read_csv(\"4. Stemming_TF-IDF(Avec_Reduction).csv\").astype('float16')\n",
    "df_stem['y'] = df_stem['y'].astype('uint8')\n",
    "df_stem = df_stem.rename(columns={'1099' : 'ponctuation', '1100' : 'sentiment'})\n",
    "\n",
    "### Classification binaire\n",
    "# Classe 0 : [1, 2, 3]\n",
    "# Classe 1 : [4, 5]\n",
    "df_stem['y'] = df_stem['y'].replace((1, 2, 3, 4, 5), (0, 0, 0, 1, 1))\n",
    "\n",
    "# Classe 0 : [1, 2]\n",
    "# Classe 1 : [3, 4, 5]\n",
    "# df_stem['notes'] = df_stem['notes'].replace((1, 2, 3, 4, 5), (0, 0, 0, 1, 1))\n",
    "\n",
    "df_stem.info()\n",
    "display(df_stem.head())"
   ]
  },
  {
   "cell_type": "markdown",
   "id": "1fc074b3-4ace-45a0-bc51-50a99906d8c1",
   "metadata": {},
   "source": [
    "**4. SEPARATION TARGET/FEATURES**"
   ]
  },
  {
   "cell_type": "markdown",
   "id": "f9f52fa5-ec4e-4ace-bdb8-c54bb27f9b22",
   "metadata": {},
   "source": [
    "*a) Lemmatisation / TF-IDF / Réduction de dimension*"
   ]
  },
  {
   "cell_type": "code",
   "execution_count": 4,
   "id": "cb60689e-dc80-44e5-8d38-1e102620959c",
   "metadata": {},
   "outputs": [],
   "source": [
    "X_lem = df_lem.drop('y', axis = 1).to_numpy()\n",
    "y_lem = df_lem['y'].to_numpy()"
   ]
  },
  {
   "cell_type": "markdown",
   "id": "b5530c31-6220-4ea4-9be2-8a05e0fee173",
   "metadata": {},
   "source": [
    "*b) Stemming / TF-IDF / Réduction de dimension*"
   ]
  },
  {
   "cell_type": "code",
   "execution_count": 5,
   "id": "b1997a4b-be23-41b6-88ed-dbeaca7ccb40",
   "metadata": {},
   "outputs": [],
   "source": [
    "X_stem = df_stem.drop('y', axis = 1).to_numpy()\n",
    "y_stem = df_stem['y'].to_numpy()"
   ]
  },
  {
   "cell_type": "markdown",
   "id": "53e63f98-b531-4691-b301-e5c09439f6a9",
   "metadata": {},
   "source": [
    "**5. TRAIN_TEST SPLIT**"
   ]
  },
  {
   "cell_type": "markdown",
   "id": "f2755d9b-eb9b-4811-a069-3fda8ab9326a",
   "metadata": {},
   "source": [
    "*a) Lemmatisation / TF-IDF / Réduction de dimension*"
   ]
  },
  {
   "cell_type": "code",
   "execution_count": 6,
   "id": "a00ccac5-0f42-4fa6-b18e-05e922c7d56e",
   "metadata": {},
   "outputs": [],
   "source": [
    "X_train_lem, X_test_lem, y_train_lem, y_test_lem = train_test_split(X_lem, y_lem, test_size=0.2, random_state = 42)"
   ]
  },
  {
   "cell_type": "code",
   "execution_count": 7,
   "id": "e9afb8ce-480e-49f1-b5fd-7df26e67e310",
   "metadata": {},
   "outputs": [
    {
     "name": "stdout",
     "output_type": "stream",
     "text": [
      "X_train_lem = (55394, 1101)\n",
      "y_train_lem = (55394,)\n",
      "X_test_lem = (13849, 1101)\n",
      "y_test_lem = (13849,)\n"
     ]
    }
   ],
   "source": [
    "# Vérification shape\n",
    "print (\"X_train_lem =\", X_train_lem.shape)\n",
    "print (\"y_train_lem =\", y_train_lem.shape)\n",
    "print (\"X_test_lem =\", X_test_lem.shape)\n",
    "print (\"y_test_lem =\", y_test_lem.shape)"
   ]
  },
  {
   "cell_type": "markdown",
   "id": "fd246eef-cafb-4e85-9938-739414ba1e2c",
   "metadata": {},
   "source": [
    "*b) Stemming / TF-IDF / Réduction de dimension*"
   ]
  },
  {
   "cell_type": "code",
   "execution_count": 8,
   "id": "25960768-a87f-4e55-b937-f651e46b455c",
   "metadata": {},
   "outputs": [],
   "source": [
    "X_train_stem, X_test_stem, y_train_stem, y_test_stem = train_test_split(X_stem, y_stem, test_size=0.2, random_state = 42)"
   ]
  },
  {
   "cell_type": "code",
   "execution_count": 9,
   "id": "b56103b3-158d-4d52-95c3-4a8dd012341d",
   "metadata": {},
   "outputs": [
    {
     "name": "stdout",
     "output_type": "stream",
     "text": [
      "X_train_stem = (55394, 1101)\n",
      "y_train_stem = (55394,)\n",
      "X_test_stem = (13849, 1101)\n",
      "y_test_stem = (13849,)\n"
     ]
    }
   ],
   "source": [
    "# Vérification shape\n",
    "print (\"X_train_stem =\", X_train_stem.shape)\n",
    "print (\"y_train_stem =\", y_train_stem.shape)\n",
    "print (\"X_test_stem =\", X_test_stem.shape)\n",
    "print (\"y_test_stem =\", y_test_stem.shape)"
   ]
  },
  {
   "cell_type": "markdown",
   "id": "cd3e0329-1d9f-44ab-b91c-2058f979b998",
   "metadata": {},
   "source": [
    "**6. ANALYSE EN COMPOSANTES PRINCIPALES (PCA)**"
   ]
  },
  {
   "cell_type": "markdown",
   "id": "5526816c-c6e7-442d-bca3-48fe521ba496",
   "metadata": {},
   "source": [
    "*a) Lemmatisation / TF-IDF / Réduction de dimension*"
   ]
  },
  {
   "cell_type": "code",
   "execution_count": 10,
   "id": "bf01a393-3c06-4c6d-ad42-6ce95e12039f",
   "metadata": {},
   "outputs": [],
   "source": [
    "# pca = PCA(n_components = 0.9)\n",
    "# X_train_lem = pca.fit_transform(X_train_lem)\n",
    "# X_test_lem = pca.transform(X_test_lem)\n",
    "# print(\"Nombre de composantes retenues :\", pca.n_components_)"
   ]
  },
  {
   "cell_type": "markdown",
   "id": "b93f1b95-13f4-42b1-ab1f-4a7d86e0b9ed",
   "metadata": {},
   "source": [
    "*b) Stemming / TF-IDF / Réduction de dimension*"
   ]
  },
  {
   "cell_type": "code",
   "execution_count": 11,
   "id": "3cdfaa7c-9374-41f4-8201-e538895a3008",
   "metadata": {},
   "outputs": [],
   "source": [
    "# pca = PCA(n_components = 0.9)\n",
    "# X_train_stem = pca.fit_transform(X_train_stem)\n",
    "# X_test_stem = pca.transform(X_test_stem)\n",
    "# print(\"Nombre de composantes retenues :\", pca.n_components_)"
   ]
  },
  {
   "cell_type": "markdown",
   "id": "1bce510d-b558-490f-ae0d-ec2ffc195212",
   "metadata": {},
   "source": [
    "**7. RE-ECHANTILLONNAGE**"
   ]
  },
  {
   "cell_type": "markdown",
   "id": "a9c95c21-bf79-453b-920b-b790c9db2b5b",
   "metadata": {},
   "source": [
    "*1. Undersampling*"
   ]
  },
  {
   "cell_type": "code",
   "execution_count": 12,
   "id": "2c0ad222-6ee1-4ec0-ba66-09c360c02e97",
   "metadata": {},
   "outputs": [],
   "source": [
    "rUs = RandomUnderSampler(random_state = 42)"
   ]
  },
  {
   "cell_type": "code",
   "execution_count": 13,
   "id": "7c8e4232-65e0-40f6-90fb-c9a5af581d8b",
   "metadata": {},
   "outputs": [
    {
     "name": "stdout",
     "output_type": "stream",
     "text": [
      "Classes échantillon undersampled lemmatisation : {0: 11376, 1: 11376}\n"
     ]
    }
   ],
   "source": [
    "# a) Lemmatisation / TF-IDF / Réduction de dimension\n",
    "X_ru_lem, y_ru_lem = rUs.fit_resample(X_train_lem, y_train_lem)\n",
    "print('Classes échantillon undersampled lemmatisation :', dict(pd.Series(y_ru_lem).value_counts()))"
   ]
  },
  {
   "cell_type": "code",
   "execution_count": 14,
   "id": "a0c3869d-5cd3-4ce1-988f-ba766c8f8d8c",
   "metadata": {},
   "outputs": [
    {
     "name": "stdout",
     "output_type": "stream",
     "text": [
      "Classes échantillon undersampled stemming : {0: 11376, 1: 11376}\n"
     ]
    }
   ],
   "source": [
    "# b) Stemming / TF-IDF / Réduction de dimension\n",
    "X_ru_stem, y_ru_stem = rUs.fit_resample(X_train_stem, y_train_stem)\n",
    "print('Classes échantillon undersampled stemming :', dict(pd.Series(y_ru_stem).value_counts()))"
   ]
  },
  {
   "cell_type": "markdown",
   "id": "954215ec-f6b3-4c62-85c5-3898f48d53ea",
   "metadata": {},
   "source": [
    "*2. Oversampling*"
   ]
  },
  {
   "cell_type": "code",
   "execution_count": 15,
   "id": "c0d3aee2-ff4a-40c5-b1a2-e508646b7068",
   "metadata": {},
   "outputs": [],
   "source": [
    "rOs = RandomOverSampler(random_state = 42)"
   ]
  },
  {
   "cell_type": "code",
   "execution_count": 16,
   "id": "9551373d-1593-4141-ab2c-efd95ce4992e",
   "metadata": {},
   "outputs": [
    {
     "name": "stdout",
     "output_type": "stream",
     "text": [
      "Classes échantillon oversampled lemmatisation : {1: 44018, 0: 44018}\n"
     ]
    }
   ],
   "source": [
    "# a) Lemmatisation / TF-IDF / Réduction de dimension\n",
    "X_ro_lem, y_ro_lem = rOs.fit_resample(X_train_lem, y_train_lem)\n",
    "print('Classes échantillon oversampled lemmatisation :', dict(pd.Series(y_ro_lem).value_counts()))"
   ]
  },
  {
   "cell_type": "code",
   "execution_count": 17,
   "id": "56b12295-7d8e-4f0e-abc2-a4c3a4fab6cd",
   "metadata": {},
   "outputs": [
    {
     "name": "stdout",
     "output_type": "stream",
     "text": [
      "Classes échantillon oversampled stemming : {1: 44018, 0: 44018}\n"
     ]
    }
   ],
   "source": [
    "# b) Stemming / TF-IDF / Réduction de dimension\n",
    "X_ro_stem, y_ro_stem = rOs.fit_resample(X_train_stem, y_train_stem)\n",
    "print('Classes échantillon oversampled stemming :', dict(pd.Series(y_ro_stem).value_counts()))"
   ]
  },
  {
   "cell_type": "markdown",
   "id": "4017c2e6-d729-4a99-a9e8-e85944489327",
   "metadata": {},
   "source": [
    "**8. MODELISATION (GRIDSEARCHCV)**"
   ]
  },
  {
   "cell_type": "markdown",
   "id": "7a29eee3-2942-4616-ac93-dac57ec88c01",
   "metadata": {},
   "source": [
    "On se contentera d'entraîner nos modèles avec l'Undersampling pour les GridSearchCV."
   ]
  },
  {
   "cell_type": "code",
   "execution_count": 18,
   "id": "dfe48818-9897-4e2c-87e7-3258a1c7e947",
   "metadata": {},
   "outputs": [],
   "source": [
    "# f1_score : Lemmatisation\n",
    "score_lem = []\n",
    "f1_score_lem = []\n",
    "\n",
    "# f1_score : Stemming\n",
    "score_stem = []\n",
    "f1_score_stem = []"
   ]
  },
  {
   "cell_type": "markdown",
   "id": "7e834859-d7b5-437d-98d9-e99f21b994d0",
   "metadata": {},
   "source": [
    "**1) MODELE 1 : SVC**"
   ]
  },
  {
   "cell_type": "code",
   "execution_count": 19,
   "id": "0fc88885-5ec6-44ac-92fa-5a1e0fd8721d",
   "metadata": {},
   "outputs": [],
   "source": [
    "from sklearn.svm import SVC\n",
    "clf_svc = SVC(random_state=42)\n",
    "params_svc = [{'kernel': ['rbf', 'linear'], 'C': [0.01, 0.1, 1, 10]}]"
   ]
  },
  {
   "cell_type": "markdown",
   "id": "3368e1b6-4e70-47ea-8e74-623a5f7bd669",
   "metadata": {},
   "source": [
    "*a. Lemmatisation / Undersampling*"
   ]
  },
  {
   "cell_type": "code",
   "execution_count": 20,
   "id": "a29af0ed-e6c1-47e3-8de9-7f19d0d82a69",
   "metadata": {},
   "outputs": [
    {
     "name": "stdout",
     "output_type": "stream",
     "text": [
      "Hyperparamètres retenus : {'C': 1, 'kernel': 'linear'}\n",
      "Score du modèle : 0.7648205646617086\n",
      "                   pre       rec       spe        f1       geo       iba       sup\n",
      "\n",
      "          0       0.45      0.76      0.77      0.57      0.76      0.58      2816\n",
      "          1       0.93      0.77      0.76      0.84      0.76      0.58     11033\n",
      "\n",
      "avg / total       0.83      0.76      0.76      0.78      0.76      0.58     13849\n",
      "\n"
     ]
    },
    {
     "data": {
      "text/html": [
       "<div>\n",
       "<style scoped>\n",
       "    .dataframe tbody tr th:only-of-type {\n",
       "        vertical-align: middle;\n",
       "    }\n",
       "\n",
       "    .dataframe tbody tr th {\n",
       "        vertical-align: top;\n",
       "    }\n",
       "\n",
       "    .dataframe thead th {\n",
       "        text-align: right;\n",
       "    }\n",
       "</style>\n",
       "<table border=\"1\" class=\"dataframe\">\n",
       "  <thead>\n",
       "    <tr style=\"text-align: right;\">\n",
       "      <th>Classe prédite</th>\n",
       "      <th>0</th>\n",
       "      <th>1</th>\n",
       "    </tr>\n",
       "    <tr>\n",
       "      <th>Classe réelle</th>\n",
       "      <th></th>\n",
       "      <th></th>\n",
       "    </tr>\n",
       "  </thead>\n",
       "  <tbody>\n",
       "    <tr>\n",
       "      <th>0</th>\n",
       "      <td>2145</td>\n",
       "      <td>671</td>\n",
       "    </tr>\n",
       "    <tr>\n",
       "      <th>1</th>\n",
       "      <td>2586</td>\n",
       "      <td>8447</td>\n",
       "    </tr>\n",
       "  </tbody>\n",
       "</table>\n",
       "</div>"
      ],
      "text/plain": [
       "Classe prédite     0     1\n",
       "Classe réelle             \n",
       "0               2145   671\n",
       "1               2586  8447"
      ]
     },
     "metadata": {},
     "output_type": "display_data"
    }
   ],
   "source": [
    "gridsearch = GridSearchCV(estimator = clf_svc, param_grid = params_svc, scoring = 'f1_micro', cv=3, n_jobs = -1)\n",
    "grille = gridsearch.fit(X_ru_lem, y_ru_lem)\n",
    "print(\"Hyperparamètres retenus :\", grille.best_params_)\n",
    "\n",
    "y_pred_lem = gridsearch.predict(X_test_lem)\n",
    "score = gridsearch.score(X_test_lem, y_test_lem)\n",
    "print(\"Score du modèle :\", score)\n",
    "score_lem.append(score)\n",
    "\n",
    "print(classification_report_imbalanced(y_test_lem, y_pred_lem))\n",
    "\n",
    "confusion_matrix = pd.crosstab(y_test_lem, y_pred_lem, rownames=['Classe réelle'], colnames=['Classe prédite'])\n",
    "display(confusion_matrix)\n",
    "\n",
    "f1_score_lem.append(f1_score(y_test_lem, y_pred_lem, average='weighted'))\n",
    "SVC_f1_lem = f1_score(y_test_lem, y_pred_lem, average=None)"
   ]
  },
  {
   "cell_type": "markdown",
   "id": "0cdf28fe-401b-43cd-8b90-04a73b44a11a",
   "metadata": {},
   "source": [
    "*b. Stemming / Undersampling*"
   ]
  },
  {
   "cell_type": "code",
   "execution_count": 21,
   "id": "78368d3e-b779-40f5-a2e5-a7f1041220d2",
   "metadata": {},
   "outputs": [
    {
     "name": "stdout",
     "output_type": "stream",
     "text": [
      "Hyperparamètres retenus : {'C': 1, 'kernel': 'linear'}\n",
      "Score du modèle : 0.7648205646617086\n",
      "                   pre       rec       spe        f1       geo       iba       sup\n",
      "\n",
      "          0       0.45      0.76      0.77      0.57      0.76      0.58      2816\n",
      "          1       0.93      0.77      0.76      0.84      0.76      0.58     11033\n",
      "\n",
      "avg / total       0.83      0.76      0.76      0.78      0.76      0.58     13849\n",
      "\n"
     ]
    },
    {
     "data": {
      "text/html": [
       "<div>\n",
       "<style scoped>\n",
       "    .dataframe tbody tr th:only-of-type {\n",
       "        vertical-align: middle;\n",
       "    }\n",
       "\n",
       "    .dataframe tbody tr th {\n",
       "        vertical-align: top;\n",
       "    }\n",
       "\n",
       "    .dataframe thead th {\n",
       "        text-align: right;\n",
       "    }\n",
       "</style>\n",
       "<table border=\"1\" class=\"dataframe\">\n",
       "  <thead>\n",
       "    <tr style=\"text-align: right;\">\n",
       "      <th>Classe prédite</th>\n",
       "      <th>0</th>\n",
       "      <th>1</th>\n",
       "    </tr>\n",
       "    <tr>\n",
       "      <th>Classe réelle</th>\n",
       "      <th></th>\n",
       "      <th></th>\n",
       "    </tr>\n",
       "  </thead>\n",
       "  <tbody>\n",
       "    <tr>\n",
       "      <th>0</th>\n",
       "      <td>2145</td>\n",
       "      <td>671</td>\n",
       "    </tr>\n",
       "    <tr>\n",
       "      <th>1</th>\n",
       "      <td>2586</td>\n",
       "      <td>8447</td>\n",
       "    </tr>\n",
       "  </tbody>\n",
       "</table>\n",
       "</div>"
      ],
      "text/plain": [
       "Classe prédite     0     1\n",
       "Classe réelle             \n",
       "0               2145   671\n",
       "1               2586  8447"
      ]
     },
     "metadata": {},
     "output_type": "display_data"
    }
   ],
   "source": [
    "gridsearch = GridSearchCV(estimator = clf_svc, param_grid = params_svc, scoring = 'f1_micro', cv=3, n_jobs = -1)\n",
    "grille = gridsearch.fit(X_ru_stem, y_ru_stem)\n",
    "print(\"Hyperparamètres retenus :\", grille.best_params_)\n",
    "\n",
    "y_pred_stem = gridsearch.predict(X_test_stem)\n",
    "score = gridsearch.score(X_test_stem, y_test_stem)\n",
    "print(\"Score du modèle :\", score)\n",
    "score_stem.append(score)\n",
    "\n",
    "print(classification_report_imbalanced(y_test_stem, y_pred_stem))\n",
    "\n",
    "confusion_matrix = pd.crosstab(y_test_stem, y_pred_stem, rownames=['Classe réelle'], colnames=['Classe prédite'])\n",
    "display(confusion_matrix)\n",
    "\n",
    "f1_score_stem.append(f1_score(y_test_stem, y_pred_stem, average='weighted'))\n",
    "SVC_f1_stem = f1_score(y_test_stem, y_pred_stem, average=None)"
   ]
  },
  {
   "cell_type": "markdown",
   "id": "ba646c2b-9d8b-4ebd-8988-1e3bc8064de4",
   "metadata": {},
   "source": [
    "**2) MODELE 2 : Régression Logistique**"
   ]
  },
  {
   "cell_type": "code",
   "execution_count": 22,
   "id": "58caf649-cfa7-454a-9e5e-d42eb161adc9",
   "metadata": {},
   "outputs": [],
   "source": [
    "from sklearn.linear_model import LogisticRegression\n",
    "clf_lr = LogisticRegression(random_state=42)\n",
    "param_lr = [{'solver': ['liblinear', 'lbfgs'], 'C': [0.01, 0.1, 1, 10]}]"
   ]
  },
  {
   "cell_type": "markdown",
   "id": "7b109848-8ea2-429e-817c-82b308dbad19",
   "metadata": {},
   "source": [
    "*a. Lemmatisation / Undersampling*"
   ]
  },
  {
   "cell_type": "code",
   "execution_count": 23,
   "id": "8bcf0aca-7081-4fe1-99a2-b4582069bb96",
   "metadata": {},
   "outputs": [
    {
     "name": "stdout",
     "output_type": "stream",
     "text": [
      "Hyperparamètres retenus : {'C': 1, 'solver': 'lbfgs'}\n",
      "Score du modèle : 0.764315113004549\n",
      "                   pre       rec       spe        f1       geo       iba       sup\n",
      "\n",
      "          0       0.45      0.76      0.76      0.57      0.76      0.58      2816\n",
      "          1       0.93      0.76      0.76      0.84      0.76      0.58     11033\n",
      "\n",
      "avg / total       0.83      0.76      0.76      0.78      0.76      0.58     13849\n",
      "\n"
     ]
    },
    {
     "data": {
      "text/html": [
       "<div>\n",
       "<style scoped>\n",
       "    .dataframe tbody tr th:only-of-type {\n",
       "        vertical-align: middle;\n",
       "    }\n",
       "\n",
       "    .dataframe tbody tr th {\n",
       "        vertical-align: top;\n",
       "    }\n",
       "\n",
       "    .dataframe thead th {\n",
       "        text-align: right;\n",
       "    }\n",
       "</style>\n",
       "<table border=\"1\" class=\"dataframe\">\n",
       "  <thead>\n",
       "    <tr style=\"text-align: right;\">\n",
       "      <th>Classe prédite</th>\n",
       "      <th>0</th>\n",
       "      <th>1</th>\n",
       "    </tr>\n",
       "    <tr>\n",
       "      <th>Classe réelle</th>\n",
       "      <th></th>\n",
       "      <th></th>\n",
       "    </tr>\n",
       "  </thead>\n",
       "  <tbody>\n",
       "    <tr>\n",
       "      <th>0</th>\n",
       "      <td>2150</td>\n",
       "      <td>666</td>\n",
       "    </tr>\n",
       "    <tr>\n",
       "      <th>1</th>\n",
       "      <td>2598</td>\n",
       "      <td>8435</td>\n",
       "    </tr>\n",
       "  </tbody>\n",
       "</table>\n",
       "</div>"
      ],
      "text/plain": [
       "Classe prédite     0     1\n",
       "Classe réelle             \n",
       "0               2150   666\n",
       "1               2598  8435"
      ]
     },
     "metadata": {},
     "output_type": "display_data"
    }
   ],
   "source": [
    "gridsearch = GridSearchCV(estimator = clf_lr, param_grid = param_lr, scoring = 'f1_micro', cv=3, n_jobs = -1)\n",
    "grille = gridsearch.fit(X_ru_lem, y_ru_lem)\n",
    "print(\"Hyperparamètres retenus :\", grille.best_params_)\n",
    "\n",
    "y_pred_lem = gridsearch.predict(X_test_lem)\n",
    "score = gridsearch.score(X_test_lem, y_test_lem)\n",
    "print(\"Score du modèle :\", score)\n",
    "score_lem.append(score)\n",
    "\n",
    "print(classification_report_imbalanced(y_test_lem, y_pred_lem))\n",
    "\n",
    "confusion_matrix = pd.crosstab(y_test_lem, y_pred_lem, rownames=['Classe réelle'], colnames=['Classe prédite'])\n",
    "display(confusion_matrix)\n",
    "\n",
    "f1_score_lem.append(f1_score(y_test_lem, y_pred_lem, average='weighted'))\n",
    "LR_f1_lem = f1_score(y_test_lem, y_pred_lem, average=None)"
   ]
  },
  {
   "cell_type": "markdown",
   "id": "9275db40-7efe-4a82-ad9e-b2927fbed5af",
   "metadata": {},
   "source": [
    "*b. Stemming / Undersampling*"
   ]
  },
  {
   "cell_type": "code",
   "execution_count": 24,
   "id": "8f108a95-9cdc-4f68-9610-850b199bf244",
   "metadata": {},
   "outputs": [
    {
     "name": "stdout",
     "output_type": "stream",
     "text": [
      "Hyperparamètres retenus : {'C': 1, 'solver': 'lbfgs'}\n",
      "Score du modèle : 0.764315113004549\n",
      "                   pre       rec       spe        f1       geo       iba       sup\n",
      "\n",
      "          0       0.45      0.76      0.76      0.57      0.76      0.58      2816\n",
      "          1       0.93      0.76      0.76      0.84      0.76      0.58     11033\n",
      "\n",
      "avg / total       0.83      0.76      0.76      0.78      0.76      0.58     13849\n",
      "\n"
     ]
    },
    {
     "data": {
      "text/html": [
       "<div>\n",
       "<style scoped>\n",
       "    .dataframe tbody tr th:only-of-type {\n",
       "        vertical-align: middle;\n",
       "    }\n",
       "\n",
       "    .dataframe tbody tr th {\n",
       "        vertical-align: top;\n",
       "    }\n",
       "\n",
       "    .dataframe thead th {\n",
       "        text-align: right;\n",
       "    }\n",
       "</style>\n",
       "<table border=\"1\" class=\"dataframe\">\n",
       "  <thead>\n",
       "    <tr style=\"text-align: right;\">\n",
       "      <th>Classe prédite</th>\n",
       "      <th>0</th>\n",
       "      <th>1</th>\n",
       "    </tr>\n",
       "    <tr>\n",
       "      <th>Classe réelle</th>\n",
       "      <th></th>\n",
       "      <th></th>\n",
       "    </tr>\n",
       "  </thead>\n",
       "  <tbody>\n",
       "    <tr>\n",
       "      <th>0</th>\n",
       "      <td>2150</td>\n",
       "      <td>666</td>\n",
       "    </tr>\n",
       "    <tr>\n",
       "      <th>1</th>\n",
       "      <td>2598</td>\n",
       "      <td>8435</td>\n",
       "    </tr>\n",
       "  </tbody>\n",
       "</table>\n",
       "</div>"
      ],
      "text/plain": [
       "Classe prédite     0     1\n",
       "Classe réelle             \n",
       "0               2150   666\n",
       "1               2598  8435"
      ]
     },
     "metadata": {},
     "output_type": "display_data"
    }
   ],
   "source": [
    "gridsearch = GridSearchCV(estimator = clf_lr, param_grid = param_lr, scoring = 'f1_micro', cv=3, n_jobs = -1)\n",
    "grille = gridsearch.fit(X_ru_stem, y_ru_stem)\n",
    "print(\"Hyperparamètres retenus :\", grille.best_params_)\n",
    "\n",
    "y_pred_stem = gridsearch.predict(X_test_stem)\n",
    "score = gridsearch.score(X_test_stem, y_test_stem)\n",
    "print(\"Score du modèle :\", score)\n",
    "score_stem.append(score)\n",
    "\n",
    "print(classification_report_imbalanced(y_test_stem, y_pred_stem))\n",
    "\n",
    "confusion_matrix = pd.crosstab(y_test_stem, y_pred_stem, rownames=['Classe réelle'], colnames=['Classe prédite'])\n",
    "display(confusion_matrix)\n",
    "\n",
    "f1_score_stem.append(f1_score(y_test_stem, y_pred_stem, average='weighted'))\n",
    "LR_f1_stem = f1_score(y_test_stem, y_pred_stem, average=None)"
   ]
  },
  {
   "cell_type": "markdown",
   "id": "3aae1636-0c88-46fc-a3c6-a33550cd9aba",
   "metadata": {},
   "source": [
    "**3) MODELE 3 : K Neighbors**"
   ]
  },
  {
   "cell_type": "code",
   "execution_count": 25,
   "id": "bb257863-ede6-414d-abe0-4cf1d27e53ac",
   "metadata": {},
   "outputs": [],
   "source": [
    "from sklearn import neighbors\n",
    "clf_knn = neighbors.KNeighborsClassifier()\n",
    "params_knn = [{'n_neighbors': [3, 5, 10, 20, 30]}]"
   ]
  },
  {
   "cell_type": "markdown",
   "id": "8a60295f-378b-4ac5-91f4-b245636b0afd",
   "metadata": {},
   "source": [
    "*a. Lemmatisation / Undersampling*"
   ]
  },
  {
   "cell_type": "code",
   "execution_count": 26,
   "id": "eb559a79-1b1f-4301-98e9-62a5108c18de",
   "metadata": {},
   "outputs": [
    {
     "name": "stdout",
     "output_type": "stream",
     "text": [
      "Hyperparamètres retenus : {'n_neighbors': 30}\n",
      "Score du modèle : 0.71940212289696\n",
      "                   pre       rec       spe        f1       geo       iba       sup\n",
      "\n",
      "          0       0.39      0.69      0.73      0.50      0.71      0.50      2816\n",
      "          1       0.90      0.73      0.69      0.81      0.71      0.50     11033\n",
      "\n",
      "avg / total       0.80      0.72      0.70      0.74      0.71      0.50     13849\n",
      "\n"
     ]
    },
    {
     "data": {
      "text/html": [
       "<div>\n",
       "<style scoped>\n",
       "    .dataframe tbody tr th:only-of-type {\n",
       "        vertical-align: middle;\n",
       "    }\n",
       "\n",
       "    .dataframe tbody tr th {\n",
       "        vertical-align: top;\n",
       "    }\n",
       "\n",
       "    .dataframe thead th {\n",
       "        text-align: right;\n",
       "    }\n",
       "</style>\n",
       "<table border=\"1\" class=\"dataframe\">\n",
       "  <thead>\n",
       "    <tr style=\"text-align: right;\">\n",
       "      <th>Classe prédite</th>\n",
       "      <th>0</th>\n",
       "      <th>1</th>\n",
       "    </tr>\n",
       "    <tr>\n",
       "      <th>Classe réelle</th>\n",
       "      <th></th>\n",
       "      <th></th>\n",
       "    </tr>\n",
       "  </thead>\n",
       "  <tbody>\n",
       "    <tr>\n",
       "      <th>0</th>\n",
       "      <td>1936</td>\n",
       "      <td>880</td>\n",
       "    </tr>\n",
       "    <tr>\n",
       "      <th>1</th>\n",
       "      <td>3006</td>\n",
       "      <td>8027</td>\n",
       "    </tr>\n",
       "  </tbody>\n",
       "</table>\n",
       "</div>"
      ],
      "text/plain": [
       "Classe prédite     0     1\n",
       "Classe réelle             \n",
       "0               1936   880\n",
       "1               3006  8027"
      ]
     },
     "metadata": {},
     "output_type": "display_data"
    }
   ],
   "source": [
    "gridsearch = GridSearchCV(estimator = clf_knn, param_grid = params_knn, scoring = 'f1_micro', cv=3, n_jobs = -1)\n",
    "grille = gridsearch.fit(X_ru_lem, y_ru_lem)\n",
    "print(\"Hyperparamètres retenus :\", grille.best_params_)\n",
    "\n",
    "y_pred_lem = gridsearch.predict(X_test_lem)\n",
    "score = gridsearch.score(X_test_lem, y_test_lem)\n",
    "print(\"Score du modèle :\", score)\n",
    "score_lem.append(score)\n",
    "\n",
    "print(classification_report_imbalanced(y_test_lem, y_pred_lem))\n",
    "\n",
    "confusion_matrix = pd.crosstab(y_test_lem, y_pred_lem, rownames=['Classe réelle'], colnames=['Classe prédite'])\n",
    "display(confusion_matrix)\n",
    "\n",
    "f1_score_lem.append(f1_score(y_test_lem, y_pred_lem, average='weighted'))\n",
    "KNN_f1_lem = f1_score(y_test_lem, y_pred_lem, average=None)"
   ]
  },
  {
   "cell_type": "markdown",
   "id": "68e0159e-427e-4ac8-aff7-b8877f0ae694",
   "metadata": {},
   "source": [
    "*b. Stemming / Undersampling*"
   ]
  },
  {
   "cell_type": "code",
   "execution_count": 27,
   "id": "4fa053de-c406-4779-9142-24e5a6900690",
   "metadata": {},
   "outputs": [
    {
     "name": "stdout",
     "output_type": "stream",
     "text": [
      "Hyperparamètres retenus : {'n_neighbors': 30}\n",
      "Score du modèle : 0.71940212289696\n",
      "                   pre       rec       spe        f1       geo       iba       sup\n",
      "\n",
      "          0       0.39      0.69      0.73      0.50      0.71      0.50      2816\n",
      "          1       0.90      0.73      0.69      0.81      0.71      0.50     11033\n",
      "\n",
      "avg / total       0.80      0.72      0.70      0.74      0.71      0.50     13849\n",
      "\n"
     ]
    },
    {
     "data": {
      "text/html": [
       "<div>\n",
       "<style scoped>\n",
       "    .dataframe tbody tr th:only-of-type {\n",
       "        vertical-align: middle;\n",
       "    }\n",
       "\n",
       "    .dataframe tbody tr th {\n",
       "        vertical-align: top;\n",
       "    }\n",
       "\n",
       "    .dataframe thead th {\n",
       "        text-align: right;\n",
       "    }\n",
       "</style>\n",
       "<table border=\"1\" class=\"dataframe\">\n",
       "  <thead>\n",
       "    <tr style=\"text-align: right;\">\n",
       "      <th>Classe prédite</th>\n",
       "      <th>0</th>\n",
       "      <th>1</th>\n",
       "    </tr>\n",
       "    <tr>\n",
       "      <th>Classe réelle</th>\n",
       "      <th></th>\n",
       "      <th></th>\n",
       "    </tr>\n",
       "  </thead>\n",
       "  <tbody>\n",
       "    <tr>\n",
       "      <th>0</th>\n",
       "      <td>1936</td>\n",
       "      <td>880</td>\n",
       "    </tr>\n",
       "    <tr>\n",
       "      <th>1</th>\n",
       "      <td>3006</td>\n",
       "      <td>8027</td>\n",
       "    </tr>\n",
       "  </tbody>\n",
       "</table>\n",
       "</div>"
      ],
      "text/plain": [
       "Classe prédite     0     1\n",
       "Classe réelle             \n",
       "0               1936   880\n",
       "1               3006  8027"
      ]
     },
     "metadata": {},
     "output_type": "display_data"
    }
   ],
   "source": [
    "gridsearch = GridSearchCV(estimator = clf_knn, param_grid = params_knn, scoring = 'f1_micro', cv=3, n_jobs = -1)\n",
    "grille = gridsearch.fit(X_ru_stem, y_ru_stem)\n",
    "print(\"Hyperparamètres retenus :\", grille.best_params_)\n",
    "\n",
    "y_pred_stem = gridsearch.predict(X_test_stem)\n",
    "score = gridsearch.score(X_test_stem, y_test_stem)\n",
    "print(\"Score du modèle :\", score)\n",
    "score_stem.append(score)\n",
    "\n",
    "print(classification_report_imbalanced(y_test_stem, y_pred_stem))\n",
    "\n",
    "confusion_matrix = pd.crosstab(y_test_stem, y_pred_stem, rownames=['Classe réelle'], colnames=['Classe prédite'])\n",
    "display(confusion_matrix)\n",
    "\n",
    "f1_score_stem.append(f1_score(y_test_stem, y_pred_stem, average='weighted'))\n",
    "KNN_f1_stem = f1_score(y_test_stem, y_pred_stem, average=None)"
   ]
  },
  {
   "cell_type": "markdown",
   "id": "b1ddf2da-9bce-4270-a78c-5cc26b3074dd",
   "metadata": {},
   "source": [
    "**4) MODELE 4 : Random Forest**"
   ]
  },
  {
   "cell_type": "code",
   "execution_count": 28,
   "id": "f2347cac-157c-460f-b625-06274a688642",
   "metadata": {},
   "outputs": [],
   "source": [
    "from sklearn.ensemble import RandomForestClassifier\n",
    "clf_rf = RandomForestClassifier(random_state=42)\n",
    "params_rf = [{'n_estimators': [10, 50, 100, 250, 500], 'min_samples_leaf': [1, 3, 5, 8, 10], 'max_features': ['sqrt', 'log2', 'None']}]"
   ]
  },
  {
   "cell_type": "markdown",
   "id": "8438a9c7-e2f9-400f-bab3-56365e0ab225",
   "metadata": {},
   "source": [
    "*a. Lemmatisation / Undersampling*"
   ]
  },
  {
   "cell_type": "code",
   "execution_count": 29,
   "id": "d3db5e69-43f5-4ca9-aa8f-2e4e9d5e397b",
   "metadata": {},
   "outputs": [
    {
     "name": "stdout",
     "output_type": "stream",
     "text": [
      "Hyperparamètres retenus : {'max_features': 'log2', 'min_samples_leaf': 1, 'n_estimators': 500}\n",
      "Score du modèle : 0.7646761499025201\n",
      "                   pre       rec       spe        f1       geo       iba       sup\n",
      "\n",
      "          0       0.45      0.79      0.76      0.58      0.77      0.60      2816\n",
      "          1       0.93      0.76      0.79      0.84      0.77      0.60     11033\n",
      "\n",
      "avg / total       0.84      0.76      0.78      0.78      0.77      0.60     13849\n",
      "\n"
     ]
    },
    {
     "data": {
      "text/html": [
       "<div>\n",
       "<style scoped>\n",
       "    .dataframe tbody tr th:only-of-type {\n",
       "        vertical-align: middle;\n",
       "    }\n",
       "\n",
       "    .dataframe tbody tr th {\n",
       "        vertical-align: top;\n",
       "    }\n",
       "\n",
       "    .dataframe thead th {\n",
       "        text-align: right;\n",
       "    }\n",
       "</style>\n",
       "<table border=\"1\" class=\"dataframe\">\n",
       "  <thead>\n",
       "    <tr style=\"text-align: right;\">\n",
       "      <th>Classe prédite</th>\n",
       "      <th>0</th>\n",
       "      <th>1</th>\n",
       "    </tr>\n",
       "    <tr>\n",
       "      <th>Classe réelle</th>\n",
       "      <th></th>\n",
       "      <th></th>\n",
       "    </tr>\n",
       "  </thead>\n",
       "  <tbody>\n",
       "    <tr>\n",
       "      <th>0</th>\n",
       "      <td>2213</td>\n",
       "      <td>603</td>\n",
       "    </tr>\n",
       "    <tr>\n",
       "      <th>1</th>\n",
       "      <td>2656</td>\n",
       "      <td>8377</td>\n",
       "    </tr>\n",
       "  </tbody>\n",
       "</table>\n",
       "</div>"
      ],
      "text/plain": [
       "Classe prédite     0     1\n",
       "Classe réelle             \n",
       "0               2213   603\n",
       "1               2656  8377"
      ]
     },
     "metadata": {},
     "output_type": "display_data"
    }
   ],
   "source": [
    "gridsearch = GridSearchCV(estimator = clf_rf, param_grid = params_rf, scoring = 'f1_micro', cv=3, n_jobs = -1)\n",
    "grille = gridsearch.fit(X_ru_lem, y_ru_lem)\n",
    "print(\"Hyperparamètres retenus :\", grille.best_params_)\n",
    "\n",
    "y_pred_lem = gridsearch.predict(X_test_lem)\n",
    "score = gridsearch.score(X_test_lem, y_test_lem)\n",
    "print(\"Score du modèle :\", score)\n",
    "score_lem.append(score)\n",
    "\n",
    "print(classification_report_imbalanced(y_test_lem, y_pred_lem))\n",
    "\n",
    "confusion_matrix = pd.crosstab(y_test_lem, y_pred_lem, rownames=['Classe réelle'], colnames=['Classe prédite'])\n",
    "display(confusion_matrix)\n",
    "\n",
    "f1_score_lem.append(f1_score(y_test_lem, y_pred_lem, average='weighted'))\n",
    "RF_f1_lem = f1_score(y_test_lem, y_pred_lem, average=None)"
   ]
  },
  {
   "cell_type": "markdown",
   "id": "ab65bb1a-1177-4209-83e3-fe42b7b4f53b",
   "metadata": {},
   "source": [
    "*b. Stemming / Undersampling*"
   ]
  },
  {
   "cell_type": "code",
   "execution_count": 30,
   "id": "07f79cae-8c11-4cbf-b430-6e55e2f4788d",
   "metadata": {},
   "outputs": [
    {
     "name": "stdout",
     "output_type": "stream",
     "text": [
      "Hyperparamètres retenus : {'max_features': 'log2', 'min_samples_leaf': 1, 'n_estimators': 500}\n",
      "Score du modèle : 0.7646761499025201\n",
      "                   pre       rec       spe        f1       geo       iba       sup\n",
      "\n",
      "          0       0.45      0.79      0.76      0.58      0.77      0.60      2816\n",
      "          1       0.93      0.76      0.79      0.84      0.77      0.60     11033\n",
      "\n",
      "avg / total       0.84      0.76      0.78      0.78      0.77      0.60     13849\n",
      "\n"
     ]
    },
    {
     "data": {
      "text/html": [
       "<div>\n",
       "<style scoped>\n",
       "    .dataframe tbody tr th:only-of-type {\n",
       "        vertical-align: middle;\n",
       "    }\n",
       "\n",
       "    .dataframe tbody tr th {\n",
       "        vertical-align: top;\n",
       "    }\n",
       "\n",
       "    .dataframe thead th {\n",
       "        text-align: right;\n",
       "    }\n",
       "</style>\n",
       "<table border=\"1\" class=\"dataframe\">\n",
       "  <thead>\n",
       "    <tr style=\"text-align: right;\">\n",
       "      <th>Classe prédite</th>\n",
       "      <th>0</th>\n",
       "      <th>1</th>\n",
       "    </tr>\n",
       "    <tr>\n",
       "      <th>Classe réelle</th>\n",
       "      <th></th>\n",
       "      <th></th>\n",
       "    </tr>\n",
       "  </thead>\n",
       "  <tbody>\n",
       "    <tr>\n",
       "      <th>0</th>\n",
       "      <td>2213</td>\n",
       "      <td>603</td>\n",
       "    </tr>\n",
       "    <tr>\n",
       "      <th>1</th>\n",
       "      <td>2656</td>\n",
       "      <td>8377</td>\n",
       "    </tr>\n",
       "  </tbody>\n",
       "</table>\n",
       "</div>"
      ],
      "text/plain": [
       "Classe prédite     0     1\n",
       "Classe réelle             \n",
       "0               2213   603\n",
       "1               2656  8377"
      ]
     },
     "metadata": {},
     "output_type": "display_data"
    }
   ],
   "source": [
    "gridsearch = GridSearchCV(estimator = clf_rf, param_grid = params_rf, scoring = 'f1_micro', cv=3, n_jobs = -1)\n",
    "grille = gridsearch.fit(X_ru_stem, y_ru_stem)\n",
    "print(\"Hyperparamètres retenus :\", grille.best_params_)\n",
    "\n",
    "y_pred_stem = gridsearch.predict(X_test_stem)\n",
    "score = gridsearch.score(X_test_stem, y_test_stem)\n",
    "print(\"Score du modèle :\", score)\n",
    "score_stem.append(score)\n",
    "\n",
    "print(classification_report_imbalanced(y_test_stem, y_pred_stem))\n",
    "\n",
    "confusion_matrix = pd.crosstab(y_test_stem, y_pred_stem, rownames=['Classe réelle'], colnames=['Classe prédite'])\n",
    "display(confusion_matrix)\n",
    "\n",
    "f1_score_stem.append(f1_score(y_test_stem, y_pred_stem, average='weighted'))\n",
    "RF_f1_stem = f1_score(y_test_stem, y_pred_stem, average=None)"
   ]
  },
  {
   "cell_type": "markdown",
   "id": "4d651032-c79f-4ce8-8d74-6235c509537d",
   "metadata": {},
   "source": [
    "**9. PERFORMANCES DES MODELES**"
   ]
  },
  {
   "cell_type": "code",
   "execution_count": 31,
   "id": "cfa996cc-8331-4923-9b2b-206e25ae3db1",
   "metadata": {},
   "outputs": [],
   "source": [
    "modeles = ['SVC', 'LR', 'KNN', 'RF']\n",
    "x = ['0', '1']"
   ]
  },
  {
   "cell_type": "markdown",
   "id": "be2fa8e9-636c-4265-8d23-a0c401f2ebb5",
   "metadata": {},
   "source": [
    "*a. Lemmatisation / Undersampling*"
   ]
  },
  {
   "cell_type": "code",
   "execution_count": 32,
   "id": "0252072a-77b2-480e-ad70-3a01abfb8ead",
   "metadata": {},
   "outputs": [
    {
     "data": {
      "image/png": "[encoded data removed]",
      "text/plain": [
       "<Figure size 800x400 with 1 Axes>"
      ]
     },
     "metadata": {},
     "output_type": "display_data"
    }
   ],
   "source": [
    "# Score et f1_score des modèles\n",
    "plt.figure(figsize = (8,4))\n",
    "sns.lineplot(x=modeles, y=score_lem, label= 'score')\n",
    "sns.lineplot(x=modeles, y=f1_score_lem, label='f1_score')\n",
    "plt.title(\"Score et f1_score des modèles de classification (Lemmatisation/TF-IDF/Undersampling)\")\n",
    "plt.xlabel('Modèles') \n",
    "plt.ylabel('Scores')\n",
    "plt.legend()\n",
    "plt.show()"
   ]
  },
  {
   "cell_type": "code",
   "execution_count": 33,
   "id": "0a43f876-1e81-46d6-8e4f-42f1c8cceed7",
   "metadata": {},
   "outputs": [
    {
     "data": {
      "image/png": "[encoded data removed]",
      "text/plain": [
       "<Figure size 900x500 with 1 Axes>"
      ]
     },
     "metadata": {},
     "output_type": "display_data"
    }
   ],
   "source": [
    "# f1_score en fonction des classes pour chaque modèle\n",
    "plt.figure(figsize = (9,5))\n",
    "plt.title(\"f1_score des modèles de classification (Lemmatisation/TF-IDF/Undersampling)\")\n",
    "sns.lineplot(x=x, y=SVC_f1_lem, label='SVC')\n",
    "sns.lineplot(x=x, y=LR_f1_lem, label='LR')\n",
    "sns.lineplot(x=x, y=KNN_f1_lem, label='KNN')\n",
    "sns.lineplot(x=x, y=RF_f1_lem, label='RF')\n",
    "plt.xlabel('Classes') \n",
    "plt.ylabel('f1_scores')\n",
    "plt.legend()\n",
    "plt.show()"
   ]
  },
  {
   "cell_type": "markdown",
   "id": "771607e3-7c93-438e-897c-83a08d5fe291",
   "metadata": {},
   "source": [
    "*b. Stemming / Undersampling*"
   ]
  },
  {
   "cell_type": "code",
   "execution_count": 34,
   "id": "d5d09100-a872-4e74-a162-9c69f905bdfe",
   "metadata": {},
   "outputs": [
    {
     "data": {
      "image/png": "[encoded data removed]",
      "text/plain": [
       "<Figure size 800x400 with 1 Axes>"
      ]
     },
     "metadata": {},
     "output_type": "display_data"
    }
   ],
   "source": [
    "# Score et f1_score des modèles\n",
    "plt.figure(figsize = (8,4))\n",
    "sns.lineplot(x=modeles, y=score_stem, label= 'score')\n",
    "sns.lineplot(x=modeles, y=f1_score_stem, label='f1_score')\n",
    "plt.title(\"Score et f1_score des modèles de classification (Stemming/TF-IDF/Undersampling)\")\n",
    "plt.xlabel('Modèles') \n",
    "plt.ylabel('Scores')\n",
    "plt.legend()\n",
    "plt.show()"
   ]
  },
  {
   "cell_type": "code",
   "execution_count": 35,
   "id": "71b46089-71af-4a9c-b5b8-9d12e71b96a5",
   "metadata": {},
   "outputs": [
    {
     "data": {
      "image/png": "[encoded data removed]",
      "text/plain": [
       "<Figure size 900x500 with 1 Axes>"
      ]
     },
     "metadata": {},
     "output_type": "display_data"
    }
   ],
   "source": [
    "# f1_score en fonction des classes pour chaque modèle\n",
    "plt.figure(figsize = (9,5))\n",
    "plt.title(\"f1_score des modèles de classification (Stemming/TF-IDF/Undersampling)\")\n",
    "sns.lineplot(x=x, y=SVC_f1_stem, label='SVC')\n",
    "sns.lineplot(x=x, y=LR_f1_stem, label='LR')\n",
    "sns.lineplot(x=x, y=KNN_f1_stem, label='KNN')\n",
    "sns.lineplot(x=x, y=RF_f1_stem, label='RF')\n",
    "plt.xlabel('Classes') \n",
    "plt.ylabel('f1_scores')\n",
    "plt.legend()\n",
    "plt.show()"
   ]
  },
  {
   "cell_type": "code",
   "execution_count": 36,
   "id": "64bba6e4-49e3-4e89-af26-13264c44b4b6",
   "metadata": {},
   "outputs": [
    {
     "name": "stdout",
     "output_type": "stream",
     "text": [
      "f1_score_stem = [0.7834833116104407, 0.7831066608668746, 0.7428909489343529, 0.7840386510902665]\n",
      "SVC_f1_stem = [0.56843779 0.8383703 ]\n",
      "LR_f1_stem = [0.56848228 0.83788616]\n",
      "RF_f1_stem = [0.57592713 0.83715585]\n"
     ]
    }
   ],
   "source": [
    "print(\"f1_score_stem =\", f1_score_stem)\n",
    "print(\"SVC_f1_stem =\", SVC_f1_stem)\n",
    "print(\"LR_f1_stem =\", LR_f1_stem)\n",
    "print(\"RF_f1_stem =\", RF_f1_stem)"
   ]
  }
 ],
 "metadata": {
  "kernelspec": {
   "display_name": "Python 3 (ipykernel)",
   "language": "python",
   "name": "python3"
  },
  "language_info": {
   "codemirror_mode": {
    "name": "ipython",
    "version": 3
   },
   "file_extension": ".py",
   "mimetype": "text/x-python",
   "name": "python",
   "nbconvert_exporter": "python",
   "pygments_lexer": "ipython3",
   "version": "3.11.9"
  }
 },
 "nbformat": 4,
 "nbformat_minor": 5
}
