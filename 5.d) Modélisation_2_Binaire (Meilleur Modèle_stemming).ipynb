{
 "cells": [
  {
   "cell_type": "markdown",
   "metadata": {},
   "source": [
    "**1. IMPORTER LES LIBRAIRIES**"
   ]
  },
  {
   "cell_type": "code",
   "execution_count": 6,
   "metadata": {
    "colab": {
     "base_uri": "https://localhost:8080/"
    },
    "id": "z_bQ2ZAwCJvF",
    "outputId": "e2d0d2f7-6b39-4c93-c1ad-2010b4bbb878"
   },
   "outputs": [],
   "source": [
    "import pandas as pd\n",
    "import numpy as np\n",
    "import matplotlib.pyplot as plt\n",
    "%matplotlib inline\n",
    "import seaborn as sns\n",
    "import re\n",
    "import datetime\n",
    "\n",
    "# Train_Test_Split\n",
    "from sklearn.model_selection import train_test_split\n",
    "\n",
    "# PCA\n",
    "from sklearn.decomposition import PCA\n",
    "\n",
    "# Ré-échantillonnage\n",
    "from imblearn.over_sampling import RandomOverSampler\n",
    "from imblearn.under_sampling import RandomUnderSampler\n",
    "\n",
    "# Modélisation\n",
    "from sklearn.metrics import confusion_matrix, classification_report\n",
    "from imblearn.metrics import classification_report_imbalanced\n",
    "\n",
    "# Modèles\n",
    "from sklearn.svm import SVC\n",
    "from sklearn.ensemble import RandomForestClassifier\n",
    "from sklearn.linear_model import LogisticRegression\n",
    "from sklearn.neighbors import KNeighborsClassifier\n",
    "\n",
    "# Enregistrement du modèle\n",
    "from sklearn import model_selection\n",
    "import joblib\n",
    "\n",
    "import itertools\n",
    "from tabulate import tabulate\n",
    "\n",
    "import warnings\n",
    "warnings.filterwarnings('ignore')"
   ]
  },
  {
   "cell_type": "markdown",
   "metadata": {},
   "source": [
    "**2. IMPORTER LE FICHIER**"
   ]
  },
  {
   "cell_type": "code",
   "execution_count": 4,
   "metadata": {
    "colab": {
     "base_uri": "https://localhost:8080/",
     "height": 328
    },
    "id": "84n_-YFXGdWf",
    "outputId": "be6a1e8f-5c2a-48af-9041-66aaa58fc523"
   },
   "outputs": [
    {
     "data": {
      "text/html": [
       "<div>\n",
       "<style scoped>\n",
       "    .dataframe tbody tr th:only-of-type {\n",
       "        vertical-align: middle;\n",
       "    }\n",
       "\n",
       "    .dataframe tbody tr th {\n",
       "        vertical-align: top;\n",
       "    }\n",
       "\n",
       "    .dataframe thead th {\n",
       "        text-align: right;\n",
       "    }\n",
       "</style>\n",
       "<table border=\"1\" class=\"dataframe\">\n",
       "  <thead>\n",
       "    <tr style=\"text-align: right;\">\n",
       "      <th></th>\n",
       "      <th>0</th>\n",
       "      <th>1</th>\n",
       "      <th>2</th>\n",
       "      <th>3</th>\n",
       "      <th>4</th>\n",
       "      <th>5</th>\n",
       "      <th>6</th>\n",
       "      <th>7</th>\n",
       "      <th>8</th>\n",
       "      <th>9</th>\n",
       "      <th>...</th>\n",
       "      <th>1092</th>\n",
       "      <th>1093</th>\n",
       "      <th>1094</th>\n",
       "      <th>1095</th>\n",
       "      <th>1096</th>\n",
       "      <th>1097</th>\n",
       "      <th>1098</th>\n",
       "      <th>ponctuation</th>\n",
       "      <th>sentiment</th>\n",
       "      <th>y</th>\n",
       "    </tr>\n",
       "  </thead>\n",
       "  <tbody>\n",
       "    <tr>\n",
       "      <th>0</th>\n",
       "      <td>0.0</td>\n",
       "      <td>0.0</td>\n",
       "      <td>0.0</td>\n",
       "      <td>0.0</td>\n",
       "      <td>0.0</td>\n",
       "      <td>0.0</td>\n",
       "      <td>0.0</td>\n",
       "      <td>0.0</td>\n",
       "      <td>0.0</td>\n",
       "      <td>0.0</td>\n",
       "      <td>...</td>\n",
       "      <td>0.0</td>\n",
       "      <td>0.0</td>\n",
       "      <td>0.0</td>\n",
       "      <td>0.0</td>\n",
       "      <td>0.0</td>\n",
       "      <td>0.0</td>\n",
       "      <td>0.0</td>\n",
       "      <td>-0.147949</td>\n",
       "      <td>-4.183594</td>\n",
       "      <td>3</td>\n",
       "    </tr>\n",
       "    <tr>\n",
       "      <th>1</th>\n",
       "      <td>0.0</td>\n",
       "      <td>0.0</td>\n",
       "      <td>0.0</td>\n",
       "      <td>0.0</td>\n",
       "      <td>0.0</td>\n",
       "      <td>0.0</td>\n",
       "      <td>0.0</td>\n",
       "      <td>0.0</td>\n",
       "      <td>0.0</td>\n",
       "      <td>0.0</td>\n",
       "      <td>...</td>\n",
       "      <td>0.0</td>\n",
       "      <td>0.0</td>\n",
       "      <td>0.0</td>\n",
       "      <td>0.0</td>\n",
       "      <td>0.0</td>\n",
       "      <td>0.0</td>\n",
       "      <td>0.0</td>\n",
       "      <td>-0.147949</td>\n",
       "      <td>-3.720703</td>\n",
       "      <td>5</td>\n",
       "    </tr>\n",
       "    <tr>\n",
       "      <th>2</th>\n",
       "      <td>0.0</td>\n",
       "      <td>0.0</td>\n",
       "      <td>0.0</td>\n",
       "      <td>0.0</td>\n",
       "      <td>0.0</td>\n",
       "      <td>0.0</td>\n",
       "      <td>0.0</td>\n",
       "      <td>0.0</td>\n",
       "      <td>0.0</td>\n",
       "      <td>0.0</td>\n",
       "      <td>...</td>\n",
       "      <td>0.0</td>\n",
       "      <td>0.0</td>\n",
       "      <td>0.0</td>\n",
       "      <td>0.0</td>\n",
       "      <td>0.0</td>\n",
       "      <td>0.0</td>\n",
       "      <td>0.0</td>\n",
       "      <td>-0.147949</td>\n",
       "      <td>5.550781</td>\n",
       "      <td>5</td>\n",
       "    </tr>\n",
       "    <tr>\n",
       "      <th>3</th>\n",
       "      <td>0.0</td>\n",
       "      <td>0.0</td>\n",
       "      <td>0.0</td>\n",
       "      <td>0.0</td>\n",
       "      <td>0.0</td>\n",
       "      <td>0.0</td>\n",
       "      <td>0.0</td>\n",
       "      <td>0.0</td>\n",
       "      <td>0.0</td>\n",
       "      <td>0.0</td>\n",
       "      <td>...</td>\n",
       "      <td>0.0</td>\n",
       "      <td>0.0</td>\n",
       "      <td>0.0</td>\n",
       "      <td>0.0</td>\n",
       "      <td>0.0</td>\n",
       "      <td>0.0</td>\n",
       "      <td>0.0</td>\n",
       "      <td>-0.147949</td>\n",
       "      <td>4.390625</td>\n",
       "      <td>5</td>\n",
       "    </tr>\n",
       "    <tr>\n",
       "      <th>4</th>\n",
       "      <td>0.0</td>\n",
       "      <td>0.0</td>\n",
       "      <td>0.0</td>\n",
       "      <td>0.0</td>\n",
       "      <td>0.0</td>\n",
       "      <td>0.0</td>\n",
       "      <td>0.0</td>\n",
       "      <td>0.0</td>\n",
       "      <td>0.0</td>\n",
       "      <td>0.0</td>\n",
       "      <td>...</td>\n",
       "      <td>0.0</td>\n",
       "      <td>0.0</td>\n",
       "      <td>0.0</td>\n",
       "      <td>0.0</td>\n",
       "      <td>0.0</td>\n",
       "      <td>0.0</td>\n",
       "      <td>0.0</td>\n",
       "      <td>-0.147949</td>\n",
       "      <td>0.625488</td>\n",
       "      <td>5</td>\n",
       "    </tr>\n",
       "  </tbody>\n",
       "</table>\n",
       "<p>5 rows × 1102 columns</p>\n",
       "</div>"
      ],
      "text/plain": [
       "     0    1    2    3    4    5    6    7    8    9  ...  1092  1093  1094  \\\n",
       "0  0.0  0.0  0.0  0.0  0.0  0.0  0.0  0.0  0.0  0.0  ...   0.0   0.0   0.0   \n",
       "1  0.0  0.0  0.0  0.0  0.0  0.0  0.0  0.0  0.0  0.0  ...   0.0   0.0   0.0   \n",
       "2  0.0  0.0  0.0  0.0  0.0  0.0  0.0  0.0  0.0  0.0  ...   0.0   0.0   0.0   \n",
       "3  0.0  0.0  0.0  0.0  0.0  0.0  0.0  0.0  0.0  0.0  ...   0.0   0.0   0.0   \n",
       "4  0.0  0.0  0.0  0.0  0.0  0.0  0.0  0.0  0.0  0.0  ...   0.0   0.0   0.0   \n",
       "\n",
       "   1095  1096  1097  1098  ponctuation  sentiment  y  \n",
       "0   0.0   0.0   0.0   0.0    -0.147949  -4.183594  3  \n",
       "1   0.0   0.0   0.0   0.0    -0.147949  -3.720703  5  \n",
       "2   0.0   0.0   0.0   0.0    -0.147949   5.550781  5  \n",
       "3   0.0   0.0   0.0   0.0    -0.147949   4.390625  5  \n",
       "4   0.0   0.0   0.0   0.0    -0.147949   0.625488  5  \n",
       "\n",
       "[5 rows x 1102 columns]"
      ]
     },
     "execution_count": 4,
     "metadata": {},
     "output_type": "execute_result"
    }
   ],
   "source": [
    "df = pd.read_csv(\"4. Stemming_TF-IDF(Avec_Reduction).csv\").astype('float16')\n",
    "df['y'] = df['y'].astype('uint8')\n",
    "df = df.rename(columns={'1099' : 'ponctuation', '1100' : 'sentiment'})\n",
    "df.head()"
   ]
  },
  {
   "cell_type": "markdown",
   "metadata": {},
   "source": [
    "**3. PREPARATION DES DONNEES**"
   ]
  },
  {
   "cell_type": "code",
   "execution_count": 5,
   "metadata": {
    "id": "kfd_1xnZnq79"
   },
   "outputs": [],
   "source": [
    "### Classification binaire\n",
    "# Classe 0 : [1, 2, 3]\n",
    "# Classe 1 : [4, 5]\n",
    "df['y'] = df['y'].replace((1, 2, 3, 4, 5), (0, 0, 0, 1, 1))\n",
    "\n",
    "### Séparation target/features\n",
    "X = df.drop('y', axis=1).to_numpy()\n",
    "y = df['y'].to_numpy()\n",
    "\n",
    "### Train_Test_Split\n",
    "X_train, X_test, y_train, y_test = train_test_split(X, y, test_size=0.2, random_state=42)"
   ]
  },
  {
   "cell_type": "markdown",
   "metadata": {},
   "source": [
    "**4. MODELISATION DES 16 COMBINAISONS**"
   ]
  },
  {
   "cell_type": "code",
   "execution_count": null,
   "metadata": {
    "colab": {
     "base_uri": "https://localhost:8080/"
    },
    "id": "y87JPFVc9kNh",
    "outputId": "5ece32df-f34e-48cd-cdbc-f0598de6c397"
   },
   "outputs": [
    {
     "name": "stdout",
     "output_type": "stream",
     "text": [
      "+---------+-------+---------------+---------------------+\n",
      "|   Index | ACP   | Sampling      | Model               |\n",
      "+=========+=======+===============+=====================+\n",
      "|       1 | True  | undersampling | SVC                 |\n",
      "+---------+-------+---------------+---------------------+\n",
      "|       2 | True  | undersampling | Random forest       |\n",
      "+---------+-------+---------------+---------------------+\n",
      "|       3 | True  | undersampling | Regression linéaire |\n",
      "+---------+-------+---------------+---------------------+\n",
      "|       4 | True  | undersampling | K Neighbors         |\n",
      "+---------+-------+---------------+---------------------+\n",
      "|       5 | True  | oversampling  | SVC                 |\n",
      "+---------+-------+---------------+---------------------+\n",
      "|       6 | True  | oversampling  | Random forest       |\n",
      "+---------+-------+---------------+---------------------+\n",
      "|       7 | True  | oversampling  | Regression linéaire |\n",
      "+---------+-------+---------------+---------------------+\n",
      "|       8 | True  | oversampling  | K Neighbors         |\n",
      "+---------+-------+---------------+---------------------+\n",
      "|       9 | False | undersampling | SVC                 |\n",
      "+---------+-------+---------------+---------------------+\n",
      "|      10 | False | undersampling | Random forest       |\n",
      "+---------+-------+---------------+---------------------+\n",
      "|      11 | False | undersampling | Regression linéaire |\n",
      "+---------+-------+---------------+---------------------+\n",
      "|      12 | False | undersampling | K Neighbors         |\n",
      "+---------+-------+---------------+---------------------+\n",
      "|      13 | False | oversampling  | SVC                 |\n",
      "+---------+-------+---------------+---------------------+\n",
      "|      14 | False | oversampling  | Random forest       |\n",
      "+---------+-------+---------------+---------------------+\n",
      "|      15 | False | oversampling  | Regression linéaire |\n",
      "+---------+-------+---------------+---------------------+\n",
      "|      16 | False | oversampling  | K Neighbors         |\n",
      "+---------+-------+---------------+---------------------+\n"
     ]
    }
   ],
   "source": [
    "######################################\n",
    "### DEFINITION DES 16 COMBINAISONS ###\n",
    "######################################\n",
    "# Stocker les résultats des combinaisons dans un tableau récapitulatif\n",
    "results_summary = []\n",
    "\n",
    "# Définir les options pour les combinaisons\n",
    "acp_options = [True, False]\n",
    "sampling_options = ['undersampling', 'oversampling']\n",
    "model_options = ['SVC', 'Random forest', 'Regression linéaire', 'K Neighbors']\n",
    "\n",
    "# Générer toutes les combinaisons possibles\n",
    "combinations = list(itertools.product(acp_options, sampling_options, model_options))\n",
    "\n",
    "# Afficher les combinaisons dans un tableau\n",
    "table_data = [(index + 1, *combo) for index, combo in enumerate(combinations)]\n",
    "headers = ['Index', 'ACP', 'Sampling', 'Model']\n",
    "\n",
    "print(tabulate(table_data, headers=headers, tablefmt='grid'))"
   ]
  },
  {
   "cell_type": "code",
   "execution_count": null,
   "metadata": {
    "colab": {
     "base_uri": "https://localhost:8080/"
    },
    "id": "V93RKdUReg9r",
    "outputId": "e51d9bb9-cb3b-4529-fdab-5c4b2b2275eb",
    "scrolled": true
   },
   "outputs": [
    {
     "name": "stdout",
     "output_type": "stream",
     "text": [
      "\n",
      "####################################\n",
      "### EVALUATION DES 16 COMBINAISONS ###\n",
      "####################################\n",
      "start = time.time()\n",
      "################################################################################################9898989898989898989898989898989898\n",
      "╒═══════════════╤═══════╤═══════════════╤═════════════════════╤════════════════════════╤═══════════════════════════════════════════════════════╕\n",
      "│   Combinaison │ ACP   │ Sampling      │ Modèle              │ Matrice de confusion   │ Rapport de classification                             │\n",
      "╞═══════════════╪═══════╪═══════════════╪═════════════════════╪════════════════════════╪═══════════════════════════════════════════════════════╡\n",
      "│             1 │ Avec  │ undersampling │ SVC                 │ [[1438  673]           │ precision    recall  f1-score   support               │\n",
      "│               │       │               │                     │  [2835 5248]]          │                                                       │\n",
      "│               │       │               │                     │                        │            0       0.34      0.68      0.45      2111 │\n",
      "│               │       │               │                     │                        │            1       0.89      0.65      0.75      8083 │\n",
      "│               │       │               │                     │                        │                                                       │\n",
      "│               │       │               │                     │                        │     accuracy                           0.66     10194 │\n",
      "│               │       │               │                     │                        │    macro avg       0.61      0.67      0.60     10194 │\n",
      "│               │       │               │                     │                        │ weighted avg       0.77      0.66      0.69     10194 │\n",
      "├───────────────┼───────┼───────────────┼─────────────────────┼────────────────────────┼───────────────────────────────────────────────────────┤\n",
      "│             2 │ Avec  │ undersampling │ Random forest       │ [[ 445 1666]           │ precision    recall  f1-score   support               │\n",
      "│               │       │               │                     │  [1756 6327]]          │                                                       │\n",
      "│               │       │               │                     │                        │            0       0.20      0.21      0.21      2111 │\n",
      "│               │       │               │                     │                        │            1       0.79      0.78      0.79      8083 │\n",
      "│               │       │               │                     │                        │                                                       │\n",
      "│               │       │               │                     │                        │     accuracy                           0.66     10194 │\n",
      "│               │       │               │                     │                        │    macro avg       0.50      0.50      0.50     10194 │\n",
      "│               │       │               │                     │                        │ weighted avg       0.67      0.66      0.67     10194 │\n",
      "├───────────────┼───────┼───────────────┼─────────────────────┼────────────────────────┼───────────────────────────────────────────────────────┤\n",
      "│             3 │ Avec  │ undersampling │ Regression linéaire │ [[1390  721]           │ precision    recall  f1-score   support               │\n",
      "│               │       │               │                     │  [2960 5123]]          │                                                       │\n",
      "│               │       │               │                     │                        │            0       0.32      0.66      0.43      2111 │\n",
      "│               │       │               │                     │                        │            1       0.88      0.63      0.74      8083 │\n",
      "│               │       │               │                     │                        │                                                       │\n",
      "│               │       │               │                     │                        │     accuracy                           0.64     10194 │\n",
      "│               │       │               │                     │                        │    macro avg       0.60      0.65      0.58     10194 │\n",
      "│               │       │               │                     │                        │ weighted avg       0.76      0.64      0.67     10194 │\n",
      "├───────────────┼───────┼───────────────┼─────────────────────┼────────────────────────┼───────────────────────────────────────────────────────┤\n",
      "│             4 │ Avec  │ undersampling │ K Neighbors         │ [[ 802 1309]           │ precision    recall  f1-score   support               │\n",
      "│               │       │               │                     │  [2265 5818]]          │                                                       │\n",
      "│               │       │               │                     │                        │            0       0.26      0.38      0.31      2111 │\n",
      "│               │       │               │                     │                        │            1       0.82      0.72      0.77      8083 │\n",
      "│               │       │               │                     │                        │                                                       │\n",
      "│               │       │               │                     │                        │     accuracy                           0.65     10194 │\n",
      "│               │       │               │                     │                        │    macro avg       0.54      0.55      0.54     10194 │\n",
      "│               │       │               │                     │                        │ weighted avg       0.70      0.65      0.67     10194 │\n",
      "├───────────────┼───────┼───────────────┼─────────────────────┼────────────────────────┼───────────────────────────────────────────────────────┤\n",
      "│             5 │ Avec  │ oversampling  │ SVC                 │ [[1429  682]           │ precision    recall  f1-score   support               │\n",
      "│               │       │               │                     │  [2898 5185]]          │                                                       │\n",
      "│               │       │               │                     │                        │            0       0.33      0.68      0.44      2111 │\n",
      "│               │       │               │                     │                        │            1       0.88      0.64      0.74      8083 │\n",
      "│               │       │               │                     │                        │                                                       │\n",
      "│               │       │               │                     │                        │     accuracy                           0.65     10194 │\n",
      "│               │       │               │                     │                        │    macro avg       0.61      0.66      0.59     10194 │\n",
      "│               │       │               │                     │                        │ weighted avg       0.77      0.65      0.68     10194 │\n",
      "├───────────────┼───────┼───────────────┼─────────────────────┼────────────────────────┼───────────────────────────────────────────────────────┤\n",
      "│             6 │ Avec  │ oversampling  │ Random forest       │ [[ 206 1905]           │ precision    recall  f1-score   support               │\n",
      "│               │       │               │                     │  [ 853 7230]]          │                                                       │\n",
      "│               │       │               │                     │                        │            0       0.19      0.10      0.13      2111 │\n",
      "│               │       │               │                     │                        │            1       0.79      0.89      0.84      8083 │\n",
      "│               │       │               │                     │                        │                                                       │\n",
      "│               │       │               │                     │                        │     accuracy                           0.73     10194 │\n",
      "│               │       │               │                     │                        │    macro avg       0.49      0.50      0.48     10194 │\n",
      "│               │       │               │                     │                        │ weighted avg       0.67      0.73      0.69     10194 │\n",
      "├───────────────┼───────┼───────────────┼─────────────────────┼────────────────────────┼───────────────────────────────────────────────────────┤\n",
      "│             7 │ Avec  │ oversampling  │ Regression linéaire │ [[1407  704]           │ precision    recall  f1-score   support               │\n",
      "│               │       │               │                     │  [2959 5124]]          │                                                       │\n",
      "│               │       │               │                     │                        │            0       0.32      0.67      0.43      2111 │\n",
      "│               │       │               │                     │                        │            1       0.88      0.63      0.74      8083 │\n",
      "│               │       │               │                     │                        │                                                       │\n",
      "│               │       │               │                     │                        │     accuracy                           0.64     10194 │\n",
      "│               │       │               │                     │                        │    macro avg       0.60      0.65      0.59     10194 │\n",
      "│               │       │               │                     │                        │ weighted avg       0.76      0.64      0.67     10194 │\n",
      "├───────────────┼───────┼───────────────┼─────────────────────┼────────────────────────┼───────────────────────────────────────────────────────┤\n",
      "│             8 │ Avec  │ oversampling  │ K Neighbors         │ [[ 770 1341]           │ precision    recall  f1-score   support               │\n",
      "│               │       │               │                     │  [2366 5717]]          │                                                       │\n",
      "│               │       │               │                     │                        │            0       0.25      0.36      0.29      2111 │\n",
      "│               │       │               │                     │                        │            1       0.81      0.71      0.76      8083 │\n",
      "│               │       │               │                     │                        │                                                       │\n",
      "│               │       │               │                     │                        │     accuracy                           0.64     10194 │\n",
      "│               │       │               │                     │                        │    macro avg       0.53      0.54      0.52     10194 │\n",
      "│               │       │               │                     │                        │ weighted avg       0.69      0.64      0.66     10194 │\n",
      "├───────────────┼───────┼───────────────┼─────────────────────┼────────────────────────┼───────────────────────────────────────────────────────┤\n",
      "│             9 │ Sans  │ undersampling │ SVC                 │ [[1588  523]           │ precision    recall  f1-score   support               │\n",
      "│               │       │               │                     │  [1884 6199]]          │                                                       │\n",
      "│               │       │               │                     │                        │            0       0.46      0.75      0.57      2111 │\n",
      "│               │       │               │                     │                        │            1       0.92      0.77      0.84      8083 │\n",
      "│               │       │               │                     │                        │                                                       │\n",
      "│               │       │               │                     │                        │     accuracy                           0.76     10194 │\n",
      "│               │       │               │                     │                        │    macro avg       0.69      0.76      0.70     10194 │\n",
      "│               │       │               │                     │                        │ weighted avg       0.83      0.76      0.78     10194 │\n",
      "├───────────────┼───────┼───────────────┼─────────────────────┼────────────────────────┼───────────────────────────────────────────────────────┤\n",
      "│            10 │ Sans  │ undersampling │ Random forest       │ [[1656  455]           │ precision    recall  f1-score   support               │\n",
      "│               │       │               │                     │  [1748 6335]]          │                                                       │\n",
      "│               │       │               │                     │                        │            0       0.49      0.78      0.60      2111 │\n",
      "│               │       │               │                     │                        │            1       0.93      0.78      0.85      8083 │\n",
      "│               │       │               │                     │                        │                                                       │\n",
      "│               │       │               │                     │                        │     accuracy                           0.78     10194 │\n",
      "│               │       │               │                     │                        │    macro avg       0.71      0.78      0.73     10194 │\n",
      "│               │       │               │                     │                        │ weighted avg       0.84      0.78      0.80     10194 │\n",
      "├───────────────┼───────┼───────────────┼─────────────────────┼────────────────────────┼───────────────────────────────────────────────────────┤\n",
      "│            11 │ Sans  │ undersampling │ Regression linéaire │ [[1627  484]           │ precision    recall  f1-score   support               │\n",
      "│               │       │               │                     │  [1823 6260]]          │                                                       │\n",
      "│               │       │               │                     │                        │            0       0.47      0.77      0.59      2111 │\n",
      "│               │       │               │                     │                        │            1       0.93      0.77      0.84      8083 │\n",
      "│               │       │               │                     │                        │                                                       │\n",
      "│               │       │               │                     │                        │     accuracy                           0.77     10194 │\n",
      "│               │       │               │                     │                        │    macro avg       0.70      0.77      0.71     10194 │\n",
      "│               │       │               │                     │                        │ weighted avg       0.83      0.77      0.79     10194 │\n",
      "├───────────────┼───────┼───────────────┼─────────────────────┼────────────────────────┼───────────────────────────────────────────────────────┤\n",
      "│            12 │ Sans  │ undersampling │ K Neighbors         │ [[1471  640]           │ precision    recall  f1-score   support               │\n",
      "│               │       │               │                     │  [2145 5938]]          │                                                       │\n",
      "│               │       │               │                     │                        │            0       0.41      0.70      0.51      2111 │\n",
      "│               │       │               │                     │                        │            1       0.90      0.73      0.81      8083 │\n",
      "│               │       │               │                     │                        │                                                       │\n",
      "│               │       │               │                     │                        │     accuracy                           0.73     10194 │\n",
      "│               │       │               │                     │                        │    macro avg       0.65      0.72      0.66     10194 │\n",
      "│               │       │               │                     │                        │ weighted avg       0.80      0.73      0.75     10194 │\n",
      "├───────────────┼───────┼───────────────┼─────────────────────┼────────────────────────┼───────────────────────────────────────────────────────┤\n",
      "│            13 │ Sans  │ oversampling  │ SVC                 │ [[1609  502]           │ precision    recall  f1-score   support               │\n",
      "│               │       │               │                     │  [1727 6356]]          │                                                       │\n",
      "│               │       │               │                     │                        │            0       0.48      0.76      0.59      2111 │\n",
      "│               │       │               │                     │                        │            1       0.93      0.79      0.85      8083 │\n",
      "│               │       │               │                     │                        │                                                       │\n",
      "│               │       │               │                     │                        │     accuracy                           0.78     10194 │\n",
      "│               │       │               │                     │                        │    macro avg       0.70      0.77      0.72     10194 │\n",
      "│               │       │               │                     │                        │ weighted avg       0.83      0.78      0.80     10194 │\n",
      "├───────────────┼───────┼───────────────┼─────────────────────┼────────────────────────┼───────────────────────────────────────────────────────┤\n",
      "│            14 │ Sans  │ oversampling  │ Random forest       │ [[1162  949]           │ precision    recall  f1-score   support               │\n",
      "│               │       │               │                     │  [ 595 7488]]          │                                                       │\n",
      "│               │       │               │                     │                        │            0       0.66      0.55      0.60      2111 │\n",
      "│               │       │               │                     │                        │            1       0.89      0.93      0.91      8083 │\n",
      "│               │       │               │                     │                        │                                                       │\n",
      "│               │       │               │                     │                        │     accuracy                           0.85     10194 │\n",
      "│               │       │               │                     │                        │    macro avg       0.77      0.74      0.75     10194 │\n",
      "│               │       │               │                     │                        │ weighted avg       0.84      0.85      0.84     10194 │\n",
      "├───────────────┼───────┼───────────────┼─────────────────────┼────────────────────────┼───────────────────────────────────────────────────────┤\n",
      "│            15 │ Sans  │ oversampling  │ Regression linéaire │ [[1603  508]           │ precision    recall  f1-score   support               │\n",
      "│               │       │               │                     │  [1750 6333]]          │                                                       │\n",
      "│               │       │               │                     │                        │            0       0.48      0.76      0.59      2111 │\n",
      "│               │       │               │                     │                        │            1       0.93      0.78      0.85      8083 │\n",
      "│               │       │               │                     │                        │                                                       │\n",
      "│               │       │               │                     │                        │     accuracy                           0.78     10194 │\n",
      "│               │       │               │                     │                        │    macro avg       0.70      0.77      0.72     10194 │\n",
      "│               │       │               │                     │                        │ weighted avg       0.83      0.78      0.79     10194 │\n",
      "├───────────────┼───────┼───────────────┼─────────────────────┼────────────────────────┼───────────────────────────────────────────────────────┤\n",
      "│            16 │ Sans  │ oversampling  │ K Neighbors         │ [[1362  749]           │ precision    recall  f1-score   support               │\n",
      "│               │       │               │                     │  [1962 6121]]          │                                                       │\n",
      "│               │       │               │                     │                        │            0       0.41      0.65      0.50      2111 │\n",
      "│               │       │               │                     │                        │            1       0.89      0.76      0.82      8083 │\n",
      "│               │       │               │                     │                        │                                                       │\n",
      "│               │       │               │                     │                        │     accuracy                           0.73     10194 │\n",
      "│               │       │               │                     │                        │    macro avg       0.65      0.70      0.66     10194 │\n",
      "│               │       │               │                     │                        │ weighted avg       0.79      0.73      0.75     10194 │\n",
      "╘═══════════════╧═══════╧═══════════════╧═════════════════════╧════════════════════════╧═══════════════════════════════════════════════════════╛\n"
     ]
    }
   ],
   "source": [
    "######################################\n",
    "### EVALUATION DES 16 COMBINAISONS ###\n",
    "######################################\n",
    "# Définir la fonction apply_pca\n",
    "def apply_pca(X):\n",
    "    pca = PCA(n_components=2)  # Nous avions déjà calculé dans un autre modèle avec 2 composantes principales\n",
    "    return pca.fit_transform(X)\n",
    "\n",
    "# Fonction pour entraîner le modèle et afficher les résultats\n",
    "def train_and_evaluate_model(X_train, X_test, y_train, y_test, model_name, sampling_type, use_pca=False):\n",
    "    if use_pca:\n",
    "        X_train = apply_pca(X_train)\n",
    "        X_test = apply_pca(X_test)\n",
    "\n",
    "    if model_name == 'SVC':\n",
    "        model = SVC()\n",
    "    elif model_name == 'Random forest':\n",
    "        model = RandomForestClassifier()\n",
    "    elif model_name == 'Regression linéaire':\n",
    "        model = LogisticRegression()\n",
    "    elif model_name == 'K Neighbors':\n",
    "        model = KNeighborsClassifier()\n",
    "\n",
    "    if sampling_type == 'undersampling':\n",
    "        sampler = RandomUnderSampler()\n",
    "        X_resampled, y_resampled = sampler.fit_resample(X_train, y_train)\n",
    "    elif sampling_type == 'oversampling':\n",
    "        sampler = RandomOverSampler()\n",
    "        X_resampled, y_resampled = sampler.fit_resample(X_train, y_train)\n",
    "\n",
    "    model.fit(X_resampled, y_resampled)\n",
    "    y_pred = model.predict(X_test)\n",
    "    conf_matrix = confusion_matrix(y_test, y_pred)\n",
    "    class_report = classification_report(y_test, y_pred)\n",
    "    return conf_matrix, class_report\n",
    "\n",
    "# Parcourir toutes les combinaisons\n",
    "results_summary = []\n",
    "for idx, combination in enumerate(combinations, start=1):\n",
    "    acp, sampling, model = combination\n",
    "\n",
    "    conf_matrix, class_report = train_and_evaluate_model(X_train, X_test, y_train, y_test, model, sampling, use_pca=acp)\n",
    "\n",
    "    results_summary.append({\n",
    "        \"Combinaison\": idx,\n",
    "        \"ACP\": \"Avec\" if acp else \"Sans\",\n",
    "        \"Sampling\": sampling,\n",
    "        \"Modèle\": model,\n",
    "        \"Matrice de confusion\": conf_matrix,\n",
    "        \"Rapport de classification\": class_report\n",
    "    })\n",
    "\n",
    "# Afficher les combinaisons et résultats\n",
    "table = []\n",
    "for result in results_summary:\n",
    "    table.append([\n",
    "        result[\"Combinaison\"],\n",
    "        result[\"ACP\"],\n",
    "        result[\"Sampling\"],\n",
    "        result[\"Modèle\"],\n",
    "        result[\"Matrice de confusion\"],\n",
    "        result[\"Rapport de classification\"]\n",
    "    ])\n",
    "\n",
    "headers = [\"Combinaison\", \"ACP\", \"Sampling\", \"Modèle\", \"Matrice de confusion\", \"Rapport de classification\"]\n",
    "\n",
    "print(\"\\n####################################\")\n",
    "print(\"### EVALUATION DES 16 COMBINAISONS ###\")\n",
    "print(\"####################################\")\n",
    "print(\"start = time.time()\")\n",
    "print(\"################################################################################################9898989898989898989898989898989898\")\n",
    "\n",
    "print(tabulate(table, headers=headers, tablefmt=\"fancy_grid\"))\n"
   ]
  },
  {
   "cell_type": "code",
   "execution_count": null,
   "metadata": {
    "colab": {
     "base_uri": "https://localhost:8080/",
     "height": 627
    },
    "id": "LjOQU4GI_TxX",
    "outputId": "8ed42102-f097-47fb-897e-3c89fb02a249"
   },
   "outputs": [
    {
     "data": {
      "image/png": "[encoded data removed]",
      "text/plain": [
       "<Figure size 1200x600 with 1 Axes>"
      ]
     },
     "metadata": {},
     "output_type": "display_data"
    }
   ],
   "source": [
    "###################################################\n",
    "### GRAPHIQUE POUR COMPARER LES 16 COMPOSITIONS ###\n",
    "###################################################\n",
    "# Extraire l'accuracy des rapports de classification pour chaque combinaison\n",
    "accuracies = [float(result[\"Rapport de classification\"].split()[-2]) for result in results_summary]\n",
    "\n",
    "# Trouver l'index de la meilleure composition (maximum de l'accuracy)\n",
    "best_index = accuracies.index(max(accuracies))\n",
    "\n",
    "# Extraire les noms des modèles et les labels ACP-Sampling pour chaque combinaison\n",
    "labels = [f\"{result['Modèle']} - {result['ACP']} - {result['Sampling']}\" for result in results_summary]\n",
    "\n",
    "# Créer un graphique bar pour comparer les accuracy\n",
    "plt.figure(figsize=(12, 6))\n",
    "plt.bar(labels, accuracies, color='skyblue')\n",
    "plt.xlabel('Combinaison Modèle - ACP - Sampling')\n",
    "plt.ylabel('Accuracy')\n",
    "plt.title('Comparaison des Accuracies par Combinaison')\n",
    "plt.xticks(rotation=45, ha='right')\n",
    "plt.axhline(y=max(accuracies), color='r', linestyle='--', label=f'Meilleure Accuracy: {max(accuracies):.2f}')\n",
    "plt.legend()\n",
    "plt.tight_layout()\n",
    "\n",
    "# Annoter la barre avec la meilleure composition\n",
    "plt.text(best_index, accuracies[best_index], f'Meilleur\\n{max(accuracies):.2f}', ha='center', va='bottom')\n",
    "\n",
    "# Afficher le graphique\n",
    "plt.show()"
   ]
  },
  {
   "cell_type": "markdown",
   "metadata": {},
   "source": [
    "**5. ENTRAÎNEMENT DE LA MEILLEURE COMBINAISON**"
   ]
  },
  {
   "cell_type": "code",
   "execution_count": 10,
   "metadata": {},
   "outputs": [],
   "source": [
    "# Meilleure combinaison : Sans PCA, Oversampling, Random Forest"
   ]
  },
  {
   "cell_type": "markdown",
   "metadata": {},
   "source": [
    "*1) Train_test_split*"
   ]
  },
  {
   "cell_type": "code",
   "execution_count": 11,
   "metadata": {
    "id": "xYugrPXnyvXM"
   },
   "outputs": [
    {
     "name": "stdout",
     "output_type": "stream",
     "text": [
      "X_train_stem = (55394, 1101)\n",
      "y_train_stem = (55394,)\n",
      "X_test_stem = (13849, 1101)\n",
      "y_test_stem = (13849,)\n"
     ]
    }
   ],
   "source": [
    "X_train_stem, X_test_stem, y_train_stem, y_test_stem = model_selection.train_test_split(X, y, test_size=0.2, random_state = 42)\n",
    "\n",
    "# Vérification shape\n",
    "print (\"X_train_stem =\", X_train_stem.shape)\n",
    "print (\"y_train_stem =\", y_train_stem.shape)\n",
    "print (\"X_test_stem =\", X_test_stem.shape)\n",
    "print (\"y_test_stem =\", y_test_stem.shape)"
   ]
  },
  {
   "cell_type": "markdown",
   "metadata": {},
   "source": [
    "*2) Ré-échantillonnage*"
   ]
  },
  {
   "cell_type": "code",
   "execution_count": 12,
   "metadata": {
    "colab": {
     "base_uri": "https://localhost:8080/"
    },
    "id": "xYxrvq0F0_1c",
    "outputId": "7c44cc3d-46b1-4343-e801-33d654b8890a"
   },
   "outputs": [
    {
     "name": "stdout",
     "output_type": "stream",
     "text": [
      "Classes échantillon oversampled stemming : {1: 44018, 0: 44018}\n"
     ]
    }
   ],
   "source": [
    "rOs = RandomOverSampler(random_state = 42)\n",
    "X_ro_stem, y_ro_stem = rOs.fit_resample(X_train_stem, y_train_stem)\n",
    "print('Classes échantillon oversampled stemming :', dict(pd.Series(y_ro_stem).value_counts()))"
   ]
  },
  {
   "cell_type": "markdown",
   "metadata": {},
   "source": [
    "*3) Modélisation*"
   ]
  },
  {
   "cell_type": "code",
   "execution_count": 14,
   "metadata": {
    "colab": {
     "base_uri": "https://localhost:8080/"
    },
    "id": "-iv-SGHj1GdF",
    "outputId": "4c168117-1001-41fc-eb91-884bcb5888fa"
   },
   "outputs": [
    {
     "name": "stdout",
     "output_type": "stream",
     "text": [
      "Score du modèle : 0.8527691530074374\n"
     ]
    }
   ],
   "source": [
    "clf_rf = RandomForestClassifier(random_state=42)\n",
    "clf_rf.fit(X_ro_stem, y_ro_stem)\n",
    "y_pred_stem = clf_rf.predict(X_test_stem)\n",
    "score = clf_rf.score(X_test_stem, y_test_stem)\n",
    "print(\"Score du modèle :\", score)"
   ]
  },
  {
   "cell_type": "markdown",
   "metadata": {},
   "source": [
    "*4) Performances*"
   ]
  },
  {
   "cell_type": "code",
   "execution_count": 15,
   "metadata": {
    "colab": {
     "base_uri": "https://localhost:8080/",
     "height": 273
    },
    "id": "nSszLDaQ1J9b",
    "outputId": "06be3741-c95f-49fe-fbb6-ad0cdb7d915f"
   },
   "outputs": [
    {
     "name": "stdout",
     "output_type": "stream",
     "text": [
      "                   pre       rec       spe        f1       geo       iba       sup\n",
      "\n",
      "          0       0.66      0.57      0.92      0.61      0.73      0.51      2816\n",
      "          1       0.89      0.92      0.57      0.91      0.73      0.55     11033\n",
      "\n",
      "avg / total       0.85      0.85      0.65      0.85      0.73      0.54     13849\n",
      "\n"
     ]
    },
    {
     "data": {
      "text/html": [
       "<div>\n",
       "<style scoped>\n",
       "    .dataframe tbody tr th:only-of-type {\n",
       "        vertical-align: middle;\n",
       "    }\n",
       "\n",
       "    .dataframe tbody tr th {\n",
       "        vertical-align: top;\n",
       "    }\n",
       "\n",
       "    .dataframe thead th {\n",
       "        text-align: right;\n",
       "    }\n",
       "</style>\n",
       "<table border=\"1\" class=\"dataframe\">\n",
       "  <thead>\n",
       "    <tr style=\"text-align: right;\">\n",
       "      <th>Classe prédite</th>\n",
       "      <th>0</th>\n",
       "      <th>1</th>\n",
       "    </tr>\n",
       "    <tr>\n",
       "      <th>Classe réelle</th>\n",
       "      <th></th>\n",
       "      <th></th>\n",
       "    </tr>\n",
       "  </thead>\n",
       "  <tbody>\n",
       "    <tr>\n",
       "      <th>0</th>\n",
       "      <td>1616</td>\n",
       "      <td>1200</td>\n",
       "    </tr>\n",
       "    <tr>\n",
       "      <th>1</th>\n",
       "      <td>839</td>\n",
       "      <td>10194</td>\n",
       "    </tr>\n",
       "  </tbody>\n",
       "</table>\n",
       "</div>"
      ],
      "text/plain": [
       "Classe prédite     0      1\n",
       "Classe réelle              \n",
       "0               1616   1200\n",
       "1                839  10194"
      ]
     },
     "metadata": {},
     "output_type": "display_data"
    }
   ],
   "source": [
    "print(classification_report_imbalanced(y_test_stem, y_pred_stem))\n",
    "\n",
    "confusion_matrix = pd.crosstab(y_test_stem, y_pred_stem, rownames=['Classe réelle'], colnames=['Classe prédite'])\n",
    "display(confusion_matrix)"
   ]
  },
  {
   "cell_type": "markdown",
   "metadata": {},
   "source": [
    "**6. ENREGISTREMENT DU MODELE**"
   ]
  },
  {
   "cell_type": "code",
   "execution_count": 16,
   "metadata": {
    "colab": {
     "base_uri": "https://localhost:8080/"
    },
    "id": "Qay88AQYqyrq",
    "outputId": "88d6f3a7-9147-49d2-a454-68c591c73487"
   },
   "outputs": [
    {
     "data": {
      "text/plain": [
       "['best_model2_combi.pkl']"
      ]
     },
     "execution_count": 16,
     "metadata": {},
     "output_type": "execute_result"
    }
   ],
   "source": [
    "joblib.dump(clf_rf, '5.d) best_model2_combi.pkl')"
   ]
  }
 ],
 "metadata": {
  "accelerator": "TPU",
  "colab": {
   "gpuType": "V28",
   "machine_shape": "hm",
   "provenance": []
  },
  "kernelspec": {
   "display_name": "Python 3 (ipykernel)",
   "language": "python",
   "name": "python3"
  },
  "language_info": {
   "codemirror_mode": {
    "name": "ipython",
    "version": 3
   },
   "file_extension": ".py",
   "mimetype": "text/x-python",
   "name": "python",
   "nbconvert_exporter": "python",
   "pygments_lexer": "ipython3",
   "version": "3.11.9"
  }
 },
 "nbformat": 4,
 "nbformat_minor": 4
}
