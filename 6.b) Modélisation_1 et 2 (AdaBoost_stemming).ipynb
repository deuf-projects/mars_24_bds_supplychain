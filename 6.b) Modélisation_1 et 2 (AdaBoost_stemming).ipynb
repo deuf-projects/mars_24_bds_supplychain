{
 "cells": [
  {
   "cell_type": "markdown",
   "metadata": {},
   "source": [
    "**1. IMPORTER LES LIBRAIRIES**"
   ]
  },
  {
   "cell_type": "code",
   "execution_count": 34,
   "metadata": {
    "id": "Zx5JYRmkwS2o"
   },
   "outputs": [],
   "source": [
    "import pandas as pd\n",
    "import numpy as np\n",
    "import matplotlib.pyplot as plt\n",
    "%matplotlib inline \n",
    "import seaborn as sns\n",
    "\n",
    "# Train_Test_Split\n",
    "from sklearn.model_selection import train_test_split\n",
    "\n",
    "# Ré-échantillonnage\n",
    "from imblearn.over_sampling import RandomOverSampler\n",
    "from imblearn.under_sampling import RandomUnderSampler\n",
    "\n",
    "# Modélisation\n",
    "from sklearn.ensemble import AdaBoostClassifier\n",
    "from sklearn.model_selection import RandomizedSearchCV\n",
    "\n",
    "# Performances\n",
    "from imblearn.metrics import classification_report_imbalanced\n",
    "from sklearn.metrics import f1_score\n",
    "\n",
    "# Enregistrer le modèle\n",
    "from sklearn import model_selection\n",
    "import joblib\n",
    "\n",
    "import warnings\n",
    "warnings.filterwarnings('ignore')"
   ]
  },
  {
   "cell_type": "markdown",
   "metadata": {},
   "source": [
    "**2. IMPORTER LE FICHIER**"
   ]
  },
  {
   "cell_type": "markdown",
   "metadata": {},
   "source": [
    "*Stemming / TF-IDF / Réduction de dimension*"
   ]
  },
  {
   "cell_type": "code",
   "execution_count": 35,
   "metadata": {
    "colab": {
     "base_uri": "https://localhost:8080/"
    },
    "id": "cxNQA9b5w9Gv",
    "outputId": "718762e5-b1c7-4a8f-d96a-965bd724a208"
   },
   "outputs": [
    {
     "name": "stdout",
     "output_type": "stream",
     "text": [
      "<class 'pandas.core.frame.DataFrame'>\n",
      "RangeIndex: 69243 entries, 0 to 69242\n",
      "Columns: 1102 entries, 0 to y\n",
      "dtypes: float16(1101), uint8(1)\n",
      "memory usage: 145.5 MB\n"
     ]
    },
    {
     "data": {
      "text/html": [
       "<div>\n",
       "<style scoped>\n",
       "    .dataframe tbody tr th:only-of-type {\n",
       "        vertical-align: middle;\n",
       "    }\n",
       "\n",
       "    .dataframe tbody tr th {\n",
       "        vertical-align: top;\n",
       "    }\n",
       "\n",
       "    .dataframe thead th {\n",
       "        text-align: right;\n",
       "    }\n",
       "</style>\n",
       "<table border=\"1\" class=\"dataframe\">\n",
       "  <thead>\n",
       "    <tr style=\"text-align: right;\">\n",
       "      <th></th>\n",
       "      <th>0</th>\n",
       "      <th>1</th>\n",
       "      <th>2</th>\n",
       "      <th>3</th>\n",
       "      <th>4</th>\n",
       "      <th>5</th>\n",
       "      <th>6</th>\n",
       "      <th>7</th>\n",
       "      <th>8</th>\n",
       "      <th>9</th>\n",
       "      <th>...</th>\n",
       "      <th>1092</th>\n",
       "      <th>1093</th>\n",
       "      <th>1094</th>\n",
       "      <th>1095</th>\n",
       "      <th>1096</th>\n",
       "      <th>1097</th>\n",
       "      <th>1098</th>\n",
       "      <th>ponctuation</th>\n",
       "      <th>sentiment</th>\n",
       "      <th>y</th>\n",
       "    </tr>\n",
       "  </thead>\n",
       "  <tbody>\n",
       "    <tr>\n",
       "      <th>0</th>\n",
       "      <td>0.0</td>\n",
       "      <td>0.0</td>\n",
       "      <td>0.0</td>\n",
       "      <td>0.0</td>\n",
       "      <td>0.0</td>\n",
       "      <td>0.0</td>\n",
       "      <td>0.0</td>\n",
       "      <td>0.0</td>\n",
       "      <td>0.0</td>\n",
       "      <td>0.0</td>\n",
       "      <td>...</td>\n",
       "      <td>0.0</td>\n",
       "      <td>0.0</td>\n",
       "      <td>0.0</td>\n",
       "      <td>0.0</td>\n",
       "      <td>0.0</td>\n",
       "      <td>0.0</td>\n",
       "      <td>0.0</td>\n",
       "      <td>-0.147949</td>\n",
       "      <td>-4.183594</td>\n",
       "      <td>3</td>\n",
       "    </tr>\n",
       "    <tr>\n",
       "      <th>1</th>\n",
       "      <td>0.0</td>\n",
       "      <td>0.0</td>\n",
       "      <td>0.0</td>\n",
       "      <td>0.0</td>\n",
       "      <td>0.0</td>\n",
       "      <td>0.0</td>\n",
       "      <td>0.0</td>\n",
       "      <td>0.0</td>\n",
       "      <td>0.0</td>\n",
       "      <td>0.0</td>\n",
       "      <td>...</td>\n",
       "      <td>0.0</td>\n",
       "      <td>0.0</td>\n",
       "      <td>0.0</td>\n",
       "      <td>0.0</td>\n",
       "      <td>0.0</td>\n",
       "      <td>0.0</td>\n",
       "      <td>0.0</td>\n",
       "      <td>-0.147949</td>\n",
       "      <td>-3.720703</td>\n",
       "      <td>5</td>\n",
       "    </tr>\n",
       "    <tr>\n",
       "      <th>2</th>\n",
       "      <td>0.0</td>\n",
       "      <td>0.0</td>\n",
       "      <td>0.0</td>\n",
       "      <td>0.0</td>\n",
       "      <td>0.0</td>\n",
       "      <td>0.0</td>\n",
       "      <td>0.0</td>\n",
       "      <td>0.0</td>\n",
       "      <td>0.0</td>\n",
       "      <td>0.0</td>\n",
       "      <td>...</td>\n",
       "      <td>0.0</td>\n",
       "      <td>0.0</td>\n",
       "      <td>0.0</td>\n",
       "      <td>0.0</td>\n",
       "      <td>0.0</td>\n",
       "      <td>0.0</td>\n",
       "      <td>0.0</td>\n",
       "      <td>-0.147949</td>\n",
       "      <td>5.550781</td>\n",
       "      <td>5</td>\n",
       "    </tr>\n",
       "    <tr>\n",
       "      <th>3</th>\n",
       "      <td>0.0</td>\n",
       "      <td>0.0</td>\n",
       "      <td>0.0</td>\n",
       "      <td>0.0</td>\n",
       "      <td>0.0</td>\n",
       "      <td>0.0</td>\n",
       "      <td>0.0</td>\n",
       "      <td>0.0</td>\n",
       "      <td>0.0</td>\n",
       "      <td>0.0</td>\n",
       "      <td>...</td>\n",
       "      <td>0.0</td>\n",
       "      <td>0.0</td>\n",
       "      <td>0.0</td>\n",
       "      <td>0.0</td>\n",
       "      <td>0.0</td>\n",
       "      <td>0.0</td>\n",
       "      <td>0.0</td>\n",
       "      <td>-0.147949</td>\n",
       "      <td>4.390625</td>\n",
       "      <td>5</td>\n",
       "    </tr>\n",
       "    <tr>\n",
       "      <th>4</th>\n",
       "      <td>0.0</td>\n",
       "      <td>0.0</td>\n",
       "      <td>0.0</td>\n",
       "      <td>0.0</td>\n",
       "      <td>0.0</td>\n",
       "      <td>0.0</td>\n",
       "      <td>0.0</td>\n",
       "      <td>0.0</td>\n",
       "      <td>0.0</td>\n",
       "      <td>0.0</td>\n",
       "      <td>...</td>\n",
       "      <td>0.0</td>\n",
       "      <td>0.0</td>\n",
       "      <td>0.0</td>\n",
       "      <td>0.0</td>\n",
       "      <td>0.0</td>\n",
       "      <td>0.0</td>\n",
       "      <td>0.0</td>\n",
       "      <td>-0.147949</td>\n",
       "      <td>0.625488</td>\n",
       "      <td>5</td>\n",
       "    </tr>\n",
       "  </tbody>\n",
       "</table>\n",
       "<p>5 rows × 1102 columns</p>\n",
       "</div>"
      ],
      "text/plain": [
       "     0    1    2    3    4    5    6    7    8    9  ...  1092  1093  1094  \\\n",
       "0  0.0  0.0  0.0  0.0  0.0  0.0  0.0  0.0  0.0  0.0  ...   0.0   0.0   0.0   \n",
       "1  0.0  0.0  0.0  0.0  0.0  0.0  0.0  0.0  0.0  0.0  ...   0.0   0.0   0.0   \n",
       "2  0.0  0.0  0.0  0.0  0.0  0.0  0.0  0.0  0.0  0.0  ...   0.0   0.0   0.0   \n",
       "3  0.0  0.0  0.0  0.0  0.0  0.0  0.0  0.0  0.0  0.0  ...   0.0   0.0   0.0   \n",
       "4  0.0  0.0  0.0  0.0  0.0  0.0  0.0  0.0  0.0  0.0  ...   0.0   0.0   0.0   \n",
       "\n",
       "   1095  1096  1097  1098  ponctuation  sentiment  y  \n",
       "0   0.0   0.0   0.0   0.0    -0.147949  -4.183594  3  \n",
       "1   0.0   0.0   0.0   0.0    -0.147949  -3.720703  5  \n",
       "2   0.0   0.0   0.0   0.0    -0.147949   5.550781  5  \n",
       "3   0.0   0.0   0.0   0.0    -0.147949   4.390625  5  \n",
       "4   0.0   0.0   0.0   0.0    -0.147949   0.625488  5  \n",
       "\n",
       "[5 rows x 1102 columns]"
      ]
     },
     "metadata": {},
     "output_type": "display_data"
    }
   ],
   "source": [
    "df_stem = pd.read_csv(\"4. Stemming_TF-IDF(Avec_Reduction).csv\").astype('float16')\n",
    "df_stem['y'] = df_stem['y'].astype('uint8')\n",
    "df_stem = df_stem.rename(columns={'1099' : 'ponctuation', '1100' : 'sentiment'})\n",
    "\n",
    "df_stem.info()\n",
    "display(df_stem.head())"
   ]
  },
  {
   "cell_type": "markdown",
   "metadata": {},
   "source": [
    "# **3. MODELISATION_1 (5 CLASSES)**"
   ]
  },
  {
   "cell_type": "markdown",
   "metadata": {},
   "source": [
    "*1) Préparation des données*"
   ]
  },
  {
   "cell_type": "code",
   "execution_count": 36,
   "metadata": {},
   "outputs": [],
   "source": [
    "# Target / Features\n",
    "X_stem = df_stem.drop('y', axis = 1).to_numpy()\n",
    "y_stem = df_stem['y'].to_numpy()"
   ]
  },
  {
   "cell_type": "code",
   "execution_count": 37,
   "metadata": {},
   "outputs": [],
   "source": [
    "# Train_Test_Split\n",
    "X_train_stem, X_test_stem, y_train_stem, y_test_stem = model_selection.train_test_split(X_stem, y_stem, test_size=0.2, random_state = 42)"
   ]
  },
  {
   "cell_type": "code",
   "execution_count": 38,
   "metadata": {},
   "outputs": [
    {
     "name": "stdout",
     "output_type": "stream",
     "text": [
      "X_train_stem = (55394, 1101)\n",
      "y_train_stem = (55394,)\n",
      "X_test_stem = (13849, 1101)\n",
      "y_test_stem = (13849,)\n"
     ]
    }
   ],
   "source": [
    "# Vérification shape\n",
    "print (\"X_train_stem =\", X_train_stem.shape)\n",
    "print (\"y_train_stem =\", y_train_stem.shape)\n",
    "print (\"X_test_stem =\", X_test_stem.shape)\n",
    "print (\"y_test_stem =\", y_test_stem.shape)"
   ]
  },
  {
   "cell_type": "code",
   "execution_count": 39,
   "metadata": {
    "id": "IS_Et_rCwZ0o"
   },
   "outputs": [
    {
     "name": "stdout",
     "output_type": "stream",
     "text": [
      "Classes échantillon undersampled stemming : {1: 1406, 2: 1406, 3: 1406, 4: 1406, 5: 1406}\n"
     ]
    }
   ],
   "source": [
    "# Undersampling\n",
    "rUs = RandomUnderSampler(random_state = 42)\n",
    "X_ru_stem, y_ru_stem = rUs.fit_resample(X_train_stem, y_train_stem)\n",
    "print('Classes échantillon undersampled stemming :', dict(pd.Series(y_ru_stem).value_counts()))"
   ]
  },
  {
   "cell_type": "markdown",
   "metadata": {
    "colab": {
     "base_uri": "https://localhost:8080/",
     "height": 235
    },
    "id": "LTdIHnsbyTYi",
    "outputId": "ccff6aac-724c-4b0e-a2fd-2e3761bcd730"
   },
   "source": [
    "*2) Modélisation*"
   ]
  },
  {
   "cell_type": "code",
   "execution_count": 40,
   "metadata": {},
   "outputs": [],
   "source": [
    "adaboost_model = AdaBoostClassifier(random_state = 42)\n",
    "adaboost_params = {'n_estimators': [10, 50, 100], # Nombre d'estimateurs dans l'ensemble\n",
    "                   'learning_rate': [0.01, 0.1, 0.5, 1]} # Taux d'apprentissage du modèle\n",
    "\n",
    "# Création de l'objet RandomizedSearchCV pour trouver les meilleurs hyperparamètres\n",
    "adaboost_random_1 = RandomizedSearchCV(adaboost_model, adaboost_params, n_iter=4, cv=5, n_jobs=-1)\n",
    "adaboost_random_1.fit(X_ru_stem, y_ru_stem)\n",
    "# Sélection du meilleur modèle trouvé par RandomizedSearchCV\n",
    "best_adaboost_model_1 = adaboost_random_1.best_estimator_"
   ]
  },
  {
   "cell_type": "markdown",
   "metadata": {},
   "source": [
    "*3) Performances*"
   ]
  },
  {
   "cell_type": "code",
   "execution_count": 41,
   "metadata": {},
   "outputs": [
    {
     "name": "stdout",
     "output_type": "stream",
     "text": [
      "Score du modèle : 0.503718680049101\n",
      "                   pre       rec       spe        f1       geo       iba       sup\n",
      "\n",
      "          1       0.22      0.69      0.67      0.33      0.68      0.46      1647\n",
      "          2       0.00      0.00      1.00      0.00      0.00      0.00       405\n",
      "          3       0.05      0.03      0.97      0.04      0.16      0.02       764\n",
      "          4       0.00      0.00      1.00      0.00      0.00      0.00      2688\n",
      "          5       0.71      0.70      0.56      0.70      0.62      0.40      8345\n",
      "\n",
      "avg / total       0.45      0.50      0.69      0.46      0.47      0.29     13849\n",
      "\n"
     ]
    },
    {
     "data": {
      "text/html": [
       "<div>\n",
       "<style scoped>\n",
       "    .dataframe tbody tr th:only-of-type {\n",
       "        vertical-align: middle;\n",
       "    }\n",
       "\n",
       "    .dataframe tbody tr th {\n",
       "        vertical-align: top;\n",
       "    }\n",
       "\n",
       "    .dataframe thead th {\n",
       "        text-align: right;\n",
       "    }\n",
       "</style>\n",
       "<table border=\"1\" class=\"dataframe\">\n",
       "  <thead>\n",
       "    <tr style=\"text-align: right;\">\n",
       "      <th>Classe prédite</th>\n",
       "      <th>1</th>\n",
       "      <th>3</th>\n",
       "      <th>4</th>\n",
       "      <th>5</th>\n",
       "    </tr>\n",
       "    <tr>\n",
       "      <th>Classe réelle</th>\n",
       "      <th></th>\n",
       "      <th></th>\n",
       "      <th></th>\n",
       "      <th></th>\n",
       "    </tr>\n",
       "  </thead>\n",
       "  <tbody>\n",
       "    <tr>\n",
       "      <th>1</th>\n",
       "      <td>1129</td>\n",
       "      <td>49</td>\n",
       "      <td>17</td>\n",
       "      <td>452</td>\n",
       "    </tr>\n",
       "    <tr>\n",
       "      <th>2</th>\n",
       "      <td>262</td>\n",
       "      <td>13</td>\n",
       "      <td>0</td>\n",
       "      <td>130</td>\n",
       "    </tr>\n",
       "    <tr>\n",
       "      <th>3</th>\n",
       "      <td>451</td>\n",
       "      <td>21</td>\n",
       "      <td>0</td>\n",
       "      <td>292</td>\n",
       "    </tr>\n",
       "    <tr>\n",
       "      <th>4</th>\n",
       "      <td>1052</td>\n",
       "      <td>81</td>\n",
       "      <td>0</td>\n",
       "      <td>1555</td>\n",
       "    </tr>\n",
       "    <tr>\n",
       "      <th>5</th>\n",
       "      <td>2277</td>\n",
       "      <td>234</td>\n",
       "      <td>8</td>\n",
       "      <td>5826</td>\n",
       "    </tr>\n",
       "  </tbody>\n",
       "</table>\n",
       "</div>"
      ],
      "text/plain": [
       "Classe prédite     1    3   4     5\n",
       "Classe réelle                      \n",
       "1               1129   49  17   452\n",
       "2                262   13   0   130\n",
       "3                451   21   0   292\n",
       "4               1052   81   0  1555\n",
       "5               2277  234   8  5826"
      ]
     },
     "metadata": {},
     "output_type": "display_data"
    }
   ],
   "source": [
    "y_pred_stem = best_adaboost_model_1.predict(X_test_stem)\n",
    "\n",
    "print(\"Score du modèle :\", best_adaboost_model_1.score(X_test_stem, y_test_stem))\n",
    "\n",
    "print(classification_report_imbalanced(y_test_stem, y_pred_stem))\n",
    "      \n",
    "confusion_matrix = pd.crosstab(y_test_stem, y_pred_stem, rownames=['Classe réelle'], colnames=['Classe prédite'])\n",
    "display(confusion_matrix)"
   ]
  },
  {
   "cell_type": "code",
   "execution_count": 42,
   "metadata": {},
   "outputs": [
    {
     "name": "stdout",
     "output_type": "stream",
     "text": [
      "f1_score AdaBoost_1 = 0.4643409798786885\n",
      "f1_score par classes AdaBoost_1 = [0.33118216 0.         0.03614458 0.         0.70192771]\n"
     ]
    }
   ],
   "source": [
    "# f1_score du modèle AdaBoost_1\n",
    "print('f1_score AdaBoost_1 =', f1_score(y_test_stem, y_pred_stem, average='weighted'))\n",
    "\n",
    "# f1_score par classe du modèle AdaBoost_1\n",
    "AD_f1_stem_1 = f1_score(y_test_stem, y_pred_stem, average=None)\n",
    "print('f1_score par classes AdaBoost_1 =', AD_f1_stem_1)"
   ]
  },
  {
   "cell_type": "markdown",
   "metadata": {},
   "source": [
    "*4) Enregistrement du modèle*"
   ]
  },
  {
   "cell_type": "code",
   "execution_count": 43,
   "metadata": {},
   "outputs": [
    {
     "data": {
      "text/plain": [
       "['6.b) adaboost_1.pkl']"
      ]
     },
     "execution_count": 43,
     "metadata": {},
     "output_type": "execute_result"
    }
   ],
   "source": [
    "joblib.dump(best_adaboost_model_1, '6.b) adaboost_1.pkl')"
   ]
  },
  {
   "cell_type": "markdown",
   "metadata": {},
   "source": [
    "# **4. MODELISATION_2 (BINAIRE)**"
   ]
  },
  {
   "cell_type": "markdown",
   "metadata": {},
   "source": [
    "*1) Préparation des données*"
   ]
  },
  {
   "cell_type": "code",
   "execution_count": 44,
   "metadata": {},
   "outputs": [],
   "source": [
    "### Classification binaire\n",
    "# Classe 0 : [1, 2, 3]\n",
    "# Classe 1 : [4, 5]\n",
    "df_stem['y'] = df_stem['y'].replace((1, 2, 3, 4, 5), (0, 0, 0, 1, 1))"
   ]
  },
  {
   "cell_type": "code",
   "execution_count": 45,
   "metadata": {},
   "outputs": [],
   "source": [
    "# Target / Features\n",
    "X_stem = df_stem.drop('y', axis = 1).to_numpy()\n",
    "y_stem = df_stem['y'].to_numpy()"
   ]
  },
  {
   "cell_type": "code",
   "execution_count": 46,
   "metadata": {},
   "outputs": [],
   "source": [
    "# Train_Test_Split\n",
    "X_train_stem, X_test_stem, y_train_stem, y_test_stem = model_selection.train_test_split(X_stem, y_stem, test_size=0.2, random_state = 42)"
   ]
  },
  {
   "cell_type": "code",
   "execution_count": 47,
   "metadata": {},
   "outputs": [
    {
     "name": "stdout",
     "output_type": "stream",
     "text": [
      "Classes échantillon undersampled stemming : {0: 11376, 1: 11376}\n"
     ]
    }
   ],
   "source": [
    "# Undersampling\n",
    "rUs = RandomUnderSampler(random_state = 42)\n",
    "X_ru_stem, y_ru_stem = rUs.fit_resample(X_train_stem, y_train_stem)\n",
    "print('Classes échantillon undersampled stemming :', dict(pd.Series(y_ru_stem).value_counts()))"
   ]
  },
  {
   "cell_type": "markdown",
   "metadata": {},
   "source": [
    "*2) Modélisation*"
   ]
  },
  {
   "cell_type": "code",
   "execution_count": 48,
   "metadata": {},
   "outputs": [],
   "source": [
    "adaboost_model = AdaBoostClassifier(random_state = 42)\n",
    "adaboost_params = {'n_estimators': [10, 50, 100], # Nombre d'estimateurs dans l'ensemble\n",
    "                   'learning_rate': [0.01, 0.1, 0.5, 1]} # Taux d'apprentissage du modèle\n",
    "\n",
    "# Création de l'objet RandomizedSearchCV pour trouver les meilleurs hyperparamètres\n",
    "adaboost_random_2 = RandomizedSearchCV(adaboost_model, adaboost_params, n_iter=4, cv=5, n_jobs=-1)\n",
    "adaboost_random_2.fit(X_ru_stem, y_ru_stem)\n",
    "# Sélection du meilleur modèle trouvé par RandomizedSearchCV\n",
    "best_adaboost_model_2 = adaboost_random_2.best_estimator_"
   ]
  },
  {
   "cell_type": "markdown",
   "metadata": {},
   "source": [
    "*3) Performances*"
   ]
  },
  {
   "cell_type": "code",
   "execution_count": 49,
   "metadata": {},
   "outputs": [
    {
     "name": "stdout",
     "output_type": "stream",
     "text": [
      "Score du modèle : 0.7571665824247238\n",
      "                   pre       rec       spe        f1       geo       iba       sup\n",
      "\n",
      "          0       0.44      0.73      0.76      0.55      0.75      0.56      2816\n",
      "          1       0.92      0.76      0.73      0.83      0.75      0.56     11033\n",
      "\n",
      "avg / total       0.82      0.76      0.74      0.78      0.75      0.56     13849\n",
      "\n"
     ]
    },
    {
     "data": {
      "text/html": [
       "<div>\n",
       "<style scoped>\n",
       "    .dataframe tbody tr th:only-of-type {\n",
       "        vertical-align: middle;\n",
       "    }\n",
       "\n",
       "    .dataframe tbody tr th {\n",
       "        vertical-align: top;\n",
       "    }\n",
       "\n",
       "    .dataframe thead th {\n",
       "        text-align: right;\n",
       "    }\n",
       "</style>\n",
       "<table border=\"1\" class=\"dataframe\">\n",
       "  <thead>\n",
       "    <tr style=\"text-align: right;\">\n",
       "      <th>Classe prédite</th>\n",
       "      <th>0</th>\n",
       "      <th>1</th>\n",
       "    </tr>\n",
       "    <tr>\n",
       "      <th>Classe réelle</th>\n",
       "      <th></th>\n",
       "      <th></th>\n",
       "    </tr>\n",
       "  </thead>\n",
       "  <tbody>\n",
       "    <tr>\n",
       "      <th>0</th>\n",
       "      <td>2052</td>\n",
       "      <td>764</td>\n",
       "    </tr>\n",
       "    <tr>\n",
       "      <th>1</th>\n",
       "      <td>2599</td>\n",
       "      <td>8434</td>\n",
       "    </tr>\n",
       "  </tbody>\n",
       "</table>\n",
       "</div>"
      ],
      "text/plain": [
       "Classe prédite     0     1\n",
       "Classe réelle             \n",
       "0               2052   764\n",
       "1               2599  8434"
      ]
     },
     "metadata": {},
     "output_type": "display_data"
    }
   ],
   "source": [
    "y_pred_stem = best_adaboost_model_2.predict(X_test_stem)\n",
    "\n",
    "print(\"Score du modèle :\", best_adaboost_model_2.score(X_test_stem, y_test_stem))\n",
    "\n",
    "print(classification_report_imbalanced(y_test_stem, y_pred_stem))\n",
    "      \n",
    "confusion_matrix = pd.crosstab(y_test_stem, y_pred_stem, rownames=['Classe réelle'], colnames=['Classe prédite'])\n",
    "display(confusion_matrix)"
   ]
  },
  {
   "cell_type": "code",
   "execution_count": 50,
   "metadata": {},
   "outputs": [
    {
     "name": "stdout",
     "output_type": "stream",
     "text": [
      "f1_score AdaBoost_2 = 0.7759917052772154\n",
      "f1_score par classes AdaBoost_2 = [0.54961832 0.83376996]\n"
     ]
    }
   ],
   "source": [
    "# f1_score du modèle AdaBoost_2\n",
    "print('f1_score AdaBoost_2 =', f1_score(y_test_stem, y_pred_stem, average='weighted'))\n",
    "\n",
    "# f1_score par classe du modèle AdaBoost_2\n",
    "AD_f1_stem_2 = f1_score(y_test_stem, y_pred_stem, average=None)\n",
    "print('f1_score par classes AdaBoost_2 =', AD_f1_stem_2)"
   ]
  },
  {
   "cell_type": "markdown",
   "metadata": {},
   "source": [
    "*4) Enregistrement du modèle*"
   ]
  },
  {
   "cell_type": "code",
   "execution_count": 51,
   "metadata": {},
   "outputs": [
    {
     "data": {
      "text/plain": [
       "['6.b) adaboost_2.pkl']"
      ]
     },
     "execution_count": 51,
     "metadata": {},
     "output_type": "execute_result"
    }
   ],
   "source": [
    "joblib.dump(best_adaboost_model_2, '6.b) adaboost_2.pkl')"
   ]
  }
 ],
 "metadata": {
  "colab": {
   "provenance": []
  },
  "kernelspec": {
   "display_name": "Python 3 (ipykernel)",
   "language": "python",
   "name": "python3"
  },
  "language_info": {
   "codemirror_mode": {
    "name": "ipython",
    "version": 3
   },
   "file_extension": ".py",
   "mimetype": "text/x-python",
   "name": "python",
   "nbconvert_exporter": "python",
   "pygments_lexer": "ipython3",
   "version": "3.11.9"
  }
 },
 "nbformat": 4,
 "nbformat_minor": 4
}
