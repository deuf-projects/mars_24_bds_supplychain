{
 "cells": [
  {
   "cell_type": "markdown",
   "id": "01a4b76d-59d4-4f19-9608-86bc9e720c98",
   "metadata": {
    "id": "01a4b76d-59d4-4f19-9608-86bc9e720c98"
   },
   "source": [
    "**1. IMPORTER LES LIBRAIRIES**"
   ]
  },
  {
   "cell_type": "code",
   "execution_count": 24,
   "id": "0b3ebafe-aaa4-4553-8e91-9e911284678c",
   "metadata": {
    "id": "0b3ebafe-aaa4-4553-8e91-9e911284678c",
    "scrolled": true
   },
   "outputs": [],
   "source": [
    "# pip install tensorflow==2.12.0 & keras==2.12.0\n",
    "import pandas as pd\n",
    "import numpy as np\n",
    "import matplotlib.pyplot as plt\n",
    "%matplotlib inline\n",
    "import re\n",
    "\n",
    "# Train_Test_Split\n",
    "from sklearn.model_selection import train_test_split\n",
    "\n",
    "# Deep Learning\n",
    "from keras.preprocessing.text import Tokenizer\n",
    "from keras.utils import pad_sequences\n",
    "from keras.initializers import Constant\n",
    "from keras.models import Model\n",
    "from keras.layers import *\n",
    "from tensorflow.python.keras import regularizers\n",
    "\n",
    "# Callbacks\n",
    "from tensorflow.keras.callbacks import ReduceLROnPlateau, EarlyStopping\n",
    "\n",
    "# Performances\n",
    "from sklearn.metrics import classification_report, confusion_matrix, accuracy_score\n",
    "\n",
    "# Enregistrer le modèle\n",
    "from sklearn import model_selection\n",
    "import joblib\n",
    "\n",
    "import warnings\n",
    "warnings.filterwarnings('ignore')"
   ]
  },
  {
   "cell_type": "markdown",
   "id": "c67b5971-6763-4ff1-b875-485191e73032",
   "metadata": {},
   "source": [
    "**2. IMPORTER LE FICHIER**"
   ]
  },
  {
   "cell_type": "code",
   "execution_count": 25,
   "id": "2b66b02d-8a3a-452c-bea7-59931d5cb015",
   "metadata": {},
   "outputs": [
    {
     "data": {
      "text/html": [
       "<div>\n",
       "<style scoped>\n",
       "    .dataframe tbody tr th:only-of-type {\n",
       "        vertical-align: middle;\n",
       "    }\n",
       "\n",
       "    .dataframe tbody tr th {\n",
       "        vertical-align: top;\n",
       "    }\n",
       "\n",
       "    .dataframe thead th {\n",
       "        text-align: right;\n",
       "    }\n",
       "</style>\n",
       "<table border=\"1\" class=\"dataframe\">\n",
       "  <thead>\n",
       "    <tr style=\"text-align: right;\">\n",
       "      <th></th>\n",
       "      <th>commentaires</th>\n",
       "      <th>notes</th>\n",
       "    </tr>\n",
       "  </thead>\n",
       "  <tbody>\n",
       "    <tr>\n",
       "      <th>0</th>\n",
       "      <td>commandee simple et rapide commande simple et ...</td>\n",
       "      <td>4</td>\n",
       "    </tr>\n",
       "    <tr>\n",
       "      <th>1</th>\n",
       "      <td>rapide et simple tres bon service</td>\n",
       "      <td>4</td>\n",
       "    </tr>\n",
       "    <tr>\n",
       "      <th>2</th>\n",
       "      <td>Honorable bon suivi !</td>\n",
       "      <td>4</td>\n",
       "    </tr>\n",
       "    <tr>\n",
       "      <th>3</th>\n",
       "      <td>Cdiscount cautionne l'escroquerie en ce… Cdisc...</td>\n",
       "      <td>0</td>\n",
       "    </tr>\n",
       "    <tr>\n",
       "      <th>4</th>\n",
       "      <td>Simple Simple, rapide, prix raisonnables et €c...</td>\n",
       "      <td>4</td>\n",
       "    </tr>\n",
       "  </tbody>\n",
       "</table>\n",
       "</div>"
      ],
      "text/plain": [
       "                                        commentaires  notes\n",
       "0  commandee simple et rapide commande simple et ...      4\n",
       "1                  rapide et simple tres bon service      4\n",
       "2                              Honorable bon suivi !      4\n",
       "3  Cdiscount cautionne l'escroquerie en ce… Cdisc...      0\n",
       "4  Simple Simple, rapide, prix raisonnables et €c...      4"
      ]
     },
     "execution_count": 25,
     "metadata": {},
     "output_type": "execute_result"
    }
   ],
   "source": [
    "df = pd.read_csv(\"2. Pre-processing & Feature engineering_1.csv\")\n",
    "df = df[['commentaires', 'notes']]\n",
    "\n",
    "# Remplace les notes 1,2,3,4,5 par 0,1,2,3,4\n",
    "df['notes'] = df['notes'].replace((1, 2, 3, 4, 5), (0, 1, 2, 3, 4))\n",
    "\n",
    "df.head()"
   ]
  },
  {
   "cell_type": "markdown",
   "id": "b2d95529-39bd-49c5-9dee-1b497d98f831",
   "metadata": {
    "id": "b2d95529-39bd-49c5-9dee-1b497d98f831"
   },
   "source": [
    "**3. PRE-PROCESSING & FEATURE ENGINEERING_2**"
   ]
  },
  {
   "cell_type": "code",
   "execution_count": 26,
   "id": "14d6a7a1-0a7f-4903-8eb9-8d38bd437142",
   "metadata": {},
   "outputs": [],
   "source": [
    "#############################\n",
    "### Nettoyage des données ###\n",
    "#############################\n",
    "def clean_str(commentaire):\n",
    "    commentaire = str(commentaire)\n",
    "    commentaire = re.sub(r'([^\\s\\w]|_)+', '', commentaire)\n",
    "    return commentaire.strip().lower()\n",
    "\n",
    "df['text'] = df['commentaires'].apply(clean_str)\n",
    "\n",
    "##########################\n",
    "### Ré-échantillonnage ###\n",
    "##########################\n",
    "# df.notes.value_counts()\n",
    "# >>> 4:43209, 3:13751, 0:10773, 2:4122, 1:1991\n",
    "# Notre jeu de données est déséquilibré\n",
    "df_0 = df[df['notes'] == 0].sample(frac=1)\n",
    "df_1 = df[df['notes'] == 1].sample(frac=1)\n",
    "df_2 = df[df['notes'] == 2].sample(frac=1)\n",
    "df_3 = df[df['notes'] == 3].sample(frac=1)\n",
    "df_4 = df[df['notes'] == 4].sample(frac=1)\n",
    "\n",
    "sample_size = len(df[df['notes'] == 0]) # Nombre d'échantillons minimum\n",
    "data = pd.concat([df_0.head(sample_size), df_1.head(sample_size), df_2.head(sample_size), df_3.head(sample_size), df_4.head(sample_size)]).sample(frac=1)\n",
    "\n",
    "####################\n",
    "### Tokenization ###\n",
    "####################\n",
    "sequence_length = 100\n",
    "max_features = 40000\n",
    "\n",
    "tokenizer = Tokenizer(num_words=max_features, split=' ', oov_token='<unw>')\n",
    "tokenizer.fit_on_texts(data['commentaires'].values)\n",
    "X = tokenizer.texts_to_sequences(data['commentaires'].values)\n",
    "\n",
    "###############\n",
    "### PADDING ###\n",
    "###############\n",
    "X = pad_sequences(X, sequence_length)\n",
    "\n",
    "#######################\n",
    "### DICHOTOMISATION ###\n",
    "#######################\n",
    "y = pd.get_dummies(data['notes']).values"
   ]
  },
  {
   "cell_type": "markdown",
   "id": "32099e2f-1856-4297-a38e-8e97189b803b",
   "metadata": {},
   "source": [
    "**4. TRAIN_TEST_SPLIT**"
   ]
  },
  {
   "cell_type": "code",
   "execution_count": 27,
   "id": "4612cf9d-8a48-48ee-9e2e-bd61ecd0ae23",
   "metadata": {},
   "outputs": [
    {
     "name": "stdout",
     "output_type": "stream",
     "text": [
      "X_train = (30745, 100)\n",
      "X_test = (7687, 100)\n",
      "y_train = (30745, 5)\n",
      "y_test = (7687, 5)\n"
     ]
    }
   ],
   "source": [
    "X_train, X_test, y_train, y_test = model_selection.train_test_split(X, y, test_size=0.2, random_state=42)\n",
    "\n",
    "# Vérification\n",
    "print(\"X_train =\", X_train.shape)\n",
    "print(\"X_test =\", X_test.shape)\n",
    "print(\"y_train =\", y_train.shape)\n",
    "print(\"y_test =\", y_test.shape)"
   ]
  },
  {
   "cell_type": "markdown",
   "id": "533730c8-86dc-4d64-8b95-85c278efc08c",
   "metadata": {},
   "source": [
    "**5. MODELISATION 1 : CNN aléatoire**"
   ]
  },
  {
   "cell_type": "code",
   "execution_count": 28,
   "id": "ebba8b5d-b15b-4b21-bb67-69d56040e8f7",
   "metadata": {},
   "outputs": [],
   "source": [
    "embedding_dim = 300\n",
    "num_filters = 100\n",
    "batch_size = 128\n",
    "epochs = 20"
   ]
  },
  {
   "cell_type": "code",
   "execution_count": 29,
   "id": "0b4cdd16-f975-40cc-b29e-ea60629ea1d6",
   "metadata": {},
   "outputs": [],
   "source": [
    "reduce_learning_rate = ReduceLROnPlateau(monitor = 'val_loss',\t\t\t\t\t\n",
    "                                         min_delta = 0.01 ,\t\t\t\t\n",
    "                                         patience = 3,\t\t\t\t\t\n",
    "                                         factor = 0.1, \t\t\t\t\n",
    "                                         cooldown = 4,\t\t\t\t\n",
    "                                         verbose = 1)\n",
    "\n",
    "early_stopping = EarlyStopping(monitor = 'val_loss',\n",
    "                               min_delta = 0.01,\n",
    "                               patience = 5,\n",
    "                               verbose = 1,\n",
    "                               mode='min',\n",
    "                               restore_best_weights = True)"
   ]
  },
  {
   "cell_type": "markdown",
   "id": "12d1cd58-b72e-4cdd-91d0-6ed1c43401c1",
   "metadata": {},
   "source": [
    "*1) Modélisation*"
   ]
  },
  {
   "cell_type": "code",
   "execution_count": 30,
   "id": "5e158b56-d626-4843-a922-3e1e22967f10",
   "metadata": {
    "scrolled": true
   },
   "outputs": [
    {
     "name": "stdout",
     "output_type": "stream",
     "text": [
      "Epoch 1/20\n",
      "193/193 [==============================] - 33s 169ms/step - loss: 1.8400 - accuracy: 0.2885 - val_loss: 1.4703 - val_accuracy: 0.2822\n",
      "Epoch 2/20\n",
      "193/193 [==============================] - 33s 172ms/step - loss: 1.4756 - accuracy: 0.3262 - val_loss: 1.5228 - val_accuracy: 0.3635\n",
      "Epoch 3/20\n",
      "193/193 [==============================] - 34s 175ms/step - loss: 1.4786 - accuracy: 0.4144 - val_loss: 1.4649 - val_accuracy: 0.4594\n",
      "Epoch 4/20\n",
      "193/193 [==============================] - 32s 166ms/step - loss: 1.4451 - accuracy: 0.4668 - val_loss: 1.4333 - val_accuracy: 0.4680\n",
      "Epoch 5/20\n",
      "193/193 [==============================] - 31s 162ms/step - loss: 1.4122 - accuracy: 0.4826 - val_loss: 1.4277 - val_accuracy: 0.4786\n",
      "Epoch 6/20\n",
      "193/193 [==============================] - 33s 171ms/step - loss: 1.3998 - accuracy: 0.4865 - val_loss: 1.3999 - val_accuracy: 0.4594\n",
      "Epoch 7/20\n",
      "193/193 [==============================] - 31s 160ms/step - loss: 1.3725 - accuracy: 0.5010 - val_loss: 1.4637 - val_accuracy: 0.4620\n",
      "Epoch 8/20\n",
      "193/193 [==============================] - 32s 166ms/step - loss: 1.3747 - accuracy: 0.4983 - val_loss: 1.4129 - val_accuracy: 0.4944\n",
      "Epoch 9/20\n",
      "193/193 [==============================] - 32s 164ms/step - loss: 1.3417 - accuracy: 0.5030 - val_loss: 1.3482 - val_accuracy: 0.5020\n",
      "Epoch 10/20\n",
      "193/193 [==============================] - 32s 166ms/step - loss: 1.3531 - accuracy: 0.5052 - val_loss: 1.3604 - val_accuracy: 0.4972\n",
      "Epoch 11/20\n",
      "193/193 [==============================] - 32s 163ms/step - loss: 1.3203 - accuracy: 0.5114 - val_loss: 1.3686 - val_accuracy: 0.4941\n",
      "Epoch 12/20\n",
      "193/193 [==============================] - 31s 160ms/step - loss: 1.3142 - accuracy: 0.5146 - val_loss: 1.3303 - val_accuracy: 0.5087\n",
      "Epoch 13/20\n",
      "193/193 [==============================] - 32s 165ms/step - loss: 1.2932 - accuracy: 0.5212 - val_loss: 1.3883 - val_accuracy: 0.4973\n",
      "Epoch 14/20\n",
      "193/193 [==============================] - 32s 168ms/step - loss: 1.3064 - accuracy: 0.5187 - val_loss: 1.3936 - val_accuracy: 0.4981\n",
      "Epoch 15/20\n",
      "193/193 [==============================] - 32s 163ms/step - loss: 1.2836 - accuracy: 0.5218 - val_loss: 1.4455 - val_accuracy: 0.4864\n",
      "Epoch 16/20\n",
      "193/193 [==============================] - 31s 162ms/step - loss: 1.2877 - accuracy: 0.5245 - val_loss: 1.3401 - val_accuracy: 0.5071\n",
      "Epoch 17/20\n",
      "193/193 [==============================] - 31s 161ms/step - loss: 1.2790 - accuracy: 0.5285 - val_loss: 1.3968 - val_accuracy: 0.4861\n",
      "Epoch 18/20\n",
      "193/193 [==============================] - 32s 167ms/step - loss: 1.2699 - accuracy: 0.5293 - val_loss: 1.3164 - val_accuracy: 0.5061\n",
      "Epoch 19/20\n",
      "193/193 [==============================] - 32s 167ms/step - loss: 1.2641 - accuracy: 0.5280 - val_loss: 1.3234 - val_accuracy: 0.4671\n",
      "Epoch 20/20\n",
      "193/193 [==============================] - 32s 166ms/step - loss: 1.2753 - accuracy: 0.5301 - val_loss: 1.2919 - val_accuracy: 0.5111\n"
     ]
    }
   ],
   "source": [
    "########################\n",
    "### Architecture CNN ###\n",
    "########################\n",
    "inputs = Input(shape=(sequence_length,), dtype='int32')\n",
    "embedding_layer = Embedding(input_dim=max_features, output_dim=embedding_dim, input_length=sequence_length)(inputs)\n",
    "reshape = Reshape((sequence_length, embedding_dim, 1))(embedding_layer)\n",
    "conv_0 = Conv2D(num_filters, kernel_size=(3, embedding_dim), activation='relu', kernel_regularizer=regularizers.l2(3))(reshape)\n",
    "conv_1 = Conv2D(num_filters, kernel_size=(4, embedding_dim), activation='relu', kernel_regularizer=regularizers.l2(3))(reshape)\n",
    "conv_2 = Conv2D(num_filters, kernel_size=(5, embedding_dim), activation='relu', kernel_regularizer=regularizers.l2(3))(reshape)\n",
    "maxpool_0 = MaxPool2D(pool_size=(sequence_length - 3 + 1, 1), strides=(1,1), padding='valid')(conv_0)\n",
    "maxpool_1 = MaxPool2D(pool_size=(sequence_length - 4 + 1, 1), strides=(1,1), padding='valid')(conv_1)\n",
    "maxpool_2 = MaxPool2D(pool_size=(sequence_length - 5 + 1, 1), strides=(1,1), padding='valid')(conv_2)\n",
    "concatenated_tensor = Concatenate(axis=1)([maxpool_0, maxpool_1, maxpool_2])\n",
    "flatten = Flatten()(concatenated_tensor)\n",
    "dropout = Dropout(0.5)(flatten)\n",
    "output = Dense(units=5, activation='softmax')(dropout)\n",
    "\n",
    "###################\n",
    "### Compilation ###\n",
    "###################\n",
    "model = Model(inputs=inputs, outputs=output)\n",
    "model.compile(loss='categorical_crossentropy', optimizer='adam', metrics=['accuracy'])\n",
    "# print(model.summary())\n",
    "\n",
    "##############################\n",
    "### Entraînement du modèle ###\n",
    "##############################\n",
    "history = model.fit(X_train, y_train, \n",
    "                    epochs=epochs, \n",
    "                    batch_size=batch_size, \n",
    "                    verbose=1, \n",
    "                    validation_split=0.2, \n",
    "                    shuffle=True)\n",
    "                    #callbacks = [reduce_learning_rate, early_stopping])"
   ]
  },
  {
   "cell_type": "markdown",
   "id": "bdcc00d8-4abe-4f8a-b310-2982e475e2f6",
   "metadata": {},
   "source": [
    "*2) Performances du modèle*"
   ]
  },
  {
   "cell_type": "code",
   "execution_count": 31,
   "id": "b06095ea-57fd-4aed-b8d8-0e1d8be9d161",
   "metadata": {},
   "outputs": [
    {
     "data": {
      "image/png": "[encoded data removed]",
      "text/plain": [
       "<Figure size 1200x300 with 2 Axes>"
      ]
     },
     "metadata": {},
     "output_type": "display_data"
    }
   ],
   "source": [
    "plt.figure(figsize=(12,3))\n",
    "plt.subplot(121)\n",
    "plt.plot(history.history['accuracy'])\n",
    "plt.plot(history.history['val_accuracy'])\n",
    "plt.title('model accuracy')\n",
    "plt.ylabel('accuracy')\n",
    "plt.xlabel('epoch')\n",
    "plt.legend(['train', 'validation'], loc='upper left')\n",
    "\n",
    "plt.subplot(122)\n",
    "plt.plot(history.history['loss'])\n",
    "plt.plot(history.history['val_loss'])\n",
    "plt.title('model loss')\n",
    "plt.ylabel('loss')\n",
    "plt.xlabel('epoch')\n",
    "plt.legend(['train', 'validation'], loc='upper left')\n",
    "plt.show()"
   ]
  },
  {
   "cell_type": "code",
   "execution_count": 32,
   "id": "7a539ac6-6e17-455f-8be2-86edde2acb2d",
   "metadata": {},
   "outputs": [
    {
     "name": "stdout",
     "output_type": "stream",
     "text": [
      "241/241 [==============================] - 2s 9ms/step\n",
      "              precision    recall  f1-score   support\n",
      "\n",
      "           0       0.63      0.84      0.72      2216\n",
      "           1       0.00      0.00      0.00       405\n",
      "           2       0.00      0.00      0.00       828\n",
      "           3       0.35      0.26      0.30      2108\n",
      "           4       0.48      0.70      0.57      2130\n",
      "\n",
      "    accuracy                           0.51      7687\n",
      "   macro avg       0.29      0.36      0.32      7687\n",
      "weighted avg       0.41      0.51      0.45      7687\n",
      "\n"
     ]
    },
    {
     "data": {
      "text/html": [
       "<div>\n",
       "<style scoped>\n",
       "    .dataframe tbody tr th:only-of-type {\n",
       "        vertical-align: middle;\n",
       "    }\n",
       "\n",
       "    .dataframe tbody tr th {\n",
       "        vertical-align: top;\n",
       "    }\n",
       "\n",
       "    .dataframe thead th {\n",
       "        text-align: right;\n",
       "    }\n",
       "</style>\n",
       "<table border=\"1\" class=\"dataframe\">\n",
       "  <thead>\n",
       "    <tr style=\"text-align: right;\">\n",
       "      <th>Classe prédite</th>\n",
       "      <th>0</th>\n",
       "      <th>3</th>\n",
       "      <th>4</th>\n",
       "    </tr>\n",
       "    <tr>\n",
       "      <th>Classe réelle</th>\n",
       "      <th></th>\n",
       "      <th></th>\n",
       "      <th></th>\n",
       "    </tr>\n",
       "  </thead>\n",
       "  <tbody>\n",
       "    <tr>\n",
       "      <th>0</th>\n",
       "      <td>1871</td>\n",
       "      <td>218</td>\n",
       "      <td>127</td>\n",
       "    </tr>\n",
       "    <tr>\n",
       "      <th>1</th>\n",
       "      <td>260</td>\n",
       "      <td>98</td>\n",
       "      <td>47</td>\n",
       "    </tr>\n",
       "    <tr>\n",
       "      <th>2</th>\n",
       "      <td>330</td>\n",
       "      <td>309</td>\n",
       "      <td>189</td>\n",
       "    </tr>\n",
       "    <tr>\n",
       "      <th>3</th>\n",
       "      <td>295</td>\n",
       "      <td>556</td>\n",
       "      <td>1257</td>\n",
       "    </tr>\n",
       "    <tr>\n",
       "      <th>4</th>\n",
       "      <td>214</td>\n",
       "      <td>423</td>\n",
       "      <td>1493</td>\n",
       "    </tr>\n",
       "  </tbody>\n",
       "</table>\n",
       "</div>"
      ],
      "text/plain": [
       "Classe prédite     0    3     4\n",
       "Classe réelle                  \n",
       "0               1871  218   127\n",
       "1                260   98    47\n",
       "2                330  309   189\n",
       "3                295  556  1257\n",
       "4                214  423  1493"
      ]
     },
     "metadata": {},
     "output_type": "display_data"
    }
   ],
   "source": [
    "y_pred = model.predict(X_test)\n",
    "accuracy_score(list(map(lambda x: np.argmax(x), y_test)), list(map(lambda x: np.argmax(x), y_pred)))\n",
    "\n",
    "print(classification_report(np.argmax(y_test, axis=1), np.argmax(y_pred, axis=1)))\n",
    "\n",
    "confusion_matrix = pd.crosstab(np.argmax(y_test, axis=1), np.argmax(y_pred, axis=1), rownames=['Classe réelle'], colnames=['Classe prédite'])\n",
    "display(confusion_matrix)"
   ]
  },
  {
   "cell_type": "markdown",
   "id": "b5d7467b-5a49-4b34-aa0f-0a73d1f025f6",
   "metadata": {},
   "source": [
    "**6. ENREGISTREMENT DU MODELE**"
   ]
  },
  {
   "cell_type": "code",
   "execution_count": 33,
   "id": "657ec036-7146-4b28-a60b-1921709966e2",
   "metadata": {},
   "outputs": [
    {
     "data": {
      "text/plain": [
       "['7.a) Deep_Learning_1.pkl']"
      ]
     },
     "execution_count": 33,
     "metadata": {},
     "output_type": "execute_result"
    }
   ],
   "source": [
    "joblib.dump(model, '7.a) Deep_Learning_1.pkl')"
   ]
  }
 ],
 "metadata": {
  "colab": {
   "provenance": []
  },
  "kernelspec": {
   "display_name": "Python 3 (ipykernel)",
   "language": "python",
   "name": "python3"
  },
  "language_info": {
   "codemirror_mode": {
    "name": "ipython",
    "version": 3
   },
   "file_extension": ".py",
   "mimetype": "text/x-python",
   "name": "python",
   "nbconvert_exporter": "python",
   "pygments_lexer": "ipython3",
   "version": "3.11.9"
  }
 },
 "nbformat": 4,
 "nbformat_minor": 5
}
