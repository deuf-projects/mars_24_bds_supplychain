{
 "cells": [
  {
   "cell_type": "markdown",
   "id": "1398c3ca-fdfc-4702-8792-ef4ef4b24e8f",
   "metadata": {},
   "source": [
    "**1. INSTALLER LES LIBRAIRIES**"
   ]
  },
  {
   "cell_type": "code",
   "execution_count": 174,
   "id": "8e3cac18-2b8f-44e7-aff1-665c0831362d",
   "metadata": {},
   "outputs": [],
   "source": [
    "# Exécuter seulement si ce n'est pas encore intallé\n",
    "\n",
    "# !pip install langdetect\n",
    "# !pip install textblob\n",
    "# !pip install -U textblob-fr"
   ]
  },
  {
   "cell_type": "markdown",
   "id": "3ceaa7d8-5283-4ca4-90ca-6e9a839afe13",
   "metadata": {},
   "source": [
    "**2. IMPORTER LES LIBRAIRIES**"
   ]
  },
  {
   "cell_type": "code",
   "execution_count": 175,
   "id": "285a0b7a-3aeb-4490-acd6-dd114b022933",
   "metadata": {},
   "outputs": [],
   "source": [
    "import pandas as pd\n",
    "import numpy as np\n",
    "\n",
    "import datetime\n",
    "import re\n",
    "\n",
    "from langdetect import detect\n",
    "\n",
    "from textblob import Blobber\n",
    "from textblob_fr import PatternTagger, PatternAnalyzer\n",
    "tb = Blobber(pos_tagger=PatternTagger(), analyzer=PatternAnalyzer())\n",
    "\n",
    "import warnings\n",
    "warnings.filterwarnings('ignore')"
   ]
  },
  {
   "cell_type": "markdown",
   "id": "12b04f58-935b-4cdd-8243-4f383863e0ba",
   "metadata": {},
   "source": [
    "**3. IMPORTER LE FICHIER**"
   ]
  },
  {
   "cell_type": "code",
   "execution_count": 176,
   "id": "e61692f8-235d-4b03-b963-bfe63fc54ccd",
   "metadata": {},
   "outputs": [
    {
     "name": "stdout",
     "output_type": "stream",
     "text": [
      "<class 'pandas.core.frame.DataFrame'>\n",
      "RangeIndex: 83660 entries, 0 to 83659\n",
      "Data columns (total 8 columns):\n",
      " #   Column            Non-Null Count  Dtype \n",
      "---  ------            --------------  ----- \n",
      " 0   nom               83659 non-null  object\n",
      " 1   notes             83660 non-null  int64 \n",
      " 2   pays              83660 non-null  object\n",
      " 3   nbr_avis          83660 non-null  object\n",
      " 4   date_publication  83660 non-null  object\n",
      " 5   date_experience   83660 non-null  object\n",
      " 6   commentaire       83660 non-null  object\n",
      " 7   titre             83659 non-null  object\n",
      "dtypes: int64(1), object(7)\n",
      "memory usage: 5.1+ MB\n"
     ]
    },
    {
     "data": {
      "text/html": [
       "<div>\n",
       "<style scoped>\n",
       "    .dataframe tbody tr th:only-of-type {\n",
       "        vertical-align: middle;\n",
       "    }\n",
       "\n",
       "    .dataframe tbody tr th {\n",
       "        vertical-align: top;\n",
       "    }\n",
       "\n",
       "    .dataframe thead th {\n",
       "        text-align: right;\n",
       "    }\n",
       "</style>\n",
       "<table border=\"1\" class=\"dataframe\">\n",
       "  <thead>\n",
       "    <tr style=\"text-align: right;\">\n",
       "      <th></th>\n",
       "      <th>nom</th>\n",
       "      <th>notes</th>\n",
       "      <th>pays</th>\n",
       "      <th>nbr_avis</th>\n",
       "      <th>date_publication</th>\n",
       "      <th>date_experience</th>\n",
       "      <th>commentaire</th>\n",
       "      <th>titre</th>\n",
       "    </tr>\n",
       "  </thead>\n",
       "  <tbody>\n",
       "    <tr>\n",
       "      <th>0</th>\n",
       "      <td>Andy Sisley</td>\n",
       "      <td>2</td>\n",
       "      <td>GB</td>\n",
       "      <td>3 reviews</td>\n",
       "      <td>3 days ago</td>\n",
       "      <td>Date of experience: March 29, 2024</td>\n",
       "      <td>Very poor customer service when a seller fails...</td>\n",
       "      <td>Very poor customer service when a…</td>\n",
       "    </tr>\n",
       "    <tr>\n",
       "      <th>1</th>\n",
       "      <td>GUY PEYRONNENC</td>\n",
       "      <td>5</td>\n",
       "      <td>FR</td>\n",
       "      <td>7 reviews</td>\n",
       "      <td>2 days ago</td>\n",
       "      <td>Date of experience: April 09, 2024</td>\n",
       "      <td>commande simple et rapide</td>\n",
       "      <td>commandee simple et rapide</td>\n",
       "    </tr>\n",
       "    <tr>\n",
       "      <th>2</th>\n",
       "      <td>Client</td>\n",
       "      <td>5</td>\n",
       "      <td>FR</td>\n",
       "      <td>9 reviews</td>\n",
       "      <td>20 hours ago</td>\n",
       "      <td>Date of experience: April 10, 2024</td>\n",
       "      <td>super merci</td>\n",
       "      <td>rapide et simple</td>\n",
       "    </tr>\n",
       "    <tr>\n",
       "      <th>3</th>\n",
       "      <td>bernard auge</td>\n",
       "      <td>5</td>\n",
       "      <td>FR</td>\n",
       "      <td>1 review</td>\n",
       "      <td>4 days ago</td>\n",
       "      <td>Date of experience: April 07, 2024</td>\n",
       "      <td>tres bon service</td>\n",
       "      <td>rapide et simple</td>\n",
       "    </tr>\n",
       "    <tr>\n",
       "      <th>4</th>\n",
       "      <td>notzli walter</td>\n",
       "      <td>5</td>\n",
       "      <td>FR</td>\n",
       "      <td>12 reviews</td>\n",
       "      <td>5 days ago</td>\n",
       "      <td>Date of experience: April 06, 2024</td>\n",
       "      <td>Cdiscount allows false advertising on their pl...</td>\n",
       "      <td>super merci</td>\n",
       "    </tr>\n",
       "  </tbody>\n",
       "</table>\n",
       "</div>"
      ],
      "text/plain": [
       "              nom  notes pays    nbr_avis date_publication  \\\n",
       "0     Andy Sisley      2   GB   3 reviews       3 days ago   \n",
       "1  GUY PEYRONNENC      5   FR   7 reviews       2 days ago   \n",
       "2          Client      5   FR   9 reviews     20 hours ago   \n",
       "3    bernard auge      5   FR    1 review       4 days ago   \n",
       "4   notzli walter      5   FR  12 reviews       5 days ago   \n",
       "\n",
       "                      date_experience  \\\n",
       "0  Date of experience: March 29, 2024   \n",
       "1  Date of experience: April 09, 2024   \n",
       "2  Date of experience: April 10, 2024   \n",
       "3  Date of experience: April 07, 2024   \n",
       "4  Date of experience: April 06, 2024   \n",
       "\n",
       "                                         commentaire  \\\n",
       "0  Very poor customer service when a seller fails...   \n",
       "1                          commande simple et rapide   \n",
       "2                                       super merci    \n",
       "3                                   tres bon service   \n",
       "4  Cdiscount allows false advertising on their pl...   \n",
       "\n",
       "                                titre  \n",
       "0  Very poor customer service when a…  \n",
       "1          commandee simple et rapide  \n",
       "2                    rapide et simple  \n",
       "3                    rapide et simple  \n",
       "4                         super merci  "
      ]
     },
     "metadata": {},
     "output_type": "display_data"
    },
    {
     "name": "stdout",
     "output_type": "stream",
     "text": [
      "Nombre de valeurs nulles : 2\n"
     ]
    }
   ],
   "source": [
    "# Import du fichier .csv obtenu suite au Webscrapping avec les noms de colonnes associées.\n",
    "col_names = ['nom', 'notes', 'pays', 'nbr_avis', 'date_publication', 'date_experience', 'commentaire', 'titre',] \n",
    "df = pd.read_csv(\"1. Résultats Wepscrapping.csv\", names = col_names)\n",
    "\n",
    "df.info()\n",
    "display(df.head())\n",
    "print(\"Nombre de valeurs nulles :\", df.isna().sum().sum())"
   ]
  },
  {
   "cell_type": "markdown",
   "id": "651c69cc-2c00-4f0a-b6a2-0156f950efa3",
   "metadata": {},
   "source": [
    "**4. PRE-PROCESSING & FEATURE ENGINEERING_1**"
   ]
  },
  {
   "cell_type": "markdown",
   "id": "50efdc43-a986-4d51-ac14-f393fee2f3c2",
   "metadata": {},
   "source": [
    "*1) Suppression des lignes avec une valeur nulle*"
   ]
  },
  {
   "cell_type": "code",
   "execution_count": 177,
   "id": "09a123cf-7daa-4197-865a-2869bc46f817",
   "metadata": {},
   "outputs": [
    {
     "name": "stdout",
     "output_type": "stream",
     "text": [
      "Nombre de valeurs nulles restant : 0\n"
     ]
    }
   ],
   "source": [
    "df = df.dropna(axis=0, how='any')\n",
    "# Vérification\n",
    "print(\"Nombre de valeurs nulles restant :\", df.isna().sum().sum())"
   ]
  },
  {
   "cell_type": "markdown",
   "id": "c64fd251-061c-42db-8631-de5023d9a50e",
   "metadata": {},
   "source": [
    "*2) Conserver uniquement les avis provenant de France*"
   ]
  },
  {
   "cell_type": "code",
   "execution_count": 178,
   "id": "340ab9f0-65c1-4a29-ae32-3bf127d3987e",
   "metadata": {},
   "outputs": [
    {
     "name": "stdout",
     "output_type": "stream",
     "text": [
      "Nombre d'avis provenant d'un pays autre que la France : 1712\n",
      "Nombre d'avis restant provenant d'un pays autre que la France : 0\n"
     ]
    }
   ],
   "source": [
    "print(\"Nombre d'avis provenant d'un pays autre que la France :\", len(df.loc[(df['pays'] != 'FR')]))\n",
    "df = df.drop(df[(df['pays'] != 'FR')].index)\n",
    "# Réinitialiser l'index\n",
    "df = df.reset_index(drop=True)\n",
    "# Vérification\n",
    "print(\"Nombre d'avis restant provenant d'un pays autre que la France :\", len(df.loc[(df['pays'] != 'FR')]))"
   ]
  },
  {
   "cell_type": "markdown",
   "id": "d896deca-c1a0-44ca-bb0f-0f5f3568c8a5",
   "metadata": {},
   "source": [
    "*3) Fusionner les colonnes 'commentaire' et 'titre'*"
   ]
  },
  {
   "cell_type": "code",
   "execution_count": 179,
   "id": "05ed1e4c-c359-4c8b-af07-073504cd2f26",
   "metadata": {},
   "outputs": [
    {
     "name": "stdout",
     "output_type": "stream",
     "text": [
      "Nombre de lignes sans commentaires : 22499\n"
     ]
    },
    {
     "data": {
      "text/html": [
       "<div>\n",
       "<style scoped>\n",
       "    .dataframe tbody tr th:only-of-type {\n",
       "        vertical-align: middle;\n",
       "    }\n",
       "\n",
       "    .dataframe tbody tr th {\n",
       "        vertical-align: top;\n",
       "    }\n",
       "\n",
       "    .dataframe thead th {\n",
       "        text-align: right;\n",
       "    }\n",
       "</style>\n",
       "<table border=\"1\" class=\"dataframe\">\n",
       "  <thead>\n",
       "    <tr style=\"text-align: right;\">\n",
       "      <th></th>\n",
       "      <th>nom</th>\n",
       "      <th>notes</th>\n",
       "      <th>pays</th>\n",
       "      <th>nbr_avis</th>\n",
       "      <th>date_publication</th>\n",
       "      <th>date_experience</th>\n",
       "      <th>commentaire</th>\n",
       "      <th>titre</th>\n",
       "      <th>commentaires</th>\n",
       "    </tr>\n",
       "  </thead>\n",
       "  <tbody>\n",
       "    <tr>\n",
       "      <th>0</th>\n",
       "      <td>GUY PEYRONNENC</td>\n",
       "      <td>5</td>\n",
       "      <td>FR</td>\n",
       "      <td>7 reviews</td>\n",
       "      <td>2 days ago</td>\n",
       "      <td>Date of experience: April 09, 2024</td>\n",
       "      <td>commande simple et rapide</td>\n",
       "      <td>commandee simple et rapide</td>\n",
       "      <td>commandee simple et rapide commande simple et ...</td>\n",
       "    </tr>\n",
       "    <tr>\n",
       "      <th>1</th>\n",
       "      <td>Client</td>\n",
       "      <td>5</td>\n",
       "      <td>FR</td>\n",
       "      <td>9 reviews</td>\n",
       "      <td>20 hours ago</td>\n",
       "      <td>Date of experience: April 10, 2024</td>\n",
       "      <td>super merci</td>\n",
       "      <td>rapide et simple</td>\n",
       "      <td>rapide et simple super merci</td>\n",
       "    </tr>\n",
       "    <tr>\n",
       "      <th>2</th>\n",
       "      <td>bernard auge</td>\n",
       "      <td>5</td>\n",
       "      <td>FR</td>\n",
       "      <td>1 review</td>\n",
       "      <td>4 days ago</td>\n",
       "      <td>Date of experience: April 07, 2024</td>\n",
       "      <td>tres bon service</td>\n",
       "      <td>rapide et simple</td>\n",
       "      <td>rapide et simple tres bon service</td>\n",
       "    </tr>\n",
       "    <tr>\n",
       "      <th>3</th>\n",
       "      <td>notzli walter</td>\n",
       "      <td>5</td>\n",
       "      <td>FR</td>\n",
       "      <td>12 reviews</td>\n",
       "      <td>5 days ago</td>\n",
       "      <td>Date of experience: April 06, 2024</td>\n",
       "      <td>Cdiscount allows false advertising on their pl...</td>\n",
       "      <td>super merci</td>\n",
       "      <td>super merci Cdiscount allows false advertising...</td>\n",
       "    </tr>\n",
       "    <tr>\n",
       "      <th>4</th>\n",
       "      <td>Cat Deshallus</td>\n",
       "      <td>5</td>\n",
       "      <td>FR</td>\n",
       "      <td>12 reviews</td>\n",
       "      <td>5 days ago</td>\n",
       "      <td>Date of experience: April 06, 2024</td>\n",
       "      <td>Hello. can you plase advise if this is your ma...</td>\n",
       "      <td>simple et efficace</td>\n",
       "      <td>simple et efficace Hello. can you plase advise...</td>\n",
       "    </tr>\n",
       "  </tbody>\n",
       "</table>\n",
       "</div>"
      ],
      "text/plain": [
       "              nom  notes pays    nbr_avis date_publication  \\\n",
       "0  GUY PEYRONNENC      5   FR   7 reviews       2 days ago   \n",
       "1          Client      5   FR   9 reviews     20 hours ago   \n",
       "2    bernard auge      5   FR    1 review       4 days ago   \n",
       "3   notzli walter      5   FR  12 reviews       5 days ago   \n",
       "4   Cat Deshallus      5   FR  12 reviews       5 days ago   \n",
       "\n",
       "                      date_experience  \\\n",
       "0  Date of experience: April 09, 2024   \n",
       "1  Date of experience: April 10, 2024   \n",
       "2  Date of experience: April 07, 2024   \n",
       "3  Date of experience: April 06, 2024   \n",
       "4  Date of experience: April 06, 2024   \n",
       "\n",
       "                                         commentaire  \\\n",
       "0                          commande simple et rapide   \n",
       "1                                       super merci    \n",
       "2                                   tres bon service   \n",
       "3  Cdiscount allows false advertising on their pl...   \n",
       "4  Hello. can you plase advise if this is your ma...   \n",
       "\n",
       "                        titre  \\\n",
       "0  commandee simple et rapide   \n",
       "1            rapide et simple   \n",
       "2            rapide et simple   \n",
       "3                 super merci   \n",
       "4          simple et efficace   \n",
       "\n",
       "                                        commentaires  \n",
       "0  commandee simple et rapide commande simple et ...  \n",
       "1                      rapide et simple super merci   \n",
       "2                  rapide et simple tres bon service  \n",
       "3  super merci Cdiscount allows false advertising...  \n",
       "4  simple et efficace Hello. can you plase advise...  "
      ]
     },
     "execution_count": 179,
     "metadata": {},
     "output_type": "execute_result"
    }
   ],
   "source": [
    "# Nous avons déjà supprimer les lignes avec une valeur nulle.\n",
    "# Ici, les lignes sans commentaires sont indiquées par les termes \"No comment\" dans la colonne \"commentaire\".\n",
    "print(\"Nombre de lignes sans commentaires :\", df.loc[(df['commentaire'] == 'No comment')].shape[0])\n",
    "\n",
    "# Fusionner les colonnes 'commentaires' et 'titre' dans une nouvelle colonne 'commentaires'\n",
    "commentaires = []\n",
    "for i in df.index :\n",
    "    # S'il n'y pas de commentaires, définir le titre comme le commentaire\n",
    "    if (df['commentaire'][i] == \"No comment\") :\n",
    "        commentaires.append(df['titre'][i])\n",
    "    # Si le titre et le commentaire sont identiques, conserver uniquement le commentaire\n",
    "    elif (df['titre'][i] == df['commentaire'][i]):\n",
    "        commentaires.append(df['commentaire'][i])\n",
    "    # Sinon, fusionner le titre et le commentaire\n",
    "    else : \n",
    "        commentaires.append(df['titre'][i] + \" \" + df['commentaire'][i])\n",
    "\n",
    "# Ajouter la nouvelle colonne 'commentaires' au Dataframe\n",
    "nouvelle_colonne = pd.DataFrame(commentaires, columns=[\"commentaires\"])\n",
    "df = pd.concat([df, nouvelle_colonne], axis = 1)\n",
    "\n",
    "# Vérification\n",
    "df.head()"
   ]
  },
  {
   "cell_type": "markdown",
   "id": "0de4faee-8b61-49bc-9745-98fb8cdb6f71",
   "metadata": {},
   "source": [
    "*4) Conserver uniquement les commentaires en français*"
   ]
  },
  {
   "cell_type": "code",
   "execution_count": 180,
   "id": "4f80f00d-57eb-428e-9ada-cb6d3371145a",
   "metadata": {},
   "outputs": [],
   "source": [
    "# Certains commentaires provenant de France sont dans une autre langue, nous les supprimons :\n",
    "for i in df.index :\n",
    "  try :\n",
    "      if detect(df[\"commentaires\"][i]) != \"fr\" :\n",
    "          df = df.drop(index = i)\n",
    "  except : \n",
    "      df = df.drop(index = i)\n",
    "\n",
    "# Réinitialiser l'index\n",
    "df = df.reset_index(drop=True)"
   ]
  },
  {
   "cell_type": "markdown",
   "id": "a6ac41bb-1e5f-496b-855a-376104369b92",
   "metadata": {},
   "source": [
    "*5) Transformer la colonne 'nbr_avis' et la mettre au bon format*"
   ]
  },
  {
   "cell_type": "code",
   "execution_count": 181,
   "id": "d1a0b416-3946-4be8-9e6c-f54037bb35d9",
   "metadata": {},
   "outputs": [
    {
     "name": "stdout",
     "output_type": "stream",
     "text": [
      "Format de la colonne 'nbr_avis' : int64\n"
     ]
    }
   ],
   "source": [
    "# '3 reviews' (object) >>> 3 (int64)\n",
    "df['nbr_avis'] = df['nbr_avis'].apply(lambda x : x.split(' ')[0])\n",
    "df['nbr_avis'] = df['nbr_avis'].astype('int64')\n",
    "# Vérification\n",
    "print(\"Format de la colonne 'nbr_avis' :\", df['nbr_avis'].dtype)"
   ]
  },
  {
   "cell_type": "markdown",
   "id": "85a99a1e-7385-4774-a110-c0955f5a7826",
   "metadata": {},
   "source": [
    "*6) Mettre la colonnes 'date_experience' au format datetime*"
   ]
  },
  {
   "cell_type": "code",
   "execution_count": 182,
   "id": "5dd7bcbf-b37c-45ae-b389-56272c52a8a4",
   "metadata": {},
   "outputs": [
    {
     "name": "stdout",
     "output_type": "stream",
     "text": [
      "Format de la colonne 'date_experience' : datetime64[ns]\n"
     ]
    }
   ],
   "source": [
    "df['date_experience'] = df['date_experience'].apply(lambda date: date.split(': ')[1])\n",
    "df['date_experience'] = pd.to_datetime(df['date_experience'])\n",
    "# Vérification\n",
    "print(\"Format de la colonne 'date_experience' :\", df['date_experience'].dtype)"
   ]
  },
  {
   "cell_type": "markdown",
   "id": "2e8da810-1402-45a0-893d-e973dbc9668e",
   "metadata": {},
   "source": [
    "*7) Création de la variable 'ponctuation'*"
   ]
  },
  {
   "cell_type": "code",
   "execution_count": 183,
   "id": "d8926110-c803-4e12-bd9e-f452d2b09d18",
   "metadata": {},
   "outputs": [],
   "source": [
    "# La variable \"ponctuation\" comptabilise le nombre de '!', '?' et '...' dans un commentaire :\n",
    "def compteur_ponctuation(str):\n",
    "    r = re.compile(\"[!\\?]\") \n",
    "    r1 = re.compile(\"[...]{3,}\") \n",
    "    str1 = r.findall(str)\n",
    "    str2 = r1.findall(str)\n",
    "    return len(str1)+len(str2)\n",
    "    \n",
    "# Ajout de la colonne dans le DataFrame\n",
    "df['ponctuation'] = df['commentaires'].apply(lambda x : compteur_ponctuation(x))"
   ]
  },
  {
   "cell_type": "markdown",
   "id": "0156eabe-fb5f-46b9-a76e-db776cd225c3",
   "metadata": {},
   "source": [
    "*8) Création de la variable 'sentiment'*"
   ]
  },
  {
   "cell_type": "code",
   "execution_count": 184,
   "id": "fc5d2e74-d297-49b6-bb2f-18198da911f2",
   "metadata": {},
   "outputs": [],
   "source": [
    "# Variable quantitative\n",
    "def sentiment(commentaire):\n",
    "    blob = tb(commentaire)\n",
    "    return blob.sentiment[0]\n",
    "\n",
    "# Ajout de la colonne dans le DataFrame\n",
    "df['sentiment'] = df['commentaires'].apply(lambda x : sentiment(x))"
   ]
  },
  {
   "cell_type": "markdown",
   "id": "1384e8f4-8c16-4c9a-a2a3-6f81e7941a8b",
   "metadata": {},
   "source": [
    "*9) Création de la variable 'sentiment_labels'*"
   ]
  },
  {
   "cell_type": "code",
   "execution_count": 185,
   "id": "322c74ff-eb14-42d9-b122-dd7f9c67e48e",
   "metadata": {},
   "outputs": [],
   "source": [
    "# Variable qualitative : Classer les sentiments selon les labels 'Positif', 'Negatif' ou 'Neutre'\n",
    "senti_list = []\n",
    "for i in range(len(df['sentiment'])):\n",
    "    if (df['sentiment'][i] > 0):\n",
    "        senti_list.append('Positif')\n",
    "    elif (df['sentiment'][i] < 0):\n",
    "        senti_list.append('Negatif')\n",
    "    else:\n",
    "        senti_list.append('Neutre')\n",
    "\n",
    "# Ajout de la colonne dans le DataFrame\n",
    "df[\"sentiment_labels\"] = senti_list"
   ]
  },
  {
   "cell_type": "markdown",
   "id": "d0a47b7d-288f-444c-9969-a9a64e2ebd7c",
   "metadata": {},
   "source": [
    "*10) Vérification finale*"
   ]
  },
  {
   "cell_type": "code",
   "execution_count": 186,
   "id": "92b51c26-5180-44c1-9303-c7f1c974078b",
   "metadata": {},
   "outputs": [
    {
     "name": "stdout",
     "output_type": "stream",
     "text": [
      "<class 'pandas.core.frame.DataFrame'>\n",
      "RangeIndex: 73846 entries, 0 to 73845\n",
      "Data columns (total 12 columns):\n",
      " #   Column            Non-Null Count  Dtype         \n",
      "---  ------            --------------  -----         \n",
      " 0   nom               73846 non-null  object        \n",
      " 1   notes             73846 non-null  int64         \n",
      " 2   pays              73846 non-null  object        \n",
      " 3   nbr_avis          73846 non-null  int64         \n",
      " 4   date_publication  73846 non-null  object        \n",
      " 5   date_experience   73846 non-null  datetime64[ns]\n",
      " 6   commentaire       73846 non-null  object        \n",
      " 7   titre             73846 non-null  object        \n",
      " 8   commentaires      73846 non-null  object        \n",
      " 9   ponctuation       73846 non-null  int64         \n",
      " 10  sentiment         73846 non-null  float64       \n",
      " 11  sentiment_labels  73846 non-null  object        \n",
      "dtypes: datetime64[ns](1), float64(1), int64(3), object(7)\n",
      "memory usage: 6.8+ MB\n"
     ]
    },
    {
     "data": {
      "text/html": [
       "<div>\n",
       "<style scoped>\n",
       "    .dataframe tbody tr th:only-of-type {\n",
       "        vertical-align: middle;\n",
       "    }\n",
       "\n",
       "    .dataframe tbody tr th {\n",
       "        vertical-align: top;\n",
       "    }\n",
       "\n",
       "    .dataframe thead th {\n",
       "        text-align: right;\n",
       "    }\n",
       "</style>\n",
       "<table border=\"1\" class=\"dataframe\">\n",
       "  <thead>\n",
       "    <tr style=\"text-align: right;\">\n",
       "      <th></th>\n",
       "      <th>nom</th>\n",
       "      <th>notes</th>\n",
       "      <th>pays</th>\n",
       "      <th>nbr_avis</th>\n",
       "      <th>date_publication</th>\n",
       "      <th>date_experience</th>\n",
       "      <th>commentaire</th>\n",
       "      <th>titre</th>\n",
       "      <th>commentaires</th>\n",
       "      <th>ponctuation</th>\n",
       "      <th>sentiment</th>\n",
       "      <th>sentiment_labels</th>\n",
       "    </tr>\n",
       "  </thead>\n",
       "  <tbody>\n",
       "    <tr>\n",
       "      <th>0</th>\n",
       "      <td>GUY PEYRONNENC</td>\n",
       "      <td>5</td>\n",
       "      <td>FR</td>\n",
       "      <td>7</td>\n",
       "      <td>2 days ago</td>\n",
       "      <td>2024-04-09</td>\n",
       "      <td>commande simple et rapide</td>\n",
       "      <td>commandee simple et rapide</td>\n",
       "      <td>commandee simple et rapide commande simple et ...</td>\n",
       "      <td>0</td>\n",
       "      <td>0.225000</td>\n",
       "      <td>Positif</td>\n",
       "    </tr>\n",
       "    <tr>\n",
       "      <th>1</th>\n",
       "      <td>bernard auge</td>\n",
       "      <td>5</td>\n",
       "      <td>FR</td>\n",
       "      <td>1</td>\n",
       "      <td>4 days ago</td>\n",
       "      <td>2024-04-07</td>\n",
       "      <td>tres bon service</td>\n",
       "      <td>rapide et simple</td>\n",
       "      <td>rapide et simple tres bon service</td>\n",
       "      <td>0</td>\n",
       "      <td>0.483333</td>\n",
       "      <td>Positif</td>\n",
       "    </tr>\n",
       "    <tr>\n",
       "      <th>2</th>\n",
       "      <td>alain bruno</td>\n",
       "      <td>5</td>\n",
       "      <td>FR</td>\n",
       "      <td>3</td>\n",
       "      <td>Mar 26, 2024</td>\n",
       "      <td>2024-03-20</td>\n",
       "      <td>No comment</td>\n",
       "      <td>Honorable bon suivi !</td>\n",
       "      <td>Honorable bon suivi !</td>\n",
       "      <td>1</td>\n",
       "      <td>0.687500</td>\n",
       "      <td>Positif</td>\n",
       "    </tr>\n",
       "    <tr>\n",
       "      <th>3</th>\n",
       "      <td>Martin Maurice</td>\n",
       "      <td>1</td>\n",
       "      <td>FR</td>\n",
       "      <td>41</td>\n",
       "      <td>2 days ago</td>\n",
       "      <td>2024-04-09</td>\n",
       "      <td>Cdiscount cautionne l'escroquerie en ce sens o...</td>\n",
       "      <td>Cdiscount cautionne l'escroquerie en ce…</td>\n",
       "      <td>Cdiscount cautionne l'escroquerie en ce… Cdisc...</td>\n",
       "      <td>1</td>\n",
       "      <td>0.450000</td>\n",
       "      <td>Positif</td>\n",
       "    </tr>\n",
       "    <tr>\n",
       "      <th>4</th>\n",
       "      <td>PHILIPPE PLENET</td>\n",
       "      <td>5</td>\n",
       "      <td>FR</td>\n",
       "      <td>13</td>\n",
       "      <td>7 hours ago</td>\n",
       "      <td>2024-04-11</td>\n",
       "      <td>Simple, rapide, prix raisonnables et €commerce...</td>\n",
       "      <td>Simple</td>\n",
       "      <td>Simple Simple, rapide, prix raisonnables et €c...</td>\n",
       "      <td>0</td>\n",
       "      <td>0.190000</td>\n",
       "      <td>Positif</td>\n",
       "    </tr>\n",
       "  </tbody>\n",
       "</table>\n",
       "</div>"
      ],
      "text/plain": [
       "               nom  notes pays  nbr_avis date_publication date_experience  \\\n",
       "0   GUY PEYRONNENC      5   FR         7       2 days ago      2024-04-09   \n",
       "1     bernard auge      5   FR         1       4 days ago      2024-04-07   \n",
       "2      alain bruno      5   FR         3     Mar 26, 2024      2024-03-20   \n",
       "3   Martin Maurice      1   FR        41       2 days ago      2024-04-09   \n",
       "4  PHILIPPE PLENET      5   FR        13      7 hours ago      2024-04-11   \n",
       "\n",
       "                                         commentaire  \\\n",
       "0                          commande simple et rapide   \n",
       "1                                   tres bon service   \n",
       "2                                         No comment   \n",
       "3  Cdiscount cautionne l'escroquerie en ce sens o...   \n",
       "4  Simple, rapide, prix raisonnables et €commerce...   \n",
       "\n",
       "                                      titre  \\\n",
       "0                commandee simple et rapide   \n",
       "1                          rapide et simple   \n",
       "2                     Honorable bon suivi !   \n",
       "3  Cdiscount cautionne l'escroquerie en ce…   \n",
       "4                                    Simple   \n",
       "\n",
       "                                        commentaires  ponctuation  sentiment  \\\n",
       "0  commandee simple et rapide commande simple et ...            0   0.225000   \n",
       "1                  rapide et simple tres bon service            0   0.483333   \n",
       "2                              Honorable bon suivi !            1   0.687500   \n",
       "3  Cdiscount cautionne l'escroquerie en ce… Cdisc...            1   0.450000   \n",
       "4  Simple Simple, rapide, prix raisonnables et €c...            0   0.190000   \n",
       "\n",
       "  sentiment_labels  \n",
       "0          Positif  \n",
       "1          Positif  \n",
       "2          Positif  \n",
       "3          Positif  \n",
       "4          Positif  "
      ]
     },
     "execution_count": 186,
     "metadata": {},
     "output_type": "execute_result"
    }
   ],
   "source": [
    "df.info()\n",
    "df.head()"
   ]
  },
  {
   "cell_type": "markdown",
   "id": "cb154b59-0c29-4594-bd4b-ae5b1e6f733b",
   "metadata": {},
   "source": [
    "**5. DATAFRAME DANS UN FICHIER .CSV**"
   ]
  },
  {
   "cell_type": "code",
   "execution_count": 187,
   "id": "3214dc45-20de-46f2-96f9-e6ff3b10a65f",
   "metadata": {},
   "outputs": [],
   "source": [
    "df.to_csv(\"2. Pre-processing & Feature engineering_1.csv\", index=False)"
   ]
  }
 ],
 "metadata": {
  "kernelspec": {
   "display_name": "Python 3 (ipykernel)",
   "language": "python",
   "name": "python3"
  },
  "language_info": {
   "codemirror_mode": {
    "name": "ipython",
    "version": 3
   },
   "file_extension": ".py",
   "mimetype": "text/x-python",
   "name": "python",
   "nbconvert_exporter": "python",
   "pygments_lexer": "ipython3",
   "version": "3.11.9"
  }
 },
 "nbformat": 4,
 "nbformat_minor": 5
}
