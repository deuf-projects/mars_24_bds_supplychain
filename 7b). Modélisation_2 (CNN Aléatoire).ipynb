{
 "cells": [
  {
   "cell_type": "markdown",
   "id": "01a4b76d-59d4-4f19-9608-86bc9e720c98",
   "metadata": {
    "id": "01a4b76d-59d4-4f19-9608-86bc9e720c98"
   },
   "source": [
    "**1. IMPORTER LES LIBRAIRIES**"
   ]
  },
  {
   "cell_type": "code",
   "execution_count": 10,
   "id": "0b3ebafe-aaa4-4553-8e91-9e911284678c",
   "metadata": {
    "id": "0b3ebafe-aaa4-4553-8e91-9e911284678c"
   },
   "outputs": [],
   "source": [
    "#!pip install tensorflow==2.12.0 & keras==2.12.0\n",
    "import pandas as pd\n",
    "import numpy as np\n",
    "import matplotlib.pyplot as plt\n",
    "%matplotlib inline\n",
    "import re\n",
    "\n",
    "# Train_Test_Split\n",
    "from sklearn.model_selection import train_test_split\n",
    "\n",
    "# Deep Learning\n",
    "from keras.preprocessing.text import Tokenizer\n",
    "from keras.utils import pad_sequences\n",
    "from keras.initializers import Constant\n",
    "from keras.models import Model\n",
    "from keras.layers import *\n",
    "from tensorflow.python.keras import regularizers\n",
    "\n",
    "# Performances\n",
    "from sklearn.metrics import classification_report, confusion_matrix, accuracy_score\n",
    "\n",
    "# Callbacks\n",
    "from tensorflow.keras.callbacks import ReduceLROnPlateau, EarlyStopping\n",
    "\n",
    "# Performances\n",
    "from sklearn.metrics import classification_report, confusion_matrix, accuracy_score\n",
    "\n",
    "# Enregistrer le modèle\n",
    "from sklearn import model_selection\n",
    "import joblib\n",
    "\n",
    "import warnings\n",
    "warnings.filterwarnings('ignore')"
   ]
  },
  {
   "cell_type": "markdown",
   "id": "5616c636-3ea8-4dc5-ba2f-36635f53d437",
   "metadata": {},
   "source": [
    "**2. IMPORTER LE FICHIER**"
   ]
  },
  {
   "cell_type": "code",
   "execution_count": 11,
   "id": "8ed9e9a8-3fa9-4337-ae3a-9f8ca493da44",
   "metadata": {},
   "outputs": [
    {
     "data": {
      "text/html": [
       "<div>\n",
       "<style scoped>\n",
       "    .dataframe tbody tr th:only-of-type {\n",
       "        vertical-align: middle;\n",
       "    }\n",
       "\n",
       "    .dataframe tbody tr th {\n",
       "        vertical-align: top;\n",
       "    }\n",
       "\n",
       "    .dataframe thead th {\n",
       "        text-align: right;\n",
       "    }\n",
       "</style>\n",
       "<table border=\"1\" class=\"dataframe\">\n",
       "  <thead>\n",
       "    <tr style=\"text-align: right;\">\n",
       "      <th></th>\n",
       "      <th>commentaires</th>\n",
       "      <th>notes</th>\n",
       "    </tr>\n",
       "  </thead>\n",
       "  <tbody>\n",
       "    <tr>\n",
       "      <th>0</th>\n",
       "      <td>commandee simple et rapide commande simple et ...</td>\n",
       "      <td>1</td>\n",
       "    </tr>\n",
       "    <tr>\n",
       "      <th>1</th>\n",
       "      <td>rapide et simple tres bon service</td>\n",
       "      <td>1</td>\n",
       "    </tr>\n",
       "    <tr>\n",
       "      <th>2</th>\n",
       "      <td>Honorable bon suivi !</td>\n",
       "      <td>1</td>\n",
       "    </tr>\n",
       "    <tr>\n",
       "      <th>3</th>\n",
       "      <td>Cdiscount cautionne l'escroquerie en ce… Cdisc...</td>\n",
       "      <td>0</td>\n",
       "    </tr>\n",
       "    <tr>\n",
       "      <th>4</th>\n",
       "      <td>Simple Simple, rapide, prix raisonnables et €c...</td>\n",
       "      <td>1</td>\n",
       "    </tr>\n",
       "  </tbody>\n",
       "</table>\n",
       "</div>"
      ],
      "text/plain": [
       "                                        commentaires  notes\n",
       "0  commandee simple et rapide commande simple et ...      1\n",
       "1                  rapide et simple tres bon service      1\n",
       "2                              Honorable bon suivi !      1\n",
       "3  Cdiscount cautionne l'escroquerie en ce… Cdisc...      0\n",
       "4  Simple Simple, rapide, prix raisonnables et €c...      1"
      ]
     },
     "execution_count": 11,
     "metadata": {},
     "output_type": "execute_result"
    }
   ],
   "source": [
    "df = pd.read_csv(\"2. Pre-processing & Feature engineering_1.csv\")\n",
    "df = df[['commentaires', 'notes']]\n",
    "# Remplace les notes 1,2,3,4,5 par 0,1,2,3,4\n",
    "df['notes'] = df['notes'].replace((1, 2, 3, 4, 5), (0, 0, 0, 1, 1))\n",
    "\n",
    "df.head()"
   ]
  },
  {
   "cell_type": "markdown",
   "id": "b2d95529-39bd-49c5-9dee-1b497d98f831",
   "metadata": {
    "id": "b2d95529-39bd-49c5-9dee-1b497d98f831"
   },
   "source": [
    "**3. PRE-PROCESSING & FEATURE ENGINEERING_2**"
   ]
  },
  {
   "cell_type": "code",
   "execution_count": 12,
   "id": "14d6a7a1-0a7f-4903-8eb9-8d38bd437142",
   "metadata": {},
   "outputs": [],
   "source": [
    "#############################\n",
    "### Nettoyage des données ###\n",
    "#############################\n",
    "def clean_str(commentaire):\n",
    "    commentaire = str(commentaire)\n",
    "    commentaire = re.sub(r'([^\\s\\w]|_)+', '', commentaire)\n",
    "    return commentaire.strip().lower()\n",
    "\n",
    "df['text'] = df['commentaires'].apply(clean_str)\n",
    "\n",
    "##########################\n",
    "### Ré-échantillonnage ###\n",
    "##########################\n",
    "# df['notes'].value_counts()\n",
    "# >>> 0:16886, 1:56960\n",
    "df_0 = df[df['notes'] == 0].sample(frac=1)\n",
    "df_1 = df[df['notes'] == 1].sample(frac=1)\n",
    "\n",
    "sample_size = len(df[df['notes'] == 0]) # Nombre d'échantillons minimum\n",
    "data = pd.concat([df_0.head(sample_size), df_1.head(sample_size)]).sample(frac=1)\n",
    "\n",
    "####################\n",
    "### Tokenization ###\n",
    "####################\n",
    "sequence_length = 100\n",
    "max_features = 40000\n",
    "\n",
    "tokenizer = Tokenizer(num_words=max_features, split=' ', oov_token='<unw>')\n",
    "tokenizer.fit_on_texts(data['commentaires'].values)\n",
    "X = tokenizer.texts_to_sequences(data['commentaires'].values)\n",
    "\n",
    "###############\n",
    "### PADDING ###\n",
    "###############\n",
    "X = pad_sequences(X, sequence_length)\n",
    "\n",
    "##############\n",
    "### TARGET ###\n",
    "##############\n",
    "y = data['notes'].values"
   ]
  },
  {
   "cell_type": "markdown",
   "id": "32099e2f-1856-4297-a38e-8e97189b803b",
   "metadata": {},
   "source": [
    "**4. TRAIN_TEST_SPLIT**"
   ]
  },
  {
   "cell_type": "code",
   "execution_count": 13,
   "id": "4612cf9d-8a48-48ee-9e2e-bd61ecd0ae23",
   "metadata": {},
   "outputs": [
    {
     "name": "stdout",
     "output_type": "stream",
     "text": [
      "X_train = (27017, 100)\n",
      "X_test = (6755, 100)\n",
      "y_train = (27017,)\n",
      "y_test = (6755,)\n"
     ]
    }
   ],
   "source": [
    "X_train, X_test, y_train, y_test = model_selection.train_test_split(X, y, test_size=0.2, random_state=42)\n",
    "\n",
    "# Vérification\n",
    "print(\"X_train =\", X_train.shape)\n",
    "print(\"X_test =\", X_test.shape)\n",
    "print(\"y_train =\", y_train.shape)\n",
    "print(\"y_test =\", y_test.shape)"
   ]
  },
  {
   "cell_type": "markdown",
   "id": "533730c8-86dc-4d64-8b95-85c278efc08c",
   "metadata": {},
   "source": [
    "**5. MODELISATION 1 : CNN aléatoire**"
   ]
  },
  {
   "cell_type": "code",
   "execution_count": 14,
   "id": "ebba8b5d-b15b-4b21-bb67-69d56040e8f7",
   "metadata": {},
   "outputs": [],
   "source": [
    "embedding_dim = 300\n",
    "num_filters = 100\n",
    "batch_size = 128\n",
    "epochs = 20"
   ]
  },
  {
   "cell_type": "code",
   "execution_count": 15,
   "id": "373845cd-777f-4d9d-9103-46d83939d520",
   "metadata": {},
   "outputs": [],
   "source": [
    "reduce_learning_rate = ReduceLROnPlateau(monitor = 'val_loss',\t\t\t\t\t\n",
    "                                         min_delta = 0.01 ,\t\t\t\t\n",
    "                                         patience = 3,\t\t\t\t\t\n",
    "                                         factor = 0.1, \t\t\t\t\n",
    "                                         cooldown = 4,\t\t\t\t\n",
    "                                         verbose = 1)\n",
    "\n",
    "early_stopping = EarlyStopping(monitor = 'val_loss',\n",
    "                               min_delta = 0.01,\n",
    "                               patience = 5,\n",
    "                               verbose = 1,\n",
    "                               mode='min',\n",
    "                               restore_best_weights = True)"
   ]
  },
  {
   "cell_type": "markdown",
   "id": "12d1cd58-b72e-4cdd-91d0-6ed1c43401c1",
   "metadata": {},
   "source": [
    "*1) Modélisation*"
   ]
  },
  {
   "cell_type": "code",
   "execution_count": 16,
   "id": "5e158b56-d626-4843-a922-3e1e22967f10",
   "metadata": {
    "scrolled": true
   },
   "outputs": [
    {
     "name": "stdout",
     "output_type": "stream",
     "text": [
      "Epoch 1/20\n",
      "169/169 [==============================] - 31s 179ms/step - loss: 486.8547 - accuracy: 0.6627 - val_loss: 11.8788 - val_accuracy: 0.6952\n",
      "Epoch 2/20\n",
      "169/169 [==============================] - 29s 174ms/step - loss: 2.8793 - accuracy: 0.6489 - val_loss: 0.7563 - val_accuracy: 0.6020\n",
      "Epoch 3/20\n",
      "169/169 [==============================] - 31s 182ms/step - loss: 0.6914 - accuracy: 0.6539 - val_loss: 0.6646 - val_accuracy: 0.6776\n",
      "Epoch 4/20\n",
      "169/169 [==============================] - 28s 166ms/step - loss: 0.6518 - accuracy: 0.6778 - val_loss: 0.6445 - val_accuracy: 0.6764\n",
      "Epoch 5/20\n",
      "169/169 [==============================] - 27s 162ms/step - loss: 0.6245 - accuracy: 0.7176 - val_loss: 0.6069 - val_accuracy: 0.7302\n",
      "Epoch 6/20\n",
      "169/169 [==============================] - 29s 172ms/step - loss: 0.5856 - accuracy: 0.7817 - val_loss: 0.5785 - val_accuracy: 0.8042\n",
      "Epoch 7/20\n",
      "169/169 [==============================] - 30s 175ms/step - loss: 0.5563 - accuracy: 0.8154 - val_loss: 0.5936 - val_accuracy: 0.8027\n",
      "Epoch 8/20\n",
      "169/169 [==============================] - 28s 168ms/step - loss: 0.5467 - accuracy: 0.8284 - val_loss: 0.5712 - val_accuracy: 0.8164\n",
      "Epoch 9/20\n",
      "169/169 [==============================] - 27s 162ms/step - loss: 0.5212 - accuracy: 0.8401 - val_loss: 0.5243 - val_accuracy: 0.8392\n",
      "Epoch 10/20\n",
      "169/169 [==============================] - 28s 165ms/step - loss: 0.5340 - accuracy: 0.8430 - val_loss: 0.5323 - val_accuracy: 0.8373\n",
      "Epoch 11/20\n",
      "169/169 [==============================] - 28s 165ms/step - loss: 0.5328 - accuracy: 0.8474 - val_loss: 0.5717 - val_accuracy: 0.8397\n",
      "Epoch 12/20\n",
      "169/169 [==============================] - 27s 162ms/step - loss: 0.5234 - accuracy: 0.8520 - val_loss: 0.5337 - val_accuracy: 0.8444\n",
      "Epoch 13/20\n",
      "169/169 [==============================] - 28s 164ms/step - loss: 0.5084 - accuracy: 0.8600 - val_loss: 0.5786 - val_accuracy: 0.8175\n",
      "Epoch 14/20\n",
      "169/169 [==============================] - 29s 169ms/step - loss: 0.5076 - accuracy: 0.8622 - val_loss: 0.5543 - val_accuracy: 0.8377\n",
      "Epoch 15/20\n",
      "169/169 [==============================] - 30s 176ms/step - loss: 0.5025 - accuracy: 0.8672 - val_loss: 0.5724 - val_accuracy: 0.8264\n",
      "Epoch 16/20\n",
      "169/169 [==============================] - 30s 177ms/step - loss: 0.5041 - accuracy: 0.8686 - val_loss: 0.5928 - val_accuracy: 0.8299\n",
      "Epoch 17/20\n",
      "169/169 [==============================] - 29s 173ms/step - loss: 0.5010 - accuracy: 0.8726 - val_loss: 0.5728 - val_accuracy: 0.8299\n",
      "Epoch 18/20\n",
      "169/169 [==============================] - 30s 177ms/step - loss: 0.4769 - accuracy: 0.8811 - val_loss: 0.5378 - val_accuracy: 0.8366\n",
      "Epoch 19/20\n",
      "169/169 [==============================] - 30s 176ms/step - loss: 0.5045 - accuracy: 0.8754 - val_loss: 0.5983 - val_accuracy: 0.8027\n",
      "Epoch 20/20\n",
      "169/169 [==============================] - 30s 176ms/step - loss: 0.4759 - accuracy: 0.8823 - val_loss: 0.5480 - val_accuracy: 0.8370\n"
     ]
    }
   ],
   "source": [
    "########################\n",
    "### Architecture CNN ###\n",
    "########################\n",
    "inputs = Input(shape=(sequence_length,), dtype='int32')\n",
    "embedding_layer = Embedding(input_dim=max_features, output_dim=embedding_dim, input_length=sequence_length)(inputs)\n",
    "reshape = Reshape((sequence_length, embedding_dim, 1))(embedding_layer)\n",
    "conv_0 = Conv2D(num_filters, kernel_size=(3, embedding_dim), padding='valid', kernel_initializer='normal', activation='relu', kernel_regularizer=regularizers.l2(3))(reshape)\n",
    "conv_1 = Conv2D(num_filters, kernel_size=(4, embedding_dim), padding='valid', kernel_initializer='normal', activation='relu', kernel_regularizer=regularizers.l2(3))(reshape)\n",
    "conv_2 = Conv2D(num_filters, kernel_size=(5, embedding_dim), padding='valid', kernel_initializer='normal', activation='relu', kernel_regularizer=regularizers.l2(3))(reshape)\n",
    "maxpool_0 = MaxPool2D(pool_size=(sequence_length - 3 + 1, 1), strides=(1,1), padding='valid')(conv_0)\n",
    "maxpool_1 = MaxPool2D(pool_size=(sequence_length - 4 + 1, 1), strides=(1,1), padding='valid')(conv_1)\n",
    "maxpool_2 = MaxPool2D(pool_size=(sequence_length - 5 + 1, 1), strides=(1,1), padding='valid')(conv_2)\n",
    "concatenated_tensor = Concatenate(axis=1)([maxpool_0, maxpool_1, maxpool_2])\n",
    "flatten = Flatten()(concatenated_tensor)\n",
    "dropout = Dropout(0.5)(flatten)\n",
    "output = Dense(units=1, activation='sigmoid')(dropout)\n",
    "\n",
    "###################\n",
    "### Compilation ###\n",
    "###################\n",
    "model = Model(inputs=inputs, outputs=output)\n",
    "model.compile(loss='binary_crossentropy', optimizer='adam', metrics=['accuracy'])\n",
    "# print(model.summary())\n",
    "\n",
    "##############################\n",
    "### Entraînement du modèle ###\n",
    "##############################\n",
    "history = model.fit(X_train, y_train, \n",
    "                    epochs=epochs, \n",
    "                    batch_size=batch_size, \n",
    "                    verbose=1, \n",
    "                    validation_split=0.2,\n",
    "                    shuffle=True)\n",
    "                    #callbacks = [reduce_learning_rate, early_stopping])"
   ]
  },
  {
   "cell_type": "markdown",
   "id": "bdcc00d8-4abe-4f8a-b310-2982e475e2f6",
   "metadata": {},
   "source": [
    "*2) Performances du modèle*"
   ]
  },
  {
   "cell_type": "code",
   "execution_count": 17,
   "id": "b06095ea-57fd-4aed-b8d8-0e1d8be9d161",
   "metadata": {},
   "outputs": [
    {
     "data": {
      "image/png": "[encoded data removed]",
      "text/plain": [
       "<Figure size 1200x300 with 2 Axes>"
      ]
     },
     "metadata": {},
     "output_type": "display_data"
    }
   ],
   "source": [
    "plt.figure(figsize=(12,3))\n",
    "plt.subplot(121)\n",
    "plt.plot(history.history['accuracy'])\n",
    "plt.plot(history.history['val_accuracy'])\n",
    "plt.title('model accuracy')\n",
    "plt.ylabel('accuracy')\n",
    "plt.xlabel('epoch')\n",
    "plt.legend(['train', 'validation'], loc='upper left')\n",
    "\n",
    "plt.subplot(122)\n",
    "plt.plot(history.history['loss'])\n",
    "plt.plot(history.history['val_loss'])\n",
    "plt.title('model loss')\n",
    "plt.ylabel('loss')\n",
    "plt.xlabel('epoch')\n",
    "plt.legend(['train', 'validation'], loc='upper left')\n",
    "plt.show()"
   ]
  },
  {
   "cell_type": "code",
   "execution_count": 18,
   "id": "7a539ac6-6e17-455f-8be2-86edde2acb2d",
   "metadata": {},
   "outputs": [
    {
     "name": "stdout",
     "output_type": "stream",
     "text": [
      "212/212 [==============================] - 2s 9ms/step\n",
      "              precision    recall  f1-score   support\n",
      "\n",
      "           0       0.86      0.82      0.84      3402\n",
      "           1       0.82      0.86      0.84      3353\n",
      "\n",
      "    accuracy                           0.84      6755\n",
      "   macro avg       0.84      0.84      0.84      6755\n",
      "weighted avg       0.84      0.84      0.84      6755\n",
      "\n"
     ]
    },
    {
     "data": {
      "text/plain": [
       "array([[2784,  618],\n",
       "       [ 465, 2888]], dtype=int64)"
      ]
     },
     "execution_count": 18,
     "metadata": {},
     "output_type": "execute_result"
    }
   ],
   "source": [
    "y_pred = model.predict(X_test)\n",
    "accuracy_score(y_test, list(map(lambda v: v > 0.5, y_pred)))\n",
    "\n",
    "print(classification_report(y_test, list(map(lambda v: v > 0.5, y_pred))))\n",
    "\n",
    "from sklearn.metrics import confusion_matrix\n",
    "confusion_matrix(y_test, list(map(lambda v: v > 0.5, y_pred)))"
   ]
  },
  {
   "cell_type": "markdown",
   "id": "297d4149-332c-4d27-884d-7ad997aee1b1",
   "metadata": {},
   "source": [
    "**6. ENREGISTREMENT DU MODELE**"
   ]
  },
  {
   "cell_type": "code",
   "execution_count": 19,
   "id": "3a79f7f6-2071-4172-902b-8f20f8a50e27",
   "metadata": {},
   "outputs": [
    {
     "data": {
      "text/plain": [
       "['7.b) Deep_Learning_2.pkl']"
      ]
     },
     "execution_count": 19,
     "metadata": {},
     "output_type": "execute_result"
    }
   ],
   "source": [
    "joblib.dump(model, '7.b) Deep_Learning_2.pkl')"
   ]
  }
 ],
 "metadata": {
  "colab": {
   "provenance": []
  },
  "kernelspec": {
   "display_name": "Python 3 (ipykernel)",
   "language": "python",
   "name": "python3"
  },
  "language_info": {
   "codemirror_mode": {
    "name": "ipython",
    "version": 3
   },
   "file_extension": ".py",
   "mimetype": "text/x-python",
   "name": "python",
   "nbconvert_exporter": "python",
   "pygments_lexer": "ipython3",
   "version": "3.11.9"
  }
 },
 "nbformat": 4,
 "nbformat_minor": 5
}
