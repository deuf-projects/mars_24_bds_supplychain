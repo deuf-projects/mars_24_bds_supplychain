{
 "cells": [
  {
   "cell_type": "markdown",
   "id": "8ae7dd57-0de7-4650-a634-24b43956a9e1",
   "metadata": {},
   "source": [
    "**1. WEBSCRAPPING**"
   ]
  },
  {
   "cell_type": "code",
   "execution_count": 30,
   "id": "45e03d39-c458-438a-8535-669fc178d4e6",
   "metadata": {},
   "outputs": [],
   "source": [
    "import requests\n",
    "from bs4 import BeautifulSoup\n",
    "from concurrent.futures import ThreadPoolExecutor\n",
    "import pandas as pd\n",
    "\n",
    "# Fonction pour récupérer les commentaires\n",
    "def get_comment(commentaires, i):\n",
    "    try:\n",
    "        return commentaires[i].text\n",
    "    except IndexError:\n",
    "        return \"No comment\"\n",
    "\n",
    "# Fonction pour extraire les avis d'une page\n",
    "def extract_reviews(html, pageNumber):\n",
    "    soup = BeautifulSoup(html, 'html.parser')\n",
    "\n",
    "    noms = soup.select('span[data-consumer-name-typography]')\n",
    "    notes = soup.select('div[data-service-review-rating]')\n",
    "    domiciles = soup.select('div[data-consumer-country-typography] span')\n",
    "    nb_avis = soup.select('span[data-consumer-reviews-count-typography]')\n",
    "    date_posts = soup.select('time[data-service-review-date-time-ago]')\n",
    "    date_experiences = soup.select('p[data-service-review-date-of-experience-typography]')\n",
    "    commentaires = soup.select('div[data-review-content] p[data-service-review-text-typography]')\n",
    "    titres = soup.select('h2[data-service-review-title-typography]')\n",
    "\n",
    "    reviews = []\n",
    "\n",
    "    for i in range(len(noms)):\n",
    "        reviews.append({\n",
    "            \"nom\": noms[i].string or \"\",\n",
    "            \"note\": notes[i]['data-service-review-rating'] or \"\",\n",
    "            \"domicile\": domiciles[i].string or \"\",\n",
    "            \"nb_avi\": nb_avis[i].text or \"\",\n",
    "            \"date_post\": date_posts[i].text or \"\",\n",
    "            \"date_experience\": date_experiences[i].text or \"\",\n",
    "            \"commentaire\": get_comment(commentaires, i),\n",
    "            \"titre\": titres[i].text or \"\"\n",
    "        })\n",
    "\n",
    "    return reviews\n",
    "\n",
    "# Fonction pour scraper une page\n",
    "def fetch_url(pageNumber):\n",
    "    webpage = requests.get(fr\"https://www.trustpilot.com/review/www.cdiscount.com?languages=fr&page={pageNumber}\")\n",
    "    return extract_reviews(webpage.content, pageNumber)\n",
    "\n",
    "# Définir les plages de pages à scraper\n",
    "start_page = 6251\n",
    "end_page = 6485\n",
    "cdiscount_reviews_page_numbers = range(start_page, end_page + 1)\n",
    "\n",
    "# Ouvrir le fichier CSV en mode 'a' pour ajouter les données\n",
    "with open(\"1. Résultats Wepscrapping.csv\", \"a\", newline=\"\", encoding=\"utf-8\") as file:\n",
    "    # Parcourir les pages et ajouter les avis au fichier CSV au fur et à mesure\n",
    "    for page_number in cdiscount_reviews_page_numbers:\n",
    "        reviews = fetch_url(page_number)\n",
    "        df = pd.DataFrame(reviews)\n",
    "        df.to_csv(file, index=False, header=not file.tell())  # Ne pas écrire l'en-tête si le fichier n'est pas vide"
   ]
  }
 ],
 "metadata": {
  "kernelspec": {
   "display_name": "Python 3 (ipykernel)",
   "language": "python",
   "name": "python3"
  },
  "language_info": {
   "codemirror_mode": {
    "name": "ipython",
    "version": 3
   },
   "file_extension": ".py",
   "mimetype": "text/x-python",
   "name": "python",
   "nbconvert_exporter": "python",
   "pygments_lexer": "ipython3",
   "version": "3.11.9"
  }
 },
 "nbformat": 4,
 "nbformat_minor": 5
}
