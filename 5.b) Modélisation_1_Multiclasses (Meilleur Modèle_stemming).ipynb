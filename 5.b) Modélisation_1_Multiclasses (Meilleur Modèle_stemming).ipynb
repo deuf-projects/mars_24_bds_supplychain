{
 "cells": [
  {
   "cell_type": "markdown",
   "metadata": {},
   "source": [
    "**1. IMPORTER LES LIBRAIRIES**"
   ]
  },
  {
   "cell_type": "code",
   "execution_count": 1,
   "metadata": {
    "colab": {
     "base_uri": "https://localhost:8080/"
    },
    "id": "SplGROpHWdNs",
    "outputId": "fd1f76b6-5d6b-4ffa-d74f-5eeff04e851a"
   },
   "outputs": [],
   "source": [
    "import pandas as pd\n",
    "import numpy as np\n",
    "import matplotlib.pyplot as plt\n",
    "%matplotlib inline\n",
    "import seaborn as sns\n",
    "import re\n",
    "import datetime\n",
    "\n",
    "# Train_Test_Split\n",
    "from sklearn.model_selection import train_test_split\n",
    "\n",
    "# PCA\n",
    "from sklearn.decomposition import PCA\n",
    "\n",
    "# Ré-échantillonnage\n",
    "from imblearn.over_sampling import RandomOverSampler\n",
    "from imblearn.under_sampling import RandomUnderSampler\n",
    "\n",
    "# Modélisation\n",
    "from sklearn.metrics import confusion_matrix, classification_report\n",
    "from imblearn.metrics import classification_report_imbalanced\n",
    "\n",
    "# Modèles\n",
    "from sklearn.svm import SVC\n",
    "from sklearn.ensemble import RandomForestClassifier\n",
    "from sklearn.linear_model import LogisticRegression\n",
    "from sklearn.neighbors import KNeighborsClassifier\n",
    "\n",
    "# Enregistrement du modèle\n",
    "from sklearn import model_selection\n",
    "import joblib\n",
    "\n",
    "import itertools\n",
    "from tabulate import tabulate\n",
    "\n",
    "import warnings\n",
    "warnings.filterwarnings('ignore')"
   ]
  },
  {
   "cell_type": "markdown",
   "metadata": {},
   "source": [
    "**2. IMPORTER LE FICHIER**"
   ]
  },
  {
   "cell_type": "code",
   "execution_count": 2,
   "metadata": {
    "colab": {
     "base_uri": "https://localhost:8080/"
    },
    "id": "LpMG7MrWWj4A",
    "outputId": "855c5532-64fa-4361-edf6-6defa69e00d0"
   },
   "outputs": [
    {
     "data": {
      "text/html": [
       "<div>\n",
       "<style scoped>\n",
       "    .dataframe tbody tr th:only-of-type {\n",
       "        vertical-align: middle;\n",
       "    }\n",
       "\n",
       "    .dataframe tbody tr th {\n",
       "        vertical-align: top;\n",
       "    }\n",
       "\n",
       "    .dataframe thead th {\n",
       "        text-align: right;\n",
       "    }\n",
       "</style>\n",
       "<table border=\"1\" class=\"dataframe\">\n",
       "  <thead>\n",
       "    <tr style=\"text-align: right;\">\n",
       "      <th></th>\n",
       "      <th>0</th>\n",
       "      <th>1</th>\n",
       "      <th>2</th>\n",
       "      <th>3</th>\n",
       "      <th>4</th>\n",
       "      <th>5</th>\n",
       "      <th>6</th>\n",
       "      <th>7</th>\n",
       "      <th>8</th>\n",
       "      <th>9</th>\n",
       "      <th>...</th>\n",
       "      <th>1092</th>\n",
       "      <th>1093</th>\n",
       "      <th>1094</th>\n",
       "      <th>1095</th>\n",
       "      <th>1096</th>\n",
       "      <th>1097</th>\n",
       "      <th>1098</th>\n",
       "      <th>ponctuation</th>\n",
       "      <th>sentiment</th>\n",
       "      <th>y</th>\n",
       "    </tr>\n",
       "  </thead>\n",
       "  <tbody>\n",
       "    <tr>\n",
       "      <th>0</th>\n",
       "      <td>0.0</td>\n",
       "      <td>0.0</td>\n",
       "      <td>0.0</td>\n",
       "      <td>0.0</td>\n",
       "      <td>0.0</td>\n",
       "      <td>0.0</td>\n",
       "      <td>0.0</td>\n",
       "      <td>0.0</td>\n",
       "      <td>0.0</td>\n",
       "      <td>0.0</td>\n",
       "      <td>...</td>\n",
       "      <td>0.0</td>\n",
       "      <td>0.0</td>\n",
       "      <td>0.0</td>\n",
       "      <td>0.0</td>\n",
       "      <td>0.0</td>\n",
       "      <td>0.0</td>\n",
       "      <td>0.0</td>\n",
       "      <td>-0.147949</td>\n",
       "      <td>-4.183594</td>\n",
       "      <td>3</td>\n",
       "    </tr>\n",
       "    <tr>\n",
       "      <th>1</th>\n",
       "      <td>0.0</td>\n",
       "      <td>0.0</td>\n",
       "      <td>0.0</td>\n",
       "      <td>0.0</td>\n",
       "      <td>0.0</td>\n",
       "      <td>0.0</td>\n",
       "      <td>0.0</td>\n",
       "      <td>0.0</td>\n",
       "      <td>0.0</td>\n",
       "      <td>0.0</td>\n",
       "      <td>...</td>\n",
       "      <td>0.0</td>\n",
       "      <td>0.0</td>\n",
       "      <td>0.0</td>\n",
       "      <td>0.0</td>\n",
       "      <td>0.0</td>\n",
       "      <td>0.0</td>\n",
       "      <td>0.0</td>\n",
       "      <td>-0.147949</td>\n",
       "      <td>-3.720703</td>\n",
       "      <td>5</td>\n",
       "    </tr>\n",
       "    <tr>\n",
       "      <th>2</th>\n",
       "      <td>0.0</td>\n",
       "      <td>0.0</td>\n",
       "      <td>0.0</td>\n",
       "      <td>0.0</td>\n",
       "      <td>0.0</td>\n",
       "      <td>0.0</td>\n",
       "      <td>0.0</td>\n",
       "      <td>0.0</td>\n",
       "      <td>0.0</td>\n",
       "      <td>0.0</td>\n",
       "      <td>...</td>\n",
       "      <td>0.0</td>\n",
       "      <td>0.0</td>\n",
       "      <td>0.0</td>\n",
       "      <td>0.0</td>\n",
       "      <td>0.0</td>\n",
       "      <td>0.0</td>\n",
       "      <td>0.0</td>\n",
       "      <td>-0.147949</td>\n",
       "      <td>5.550781</td>\n",
       "      <td>5</td>\n",
       "    </tr>\n",
       "    <tr>\n",
       "      <th>3</th>\n",
       "      <td>0.0</td>\n",
       "      <td>0.0</td>\n",
       "      <td>0.0</td>\n",
       "      <td>0.0</td>\n",
       "      <td>0.0</td>\n",
       "      <td>0.0</td>\n",
       "      <td>0.0</td>\n",
       "      <td>0.0</td>\n",
       "      <td>0.0</td>\n",
       "      <td>0.0</td>\n",
       "      <td>...</td>\n",
       "      <td>0.0</td>\n",
       "      <td>0.0</td>\n",
       "      <td>0.0</td>\n",
       "      <td>0.0</td>\n",
       "      <td>0.0</td>\n",
       "      <td>0.0</td>\n",
       "      <td>0.0</td>\n",
       "      <td>-0.147949</td>\n",
       "      <td>4.390625</td>\n",
       "      <td>5</td>\n",
       "    </tr>\n",
       "    <tr>\n",
       "      <th>4</th>\n",
       "      <td>0.0</td>\n",
       "      <td>0.0</td>\n",
       "      <td>0.0</td>\n",
       "      <td>0.0</td>\n",
       "      <td>0.0</td>\n",
       "      <td>0.0</td>\n",
       "      <td>0.0</td>\n",
       "      <td>0.0</td>\n",
       "      <td>0.0</td>\n",
       "      <td>0.0</td>\n",
       "      <td>...</td>\n",
       "      <td>0.0</td>\n",
       "      <td>0.0</td>\n",
       "      <td>0.0</td>\n",
       "      <td>0.0</td>\n",
       "      <td>0.0</td>\n",
       "      <td>0.0</td>\n",
       "      <td>0.0</td>\n",
       "      <td>-0.147949</td>\n",
       "      <td>0.625488</td>\n",
       "      <td>5</td>\n",
       "    </tr>\n",
       "  </tbody>\n",
       "</table>\n",
       "<p>5 rows × 1102 columns</p>\n",
       "</div>"
      ],
      "text/plain": [
       "     0    1    2    3    4    5    6    7    8    9  ...  1092  1093  1094  \\\n",
       "0  0.0  0.0  0.0  0.0  0.0  0.0  0.0  0.0  0.0  0.0  ...   0.0   0.0   0.0   \n",
       "1  0.0  0.0  0.0  0.0  0.0  0.0  0.0  0.0  0.0  0.0  ...   0.0   0.0   0.0   \n",
       "2  0.0  0.0  0.0  0.0  0.0  0.0  0.0  0.0  0.0  0.0  ...   0.0   0.0   0.0   \n",
       "3  0.0  0.0  0.0  0.0  0.0  0.0  0.0  0.0  0.0  0.0  ...   0.0   0.0   0.0   \n",
       "4  0.0  0.0  0.0  0.0  0.0  0.0  0.0  0.0  0.0  0.0  ...   0.0   0.0   0.0   \n",
       "\n",
       "   1095  1096  1097  1098  ponctuation  sentiment  y  \n",
       "0   0.0   0.0   0.0   0.0    -0.147949  -4.183594  3  \n",
       "1   0.0   0.0   0.0   0.0    -0.147949  -3.720703  5  \n",
       "2   0.0   0.0   0.0   0.0    -0.147949   5.550781  5  \n",
       "3   0.0   0.0   0.0   0.0    -0.147949   4.390625  5  \n",
       "4   0.0   0.0   0.0   0.0    -0.147949   0.625488  5  \n",
       "\n",
       "[5 rows x 1102 columns]"
      ]
     },
     "execution_count": 2,
     "metadata": {},
     "output_type": "execute_result"
    }
   ],
   "source": [
    "df = pd.read_csv(\"4. Stemming_TF-IDF(Avec_Reduction).csv\").astype('float16')\n",
    "df['y'] = df['y'].astype('uint8')\n",
    "df = df.rename(columns={'1099' : 'ponctuation', '1100' : 'sentiment'})\n",
    "df.head()"
   ]
  },
  {
   "cell_type": "markdown",
   "metadata": {},
   "source": [
    "**3. PREPARATION DES DONNEES**"
   ]
  },
  {
   "cell_type": "code",
   "execution_count": 3,
   "metadata": {},
   "outputs": [],
   "source": [
    "### Séparation target/features\n",
    "X = df.drop('y', axis=1).to_numpy()\n",
    "y = df['y'].to_numpy()\n",
    "\n",
    "### Train_Test_Split\n",
    "X_train, X_test, y_train, y_test = train_test_split(X, y, test_size=0.2, random_state=42)"
   ]
  },
  {
   "cell_type": "markdown",
   "metadata": {},
   "source": [
    "**4. MODELISATION DES COMBINAISONS**"
   ]
  },
  {
   "cell_type": "code",
   "execution_count": 4,
   "metadata": {
    "id": "2r_QoomcbvAw"
   },
   "outputs": [
    {
     "name": "stdout",
     "output_type": "stream",
     "text": [
      "+---------+-------+---------------+---------------------+\n",
      "|   Index | ACP   | Sampling      | Model               |\n",
      "+=========+=======+===============+=====================+\n",
      "|       1 | True  | undersampling | SVC                 |\n",
      "+---------+-------+---------------+---------------------+\n",
      "|       2 | True  | undersampling | Random forest       |\n",
      "+---------+-------+---------------+---------------------+\n",
      "|       3 | True  | undersampling | Regression linéaire |\n",
      "+---------+-------+---------------+---------------------+\n",
      "|       4 | True  | undersampling | K Neighbors         |\n",
      "+---------+-------+---------------+---------------------+\n",
      "|       5 | True  | oversampling  | SVC                 |\n",
      "+---------+-------+---------------+---------------------+\n",
      "|       6 | True  | oversampling  | Random forest       |\n",
      "+---------+-------+---------------+---------------------+\n",
      "|       7 | True  | oversampling  | Regression linéaire |\n",
      "+---------+-------+---------------+---------------------+\n",
      "|       8 | True  | oversampling  | K Neighbors         |\n",
      "+---------+-------+---------------+---------------------+\n",
      "|       9 | False | undersampling | SVC                 |\n",
      "+---------+-------+---------------+---------------------+\n",
      "|      10 | False | undersampling | Random forest       |\n",
      "+---------+-------+---------------+---------------------+\n",
      "|      11 | False | undersampling | Regression linéaire |\n",
      "+---------+-------+---------------+---------------------+\n",
      "|      12 | False | undersampling | K Neighbors         |\n",
      "+---------+-------+---------------+---------------------+\n",
      "|      13 | False | oversampling  | SVC                 |\n",
      "+---------+-------+---------------+---------------------+\n",
      "|      14 | False | oversampling  | Random forest       |\n",
      "+---------+-------+---------------+---------------------+\n",
      "|      15 | False | oversampling  | Regression linéaire |\n",
      "+---------+-------+---------------+---------------------+\n",
      "|      16 | False | oversampling  | K Neighbors         |\n",
      "+---------+-------+---------------+---------------------+\n"
     ]
    }
   ],
   "source": [
    "######################################\n",
    "### DEFINITION DES 16 COMBINAISONS ###\n",
    "######################################\n",
    "# Stocker les résultats des combinaisons dans un tableau récapitulatif\n",
    "results_summary = []\n",
    "\n",
    "# Définir les options pour les combinaisons\n",
    "acp_options = [True, False]\n",
    "sampling_options = ['undersampling', 'oversampling']\n",
    "model_options = ['SVC', 'Random forest', 'Regression linéaire', 'K Neighbors']\n",
    "\n",
    "# Générer toutes les combinaisons possibles\n",
    "combinations = list(itertools.product(acp_options, sampling_options, model_options))\n",
    "\n",
    "# Afficher les combinaisons dans un tableau\n",
    "table_data = [(index + 1, *combo) for index, combo in enumerate(combinations)]\n",
    "headers = ['Index', 'ACP', 'Sampling', 'Model']\n",
    "\n",
    "print(tabulate(table_data, headers=headers, tablefmt='grid'))"
   ]
  },
  {
   "cell_type": "code",
   "execution_count": null,
   "metadata": {},
   "outputs": [],
   "source": [
    "######################################\n",
    "### EVALUATION DES 16 COMBINAISONS ###\n",
    "######################################\n",
    "# Définir la fonction apply_pca\n",
    "def apply_pca(X):\n",
    "    pca = PCA(n_components=2)  # Nous avions déjà calculé dans un autre modèle avec 2 composantes principales\n",
    "    return pca.fit_transform(X)\n",
    "\n",
    "# Fonction pour entraîner le modèle et afficher les résultats\n",
    "def train_and_evaluate_model(X_train, X_test, y_train, y_test, model_name, sampling_type, use_pca=False):\n",
    "    if use_pca:\n",
    "        X_train = apply_pca(X_train)\n",
    "        X_test = apply_pca(X_test)\n",
    "\n",
    "    if model_name == 'SVC':\n",
    "        model = SVC()\n",
    "    elif model_name == 'Random forest':\n",
    "        model = RandomForestClassifier()\n",
    "    elif model_name == 'Regression linéaire':\n",
    "        model = LogisticRegression()\n",
    "    elif model_name == 'K Neighbors':\n",
    "        model = KNeighborsClassifier()\n",
    "\n",
    "    if sampling_type == 'undersampling':\n",
    "        sampler = RandomUnderSampler()\n",
    "        X_resampled, y_resampled = sampler.fit_resample(X_train, y_train)\n",
    "    elif sampling_type == 'oversampling':\n",
    "        sampler = RandomOverSampler()\n",
    "        X_resampled, y_resampled = sampler.fit_resample(X_train, y_train)\n",
    "\n",
    "    model.fit(X_resampled, y_resampled)\n",
    "    y_pred = model.predict(X_test)\n",
    "    conf_matrix = confusion_matrix(y_test, y_pred)\n",
    "    class_report = classification_report(y_test, y_pred)\n",
    "    return conf_matrix, class_report\n",
    "\n",
    "# Parcourir toutes les combinaisons\n",
    "results_summary = []\n",
    "for idx, combination in enumerate(combinations, start=1):\n",
    "    acp, sampling, model = combination\n",
    "\n",
    "    conf_matrix, class_report = train_and_evaluate_model(X_train, X_test, y_train, y_test, model, sampling, use_pca=acp)\n",
    "\n",
    "    results_summary.append({\n",
    "        \"Combinaison\": idx,\n",
    "        \"ACP\": \"Avec\" if acp else \"Sans\",\n",
    "        \"Sampling\": sampling,\n",
    "        \"Modèle\": model,\n",
    "        \"Matrice de confusion\": conf_matrix,\n",
    "        \"Rapport de classification\": class_report\n",
    "    })\n",
    "\n",
    "# Afficher les combinaisons et résultats\n",
    "table = []\n",
    "for result in results_summary:\n",
    "    table.append([\n",
    "        result[\"Combinaison\"],\n",
    "        result[\"ACP\"],\n",
    "        result[\"Sampling\"],\n",
    "        result[\"Modèle\"],\n",
    "        result[\"Matrice de confusion\"],\n",
    "        result[\"Rapport de classification\"]\n",
    "    ])\n",
    "\n",
    "headers = [\"Combinaison\", \"ACP\", \"Sampling\", \"Modèle\", \"Matrice de confusion\", \"Rapport de classification\"]\n",
    "\n",
    "print(\"\\n####################################\")\n",
    "print(\"### EVALUATION DES 16 COMBINAISONS ###\")\n",
    "print(\"####################################\")\n",
    "print(\"start = time.time()\")\n",
    "print(\"################################################################################################9898989898989898989898989898989898\")\n",
    "\n",
    "print(tabulate(table, headers=headers, tablefmt=\"fancy_grid\"))\n"
   ]
  },
  {
   "cell_type": "code",
   "execution_count": null,
   "metadata": {
    "colab": {
     "base_uri": "https://localhost:8080/",
     "height": 607
    },
    "id": "U9gtGwVHXIhm",
    "outputId": "21c10351-8bb3-42a4-ab4d-8f82fb3728bb"
   },
   "outputs": [
    {
     "data": {
      "image/png": "[encoded data removed]",
      "text/plain": [
       "<Figure size 1200x600 with 1 Axes>"
      ]
     },
     "metadata": {},
     "output_type": "display_data"
    }
   ],
   "source": [
    "###################################################\n",
    "### GRAPHIQUE POUR COMPARER LES 16 COMPOSITIONS ###\n",
    "###################################################\n",
    "# Extraire l'accuracy des rapports de classification pour chaque combinaison\n",
    "accuracies = [float(result[\"Rapport de classification\"].split()[-2]) for result in results_summary]\n",
    "\n",
    "# Trouver l'index de la meilleure composition (maximum de l'accuracy)\n",
    "best_index = accuracies.index(max(accuracies))\n",
    "\n",
    "# Extraire les noms des modèles et les labels ACP-Sampling pour chaque combinaison\n",
    "labels = [f\"{result['Modèle']} - {result['ACP']} - {result['Sampling']}\" for result in results_summary]\n",
    "\n",
    "# Créer un graphique bar pour comparer les accuracy\n",
    "plt.figure(figsize=(12, 6))\n",
    "plt.bar(labels, accuracies, color='skyblue')\n",
    "plt.xlabel('Combinaison Modèle - ACP - Sampling')\n",
    "plt.ylabel('Accuracy')\n",
    "plt.title('Comparaison des Accuracies par Combinaison')\n",
    "plt.xticks(rotation=45, ha='right')\n",
    "plt.axhline(y=max(accuracies), color='r', linestyle='--', label=f'Meilleure Accuracy: {max(accuracies):.2f}')\n",
    "plt.legend()\n",
    "plt.tight_layout()\n",
    "\n",
    "# Annoter la barre avec la meilleure composition\n",
    "plt.text(best_index, accuracies[best_index], f'Meilleur\\n{max(accuracies):.2f}', ha='center', va='bottom')\n",
    "\n",
    "# Afficher le graphique\n",
    "plt.show()"
   ]
  },
  {
   "cell_type": "markdown",
   "metadata": {},
   "source": [
    "**5. ENTRAÎNEMENT DE LA MEILLEURE COMBINAISON**"
   ]
  },
  {
   "cell_type": "code",
   "execution_count": 19,
   "metadata": {},
   "outputs": [],
   "source": [
    "# Meilleures combinaisons : \n",
    "# 1) Sans PCA, Oversampling, Régression Linéaire\n",
    "# 2) Sans PCA, Undersampling, Régression Linéaire\n",
    "# 3) Sans PCA, Undersampling, SVC"
   ]
  },
  {
   "cell_type": "markdown",
   "metadata": {},
   "source": [
    "*1) MODELE 1 : Oversampling / Régression Linéaire*"
   ]
  },
  {
   "cell_type": "code",
   "execution_count": 9,
   "metadata": {},
   "outputs": [
    {
     "name": "stdout",
     "output_type": "stream",
     "text": [
      "X_train_stem = (55394, 1101)\n",
      "y_train_stem = (55394,)\n",
      "X_test_stem = (13849, 1101)\n",
      "y_test_stem = (13849,)\n",
      "Classes échantillon oversampled stemming : {5: 33396, 4: 33396, 1: 33396, 3: 33396, 2: 33396}\n"
     ]
    }
   ],
   "source": [
    "# Target / Features\n",
    "X_stem = df.drop('y', axis = 1).to_numpy()\n",
    "y_stem = df['y'].to_numpy()\n",
    "\n",
    "# Train_Test_Split\n",
    "X_train_stem, X_test_stem, y_train_stem, y_test_stem = model_selection.train_test_split(X_stem, y_stem, test_size=0.2, random_state = 42)\n",
    "\n",
    "# Vérification shape\n",
    "print (\"X_train_stem =\", X_train_stem.shape)\n",
    "print (\"y_train_stem =\", y_train_stem.shape)\n",
    "print (\"X_test_stem =\", X_test_stem.shape)\n",
    "print (\"y_test_stem =\", y_test_stem.shape)\n",
    "\n",
    "# Oversampling\n",
    "rOs = RandomOverSampler(random_state = 42)\n",
    "X_ro_stem, y_ro_stem = rOs.fit_resample(X_train_stem, y_train_stem)\n",
    "print('Classes échantillon oversampled stemming :', dict(pd.Series(y_ro_stem).value_counts()))"
   ]
  },
  {
   "cell_type": "code",
   "execution_count": 10,
   "metadata": {},
   "outputs": [
    {
     "name": "stdout",
     "output_type": "stream",
     "text": [
      "Score du modèle : 0.46075528919055525\n",
      "                   pre       rec       spe        f1       geo       iba       sup\n",
      "\n",
      "          1       0.45      0.58      0.91      0.51      0.72      0.51      1647\n",
      "          2       0.07      0.26      0.89      0.11      0.48      0.22       405\n",
      "          3       0.14      0.35      0.87      0.19      0.55      0.29       764\n",
      "          4       0.28      0.30      0.82      0.29      0.49      0.23      2688\n",
      "          5       0.79      0.51      0.79      0.62      0.64      0.39      8345\n",
      "\n",
      "avg / total       0.59      0.46      0.82      0.50      0.61      0.36     13849\n",
      "\n"
     ]
    },
    {
     "data": {
      "text/html": [
       "<div>\n",
       "<style scoped>\n",
       "    .dataframe tbody tr th:only-of-type {\n",
       "        vertical-align: middle;\n",
       "    }\n",
       "\n",
       "    .dataframe tbody tr th {\n",
       "        vertical-align: top;\n",
       "    }\n",
       "\n",
       "    .dataframe thead th {\n",
       "        text-align: right;\n",
       "    }\n",
       "</style>\n",
       "<table border=\"1\" class=\"dataframe\">\n",
       "  <thead>\n",
       "    <tr style=\"text-align: right;\">\n",
       "      <th>Classe prédite</th>\n",
       "      <th>1</th>\n",
       "      <th>2</th>\n",
       "      <th>3</th>\n",
       "      <th>4</th>\n",
       "      <th>5</th>\n",
       "    </tr>\n",
       "    <tr>\n",
       "      <th>Classe réelle</th>\n",
       "      <th></th>\n",
       "      <th></th>\n",
       "      <th></th>\n",
       "      <th></th>\n",
       "      <th></th>\n",
       "    </tr>\n",
       "  </thead>\n",
       "  <tbody>\n",
       "    <tr>\n",
       "      <th>1</th>\n",
       "      <td>954</td>\n",
       "      <td>290</td>\n",
       "      <td>184</td>\n",
       "      <td>80</td>\n",
       "      <td>139</td>\n",
       "    </tr>\n",
       "    <tr>\n",
       "      <th>2</th>\n",
       "      <td>108</td>\n",
       "      <td>106</td>\n",
       "      <td>102</td>\n",
       "      <td>46</td>\n",
       "      <td>43</td>\n",
       "    </tr>\n",
       "    <tr>\n",
       "      <th>3</th>\n",
       "      <td>104</td>\n",
       "      <td>167</td>\n",
       "      <td>265</td>\n",
       "      <td>136</td>\n",
       "      <td>92</td>\n",
       "    </tr>\n",
       "    <tr>\n",
       "      <th>4</th>\n",
       "      <td>237</td>\n",
       "      <td>295</td>\n",
       "      <td>478</td>\n",
       "      <td>804</td>\n",
       "      <td>874</td>\n",
       "    </tr>\n",
       "    <tr>\n",
       "      <th>5</th>\n",
       "      <td>697</td>\n",
       "      <td>704</td>\n",
       "      <td>925</td>\n",
       "      <td>1767</td>\n",
       "      <td>4252</td>\n",
       "    </tr>\n",
       "  </tbody>\n",
       "</table>\n",
       "</div>"
      ],
      "text/plain": [
       "Classe prédite    1    2    3     4     5\n",
       "Classe réelle                            \n",
       "1               954  290  184    80   139\n",
       "2               108  106  102    46    43\n",
       "3               104  167  265   136    92\n",
       "4               237  295  478   804   874\n",
       "5               697  704  925  1767  4252"
      ]
     },
     "metadata": {},
     "output_type": "display_data"
    }
   ],
   "source": [
    "# Entraîner un modèle de Régression Linéaire\n",
    "clf_lr_over = LogisticRegression(random_state=42)\n",
    "clf_lr_over.fit(X_ro_stem, y_ro_stem)\n",
    "y_pred_stem = clf_lr_over.predict(X_test_stem)\n",
    "score = clf_lr_over.score(X_test_stem, y_test_stem)\n",
    "\n",
    "# Performances\n",
    "print(\"Score du modèle :\", score)\n",
    "print(classification_report_imbalanced(y_test_stem, y_pred_stem))\n",
    "confusion_matrix = pd.crosstab(y_test_stem, y_pred_stem, rownames=['Classe réelle'], colnames=['Classe prédite'])\n",
    "display(confusion_matrix)"
   ]
  },
  {
   "cell_type": "code",
   "execution_count": 11,
   "metadata": {},
   "outputs": [
    {
     "data": {
      "text/plain": [
       "['best_model1_clf_lr_over.pkl']"
      ]
     },
     "execution_count": 11,
     "metadata": {},
     "output_type": "execute_result"
    }
   ],
   "source": [
    "# Enregistrement du modèle\n",
    "joblib.dump(clf_lr_over, '5.b) best_model1_clf_lr_over.pkl')"
   ]
  },
  {
   "cell_type": "markdown",
   "metadata": {},
   "source": [
    "*2) MODELE 2 : Undersampling / Régression Linéaire*"
   ]
  },
  {
   "cell_type": "code",
   "execution_count": 12,
   "metadata": {},
   "outputs": [
    {
     "name": "stdout",
     "output_type": "stream",
     "text": [
      "Classes échantillon undersampled stemming : {1: 1406, 2: 1406, 3: 1406, 4: 1406, 5: 1406}\n"
     ]
    }
   ],
   "source": [
    "# Undersampling\n",
    "rUs = RandomUnderSampler(random_state=42)\n",
    "X_ru_stem, y_ru_stem = rUs.fit_resample(X_train_stem, y_train_stem)\n",
    "print('Classes échantillon undersampled stemming :', dict(pd.Series(y_ru_stem).value_counts()))"
   ]
  },
  {
   "cell_type": "code",
   "execution_count": 14,
   "metadata": {},
   "outputs": [
    {
     "name": "stdout",
     "output_type": "stream",
     "text": [
      "Score du modèle : 0.4483356199003538\n",
      "                   pre       rec       spe        f1       geo       iba       sup\n",
      "\n",
      "          1       0.46      0.55      0.91      0.50      0.71      0.49      1647\n",
      "          2       0.08      0.32      0.89      0.13      0.53      0.27       405\n",
      "          3       0.13      0.31      0.88      0.19      0.53      0.26       764\n",
      "          4       0.26      0.30      0.80      0.28      0.49      0.23      2688\n",
      "          5       0.77      0.49      0.78      0.60      0.62      0.37      8345\n",
      "\n",
      "avg / total       0.58      0.45      0.81      0.49      0.60      0.35     13849\n",
      "\n"
     ]
    },
    {
     "data": {
      "text/html": [
       "<div>\n",
       "<style scoped>\n",
       "    .dataframe tbody tr th:only-of-type {\n",
       "        vertical-align: middle;\n",
       "    }\n",
       "\n",
       "    .dataframe tbody tr th {\n",
       "        vertical-align: top;\n",
       "    }\n",
       "\n",
       "    .dataframe thead th {\n",
       "        text-align: right;\n",
       "    }\n",
       "</style>\n",
       "<table border=\"1\" class=\"dataframe\">\n",
       "  <thead>\n",
       "    <tr style=\"text-align: right;\">\n",
       "      <th>Classe prédite</th>\n",
       "      <th>1</th>\n",
       "      <th>2</th>\n",
       "      <th>3</th>\n",
       "      <th>4</th>\n",
       "      <th>5</th>\n",
       "    </tr>\n",
       "    <tr>\n",
       "      <th>Classe réelle</th>\n",
       "      <th></th>\n",
       "      <th></th>\n",
       "      <th></th>\n",
       "      <th></th>\n",
       "      <th></th>\n",
       "    </tr>\n",
       "  </thead>\n",
       "  <tbody>\n",
       "    <tr>\n",
       "      <th>1</th>\n",
       "      <td>910</td>\n",
       "      <td>316</td>\n",
       "      <td>166</td>\n",
       "      <td>113</td>\n",
       "      <td>142</td>\n",
       "    </tr>\n",
       "    <tr>\n",
       "      <th>2</th>\n",
       "      <td>98</td>\n",
       "      <td>130</td>\n",
       "      <td>93</td>\n",
       "      <td>40</td>\n",
       "      <td>44</td>\n",
       "    </tr>\n",
       "    <tr>\n",
       "      <th>3</th>\n",
       "      <td>102</td>\n",
       "      <td>188</td>\n",
       "      <td>240</td>\n",
       "      <td>131</td>\n",
       "      <td>103</td>\n",
       "    </tr>\n",
       "    <tr>\n",
       "      <th>4</th>\n",
       "      <td>214</td>\n",
       "      <td>323</td>\n",
       "      <td>431</td>\n",
       "      <td>812</td>\n",
       "      <td>908</td>\n",
       "    </tr>\n",
       "    <tr>\n",
       "      <th>5</th>\n",
       "      <td>674</td>\n",
       "      <td>703</td>\n",
       "      <td>882</td>\n",
       "      <td>1969</td>\n",
       "      <td>4117</td>\n",
       "    </tr>\n",
       "  </tbody>\n",
       "</table>\n",
       "</div>"
      ],
      "text/plain": [
       "Classe prédite    1    2    3     4     5\n",
       "Classe réelle                            \n",
       "1               910  316  166   113   142\n",
       "2                98  130   93    40    44\n",
       "3               102  188  240   131   103\n",
       "4               214  323  431   812   908\n",
       "5               674  703  882  1969  4117"
      ]
     },
     "metadata": {},
     "output_type": "display_data"
    }
   ],
   "source": [
    "# Entraîner un modèle de Régression Linéaire\n",
    "from sklearn.linear_model import LogisticRegression\n",
    "clf_lr_under = LogisticRegression(random_state=42)\n",
    "clf_lr_under.fit(X_ru_stem, y_ru_stem)\n",
    "y_pred_stem = clf_lr_under.predict(X_test_stem)\n",
    "score = clf_lr_under.score(X_test_stem, y_test_stem)\n",
    "\n",
    "# Performances\n",
    "print(\"Score du modèle :\", score)\n",
    "print(classification_report_imbalanced(y_test_stem, y_pred_stem))\n",
    "confusion_matrix = pd.crosstab(y_test_stem, y_pred_stem, rownames=['Classe réelle'], colnames=['Classe prédite'])\n",
    "display(confusion_matrix)"
   ]
  },
  {
   "cell_type": "code",
   "execution_count": 15,
   "metadata": {},
   "outputs": [
    {
     "data": {
      "text/plain": [
       "['best_model1_clf_lr_under.pkl']"
      ]
     },
     "execution_count": 15,
     "metadata": {},
     "output_type": "execute_result"
    }
   ],
   "source": [
    "# Enregistrement du modèle\n",
    "joblib.dump(clf_lr_under, '5.b) best_model1_clf_lr_under.pkl')"
   ]
  },
  {
   "cell_type": "markdown",
   "metadata": {},
   "source": [
    "*3) MODELE 3 : Undersampling / SVC*"
   ]
  },
  {
   "cell_type": "code",
   "execution_count": 16,
   "metadata": {},
   "outputs": [
    {
     "name": "stdout",
     "output_type": "stream",
     "text": [
      "Classes échantillon undersampled stemming : {1: 1406, 2: 1406, 3: 1406, 4: 1406, 5: 1406}\n"
     ]
    }
   ],
   "source": [
    "# Undersampling\n",
    "rUs = RandomUnderSampler(random_state=42)\n",
    "X_ru_stem, y_ru_stem = rUs.fit_resample(X_train_stem, y_train_stem)\n",
    "print('Classes échantillon undersampled stemming :', dict(pd.Series(y_ru_stem).value_counts()))"
   ]
  },
  {
   "cell_type": "code",
   "execution_count": 21,
   "metadata": {},
   "outputs": [
    {
     "name": "stdout",
     "output_type": "stream",
     "text": [
      "Score du modèle : 0.4571449202108456\n",
      "              precision    recall  f1-score   support\n",
      "\n",
      "           1       0.36      0.56      0.44      1647\n",
      "           2       0.06      0.19      0.09       405\n",
      "           3       0.09      0.20      0.13       764\n",
      "           4       0.25      0.19      0.22      2688\n",
      "           5       0.74      0.56      0.64      8345\n",
      "\n",
      "    accuracy                           0.46     13849\n",
      "   macro avg       0.30      0.34      0.30     13849\n",
      "weighted avg       0.54      0.46      0.49     13849\n",
      "\n"
     ]
    },
    {
     "data": {
      "text/html": [
       "<div>\n",
       "<style scoped>\n",
       "    .dataframe tbody tr th:only-of-type {\n",
       "        vertical-align: middle;\n",
       "    }\n",
       "\n",
       "    .dataframe tbody tr th {\n",
       "        vertical-align: top;\n",
       "    }\n",
       "\n",
       "    .dataframe thead th {\n",
       "        text-align: right;\n",
       "    }\n",
       "</style>\n",
       "<table border=\"1\" class=\"dataframe\">\n",
       "  <thead>\n",
       "    <tr style=\"text-align: right;\">\n",
       "      <th>Classe prédite</th>\n",
       "      <th>1</th>\n",
       "      <th>2</th>\n",
       "      <th>3</th>\n",
       "      <th>4</th>\n",
       "      <th>5</th>\n",
       "    </tr>\n",
       "    <tr>\n",
       "      <th>Classe réelle</th>\n",
       "      <th></th>\n",
       "      <th></th>\n",
       "      <th></th>\n",
       "      <th></th>\n",
       "      <th></th>\n",
       "    </tr>\n",
       "  </thead>\n",
       "  <tbody>\n",
       "    <tr>\n",
       "      <th>1</th>\n",
       "      <td>930</td>\n",
       "      <td>142</td>\n",
       "      <td>179</td>\n",
       "      <td>110</td>\n",
       "      <td>286</td>\n",
       "    </tr>\n",
       "    <tr>\n",
       "      <th>2</th>\n",
       "      <td>141</td>\n",
       "      <td>78</td>\n",
       "      <td>79</td>\n",
       "      <td>36</td>\n",
       "      <td>71</td>\n",
       "    </tr>\n",
       "    <tr>\n",
       "      <th>3</th>\n",
       "      <td>192</td>\n",
       "      <td>164</td>\n",
       "      <td>154</td>\n",
       "      <td>80</td>\n",
       "      <td>174</td>\n",
       "    </tr>\n",
       "    <tr>\n",
       "      <th>4</th>\n",
       "      <td>398</td>\n",
       "      <td>294</td>\n",
       "      <td>374</td>\n",
       "      <td>512</td>\n",
       "      <td>1110</td>\n",
       "    </tr>\n",
       "    <tr>\n",
       "      <th>5</th>\n",
       "      <td>958</td>\n",
       "      <td>578</td>\n",
       "      <td>857</td>\n",
       "      <td>1295</td>\n",
       "      <td>4657</td>\n",
       "    </tr>\n",
       "  </tbody>\n",
       "</table>\n",
       "</div>"
      ],
      "text/plain": [
       "Classe prédite    1    2    3     4     5\n",
       "Classe réelle                            \n",
       "1               930  142  179   110   286\n",
       "2               141   78   79    36    71\n",
       "3               192  164  154    80   174\n",
       "4               398  294  374   512  1110\n",
       "5               958  578  857  1295  4657"
      ]
     },
     "metadata": {},
     "output_type": "display_data"
    }
   ],
   "source": [
    "# Entraîner un modèle SVC\n",
    "clf_svc_under = SVC(random_state=42)\n",
    "clf_svc_under.fit(X_ru_stem, y_ru_stem)\n",
    "y_pred_stem = clf_svc_under.predict(X_test_stem)\n",
    "score = clf_svc_under.score(X_test_stem, y_test_stem)\n",
    "\n",
    "# Performances\n",
    "print(\"Score du modèle :\", score)\n",
    "print(classification_report(y_test_stem, y_pred_stem))\n",
    "confusion_matrix = pd.crosstab(y_test_stem, y_pred_stem, rownames=['Classe réelle'], colnames=['Classe prédite'])\n",
    "display(confusion_matrix)"
   ]
  },
  {
   "cell_type": "code",
   "execution_count": 22,
   "metadata": {},
   "outputs": [
    {
     "data": {
      "text/plain": [
       "['best_model1_clf_svc_under.pkl']"
      ]
     },
     "execution_count": 22,
     "metadata": {},
     "output_type": "execute_result"
    }
   ],
   "source": [
    "# Enregistrement du modèle\n",
    "joblib.dump(clf_rf_under, '5.b) best_model1_clf_svc_under.pkl')"
   ]
  }
 ],
 "metadata": {
  "colab": {
   "provenance": []
  },
  "kernelspec": {
   "display_name": "Python 3 (ipykernel)",
   "language": "python",
   "name": "python3"
  },
  "language_info": {
   "codemirror_mode": {
    "name": "ipython",
    "version": 3
   },
   "file_extension": ".py",
   "mimetype": "text/x-python",
   "name": "python",
   "nbconvert_exporter": "python",
   "pygments_lexer": "ipython3",
   "version": "3.11.9"
  }
 },
 "nbformat": 4,
 "nbformat_minor": 4
}
